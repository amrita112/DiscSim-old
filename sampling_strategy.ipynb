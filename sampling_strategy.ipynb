{
 "cells": [
  {
   "cell_type": "markdown",
   "id": "ce8f19c4-3a81-488a-9ce3-b6b1519ead9f",
   "metadata": {},
   "source": [
    "# Imports"
   ]
  },
  {
   "cell_type": "code",
   "execution_count": 2,
   "id": "1aebd744-98c4-410a-8ee9-3be0cebb7818",
   "metadata": {},
   "outputs": [],
   "source": [
    "# General modules\n",
    "import matplotlib.pyplot as plt\n",
    "import numpy as np\n",
    "import pandas as pd\n",
    "from os.path import sep\n",
    "from tqdm import tqdm\n",
    "\n",
    "# Enable re-load of local modules every time they are called\n",
    "%load_ext autoreload\n",
    "%autoreload 2\n",
    "%aimport numpy \n",
    "%aimport pandas"
   ]
  },
  {
   "cell_type": "markdown",
   "id": "43d9e732-1a77-4725-8c90-4c0871d9cf7a",
   "metadata": {},
   "source": [
    "# Load data"
   ]
  },
  {
   "cell_type": "markdown",
   "id": "2e85ed6e-a4db-446d-9423-c2286f6d08e7",
   "metadata": {
    "tags": []
   },
   "source": [
    "## Teacher data"
   ]
  },
  {
   "cell_type": "code",
   "execution_count": 46,
   "id": "ffda7ebd-7e26-4c1d-a00f-362f1a0d27af",
   "metadata": {},
   "outputs": [
    {
     "name": "stdout",
     "output_type": "stream",
     "text": [
      "The following variables were found in this dataset:\n",
      "    identifier\n",
      "    student_id\n",
      "    Subject\n",
      "    1st question Level\n",
      "    1st level score\n",
      "    2nd question Level\n",
      "    2nd level score\n",
      "    3rd question Level\n",
      "    3rd level score\n",
      "    Cluster ID\n",
      "    School ID\n",
      "    district\n",
      "    Teacher User ID\n",
      "    class\n",
      "    baseline\n",
      "    Student Identifier\n"
     ]
    }
   ],
   "source": [
    "home_folder = 'Documents{0}CEGIS{0}DiscSim'.format(sep)\n",
    "filename = 'ee_data.csv'\n",
    "\n",
    "teacher_data = pd.read_csv(filename) # Read data from the excel sheet\n",
    "teacher_variables = data.columns       # Each column is a single variable measured, this gives the names of columns\n",
    "teacher_n_variables = len(variables)\n",
    "\n",
    "print('The following variables were found in this dataset:')\n",
    "for v in teacher_variables:\n",
    "    print('    {0}'.format(v))"
   ]
  },
  {
   "cell_type": "markdown",
   "id": "2ff00bc8-23c7-4e1c-82e0-2ef5803a6f5f",
   "metadata": {
    "tags": []
   },
   "source": [
    "## Supervisor data"
   ]
  },
  {
   "cell_type": "code",
   "execution_count": 74,
   "id": "bc90d6ba-210a-4272-86cd-45dfbcec0cae",
   "metadata": {},
   "outputs": [
    {
     "name": "stdout",
     "output_type": "stream",
     "text": [
      "The following variables were found in this dataset:\n",
      "    UID\n",
      "    district\n",
      "    block id\n",
      "    cluster id\n",
      "    Student Identifier\n",
      "    school id\n",
      "    subject\n",
      "    class\n",
      "    baseline\n",
      "    1st question Level\n",
      "    1st level score\n",
      "    2nd question Level\n",
      "    2nd level score\n",
      "    3rd question Level\n",
      "    3rd level score\n",
      "    Admin User ID\n"
     ]
    }
   ],
   "source": [
    "home_folder = 'Documents{0}CEGIS{0}DiscSim'.format(sep)\n",
    "filename = 'ee_ees_data.csv'.format(home_folder, sep)\n",
    "\n",
    "sup_data = pd.read_csv(filename) # Read data from the excel sheet\n",
    "sup_variables = sup_data.columns       # Each column is a single variable measured, this gives the names of columns\n",
    "sup_n_variables = len(sup_variables)\n",
    "\n",
    "print('The following variables were found in this dataset:')\n",
    "for v in sup_variables:\n",
    "    print('    {0}'.format(v))"
   ]
  },
  {
   "cell_type": "markdown",
   "id": "734a8dc7-8133-4889-a92a-360d86f29a56",
   "metadata": {},
   "source": [
    "# Calculate discrepancy"
   ]
  },
  {
   "cell_type": "markdown",
   "id": "557e113a-ee0d-41e1-af46-2940f9d85309",
   "metadata": {
    "jp-MarkdownHeadingCollapsed": true,
    "tags": []
   },
   "source": [
    "## Select all samples for a given teacher"
   ]
  },
  {
   "cell_type": "code",
   "execution_count": 59,
   "id": "9f037480-9797-403c-a8f0-3da6700a5483",
   "metadata": {},
   "outputs": [
    {
     "name": "stdout",
     "output_type": "stream",
     "text": [
      "1920 teacher IDs found\n"
     ]
    }
   ],
   "source": [
    "teacher_ids = np.unique(list(teacher_data['Teacher User ID']))\n",
    "n_teachers = len(teacher_ids)\n",
    "print('{0} teacher IDs found'.format(n_teachers))\n",
    "\n",
    "row_nos_per_teacher = {teacher_id: np.where(list(teacher_data['Teacher User ID']) == teacher_id)[0] for teacher_id in teacher_ids}\n",
    "n_rows_per_teacher = [len(key) for key in list(row_nos_per_teacher.keys())]\n",
    "\n",
    "n_rows_per_teacher = [len(v) for v in list(row_nos_per_teacher.values())]\n",
    "plt.figure()\n",
    "plt.hist(n_rows_per_teacher, 50, color = 'k')\n",
    "plt.xlabel('Number of rows per teacher')\n",
    "plt.ylabel('Number of teachers')"
   ]
  },
  {
   "cell_type": "code",
   "execution_count": 66,
   "id": "27ddcec7-c2bf-4f6e-93f9-639bda783c1b",
   "metadata": {},
   "outputs": [
    {
     "data": {
      "text/plain": [
       "Text(0, 0.5, 'Number of teachers')"
      ]
     },
     "execution_count": 66,
     "metadata": {},
     "output_type": "execute_result"
    },
    {
     "data": {
      "image/png": "[encoded data removed]",
      "text/plain": [
       "<Figure size 432x288 with 1 Axes>"
      ]
     },
     "metadata": {
      "needs_background": "light"
     },
     "output_type": "display_data"
    }
   ],
   "source": []
  },
  {
   "cell_type": "markdown",
   "id": "47ece6e1-3b30-4d56-9531-deaddd7045b4",
   "metadata": {
    "tags": []
   },
   "source": [
    "## Fetch supervisor entries for each teacher"
   ]
  },
  {
   "cell_type": "code",
   "execution_count": 95,
   "id": "e962d2d4-1217-405d-ab4c-c71223e46dd0",
   "metadata": {},
   "outputs": [
    {
     "name": "stderr",
     "output_type": "stream",
     "text": [
      "100%|█████████████████████████████████████| 1920/1920 [00:01<00:00, 1310.85it/s]\n"
     ]
    },
    {
     "data": {
      "text/plain": [
       "Text(0, 0.5, 'Number of teachers')"
      ]
     },
     "execution_count": 95,
     "metadata": {},
     "output_type": "execute_result"
    },
    {
     "data": {
      "image/png": "[encoded data removed]",
      "text/plain": [
       "<Figure size 432x288 with 1 Axes>"
      ]
     },
     "metadata": {
      "needs_background": "light"
     },
     "output_type": "display_data"
    }
   ],
   "source": [
    "teacher_student_ids = list(teacher_data['identifier'])\n",
    "student_ids_per_teacher = {teacher_id: [teacher_student_ids[row] for row in row_nos_per_teacher[teacher_id]] for teacher_id in teacher_ids}\n",
    "\n",
    "sup_student_ids = list(sup_data['UID'])\n",
    "sup_row_nos_per_teacher = {}\n",
    "n_rows_checked_per_teacher = np.zeros(n_teachers)\n",
    "n_errors = 0\n",
    "for teacher_id in tqdm(teacher_ids):\n",
    "    \n",
    "    sup_row_nos_per_teacher[teacher_id] = {}\n",
    "    n_rows_checked = 0\n",
    "    \n",
    "    student_ids = student_ids_per_teacher[teacher_id]\n",
    "    for student_id in student_ids:\n",
    "        sup_row_nos_per_teacher[teacher_id][student_id] = np.where(sup_student_ids == student_id)[0]\n",
    "        n_rows_checked += len(sup_row_nos_per_teacher[teacher_id][student_id])\n",
    "        \n",
    "    n_rows_checked_per_teacher[list(teacher_ids).index(teacher_id)] = n_rows_checked\n",
    "        \n",
    "assert(len(n_rows_checked_per_teacher) == n_teachers)\n",
    "plt.figure()\n",
    "plt.hist(np.divide(np.array(n_rows_checked_per_teacher), np.array(n_rows_per_teacher)), 50, color = 'k')\n",
    "plt.xlabel('Proportion of samples checked per teacher')\n",
    "plt.ylabel('Number of teachers')"
   ]
  },
  {
   "cell_type": "code",
   "execution_count": 97,
   "id": "90a6c65e-ba62-4bcb-a807-b15b55bbd205",
   "metadata": {},
   "outputs": [
    {
     "data": {
      "text/plain": [
       "{'027022713_2': array([], dtype=int64),\n",
       " '027368092_2': array([], dtype=int64),\n",
       " '027383497_2': array([], dtype=int64),\n",
       " '027383497_3': array([], dtype=int64)}"
      ]
     },
     "execution_count": 97,
     "metadata": {},
     "output_type": "execute_result"
    }
   ],
   "source": [
    "sup_row_nos_per_teacher[teacher_ids[0]]"
   ]
  },
  {
   "cell_type": "markdown",
   "id": "b10d7fca-a3d5-4bf4-92e8-eaea4466b1a5",
   "metadata": {},
   "source": [
    "## Calculate discrepancy"
   ]
  },
  {
   "cell_type": "code",
   "execution_count": null,
   "id": "6dcc65ff-fd48-4e93-9fb7-752678dacd45",
   "metadata": {},
   "outputs": [],
   "source": [
    "discrepancy = {}\n",
    "for teacher_id in teacher_ids:\n",
    "    if len(sup_row_nos_per_teacher[teacher_id]) > 0:\n",
    "        \n",
    "        discrepancy[teacher_id] = np.sum()/len(sup_row_nos_per_teacher[teacher_id])"
   ]
  },
  {
   "cell_type": "markdown",
   "id": "18a9e196-ecef-462b-971e-74fedd4415e8",
   "metadata": {
    "jp-MarkdownHeadingCollapsed": true,
    "tags": []
   },
   "source": [
    "# Random sampling"
   ]
  },
  {
   "cell_type": "code",
   "execution_count": 31,
   "id": "395ec6ef-1ad9-457a-9aac-9246c557d6d4",
   "metadata": {},
   "outputs": [
    {
     "name": "stdout",
     "output_type": "stream",
     "text": [
      "10291 student IDs\n"
     ]
    }
   ],
   "source": [
    "student_id = data.get('Student Identifier')\n",
    "n_students = len(np.unique(student_id.values))\n",
    "print('{0} student IDs'.format(n_students))"
   ]
  },
  {
   "cell_type": "code",
   "execution_count": 40,
   "id": "28ff2708-ef18-490a-983e-acbd7d5c858a",
   "metadata": {},
   "outputs": [
    {
     "data": {
      "text/plain": [
       "13577"
      ]
     },
     "execution_count": 40,
     "metadata": {},
     "output_type": "execute_result"
    }
   ],
   "source": [
    "len(student_id.values)"
   ]
  },
  {
   "cell_type": "code",
   "execution_count": null,
   "id": "8efb7ec6-4393-4fd3-a09f-1c91067a6cca",
   "metadata": {},
   "outputs": [],
   "source": []
  }
 ],
 "metadata": {
  "kernelspec": {
   "display_name": "discscsim",
   "language": "python",
   "name": "discscsim"
  },
  "language_info": {
   "codemirror_mode": {
    "name": "ipython",
    "version": 3
   },
   "file_extension": ".py",
   "mimetype": "text/x-python",
   "name": "python",
   "nbconvert_exporter": "python",
   "pygments_lexer": "ipython3",
   "version": "3.11.3"
  }
 },
 "nbformat": 4,
 "nbformat_minor": 5
}
