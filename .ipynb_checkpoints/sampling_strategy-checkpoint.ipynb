{
 "cells": [
  {
   "cell_type": "markdown",
   "id": "ce8f19c4-3a81-488a-9ce3-b6b1519ead9f",
   "metadata": {},
   "source": [
    "# Imports"
   ]
  },
  {
   "cell_type": "code",
   "execution_count": 2,
   "id": "1aebd744-98c4-410a-8ee9-3be0cebb7818",
   "metadata": {},
   "outputs": [],
   "source": [
    "# General modules\n",
    "import matplotlib.pyplot as plt\n",
    "import numpy as np\n",
    "import pandas as pd\n",
    "from os.path import sep\n",
    "from tqdm import tqdm\n",
    "\n",
    "# Enable re-load of local modules every time they are called\n",
    "%load_ext autoreload\n",
    "%autoreload 2\n",
    "%aimport numpy \n",
    "%aimport pandas"
   ]
  },
  {
   "cell_type": "markdown",
   "id": "43d9e732-1a77-4725-8c90-4c0871d9cf7a",
   "metadata": {},
   "source": [
    "# Load data"
   ]
  },
  {
   "cell_type": "markdown",
   "id": "2e85ed6e-a4db-446d-9423-c2286f6d08e7",
   "metadata": {
    "jp-MarkdownHeadingCollapsed": true,
    "tags": []
   },
   "source": [
    "## Teacher data"
   ]
  },
  {
   "cell_type": "code",
   "execution_count": 46,
   "id": "ffda7ebd-7e26-4c1d-a00f-362f1a0d27af",
   "metadata": {},
   "outputs": [
    {
     "name": "stdout",
     "output_type": "stream",
     "text": [
      "The following variables were found in this dataset:\n",
      "    identifier\n",
      "    student_id\n",
      "    Subject\n",
      "    1st question Level\n",
      "    1st level score\n",
      "    2nd question Level\n",
      "    2nd level score\n",
      "    3rd question Level\n",
      "    3rd level score\n",
      "    Cluster ID\n",
      "    School ID\n",
      "    district\n",
      "    Teacher User ID\n",
      "    class\n",
      "    baseline\n",
      "    Student Identifier\n"
     ]
    }
   ],
   "source": [
    "home_folder = 'Documents{0}CEGIS{0}DiscSim'.format(sep)\n",
    "filename = 'ee_data.csv'\n",
    "\n",
    "teacher_data = pd.read_csv(filename) # Read data from the excel sheet\n",
    "teacher_variables = data.columns       # Each column is a single variable measured, this gives the names of columns\n",
    "teacher_n_variables = len(variables)\n",
    "\n",
    "print('The following variables were found in this dataset:')\n",
    "for v in teacher_variables:\n",
    "    print('    {0}'.format(v))"
   ]
  },
  {
   "cell_type": "markdown",
   "id": "2ff00bc8-23c7-4e1c-82e0-2ef5803a6f5f",
   "metadata": {
    "jp-MarkdownHeadingCollapsed": true,
    "tags": []
   },
   "source": [
    "## Supervisor data"
   ]
  },
  {
   "cell_type": "code",
   "execution_count": 74,
   "id": "bc90d6ba-210a-4272-86cd-45dfbcec0cae",
   "metadata": {},
   "outputs": [
    {
     "name": "stdout",
     "output_type": "stream",
     "text": [
      "The following variables were found in this dataset:\n",
      "    UID\n",
      "    district\n",
      "    block id\n",
      "    cluster id\n",
      "    Student Identifier\n",
      "    school id\n",
      "    subject\n",
      "    class\n",
      "    baseline\n",
      "    1st question Level\n",
      "    1st level score\n",
      "    2nd question Level\n",
      "    2nd level score\n",
      "    3rd question Level\n",
      "    3rd level score\n",
      "    Admin User ID\n"
     ]
    }
   ],
   "source": [
    "home_folder = 'Documents{0}CEGIS{0}DiscSim'.format(sep)\n",
    "filename = 'ee_ees_data.csv'.format(home_folder, sep)\n",
    "\n",
    "sup_data = pd.read_csv(filename) # Read data from the excel sheet\n",
    "sup_variables = sup_data.columns       # Each column is a single variable measured, this gives the names of columns\n",
    "sup_n_variables = len(sup_variables)\n",
    "\n",
    "print('The following variables were found in this dataset:')\n",
    "for v in sup_variables:\n",
    "    print('    {0}'.format(v))"
   ]
  },
  {
   "cell_type": "markdown",
   "id": "734a8dc7-8133-4889-a92a-360d86f29a56",
   "metadata": {},
   "source": [
    "# Calculate discrepancy"
   ]
  },
  {
   "cell_type": "markdown",
   "id": "557e113a-ee0d-41e1-af46-2940f9d85309",
   "metadata": {
    "jp-MarkdownHeadingCollapsed": true,
    "tags": []
   },
   "source": [
    "## Select all samples for a given teacher"
   ]
  },
  {
   "cell_type": "code",
   "execution_count": 164,
   "id": "9f037480-9797-403c-a8f0-3da6700a5483",
   "metadata": {},
   "outputs": [
    {
     "name": "stdout",
     "output_type": "stream",
     "text": [
      "1920 teacher IDs found\n"
     ]
    },
    {
     "name": "stderr",
     "output_type": "stream",
     "text": [
      "100%|███████████████████████████████████████| 1920/1920 [01:00<00:00, 31.63it/s]\n"
     ]
    },
    {
     "data": {
      "text/plain": [
       "Text(0, 0.5, 'Number of teachers')"
      ]
     },
     "execution_count": 164,
     "metadata": {},
     "output_type": "execute_result"
    },
    {
     "data": {
      "image/png": "[encoded data removed]",
      "text/plain": [
       "<Figure size 432x288 with 1 Axes>"
      ]
     },
     "metadata": {
      "needs_background": "light"
     },
     "output_type": "display_data"
    }
   ],
   "source": [
    "teacher_ids = list(np.unique(list(teacher_data['Teacher User ID'])))\n",
    "n_teachers = len(teacher_ids)\n",
    "print('{0} teacher IDs found'.format(n_teachers))\n",
    "\n",
    "row_nos_per_teacher = {}\n",
    "n_rows_per_teacher = np.empty(n_teachers, dtype = int)\n",
    "\n",
    "i = 0\n",
    "for teacher_id in tqdm(teacher_ids):\n",
    "    row_nos_per_teacher[teacher_id] = np.where(list(teacher_data['Teacher User ID']) == teacher_id)[0]\n",
    "    n_rows_per_teacher[i] = len(row_nos_per_teacher[teacher_id])\n",
    "    i += 1\n",
    "\n",
    "n_rows_per_teacher = [len(v) for v in list(row_nos_per_teacher.values())]\n",
    "plt.figure()\n",
    "plt.hist(n_rows_per_teacher, 50, color = 'k')\n",
    "plt.xlabel('Number of rows per teacher')\n",
    "plt.ylabel('Number of teachers')"
   ]
  },
  {
   "cell_type": "code",
   "execution_count": 116,
   "id": "31088708-508e-499b-9565-b6352f72734f",
   "metadata": {},
   "outputs": [],
   "source": [
    "teacher_student_ids = list(teacher_data['identifier'])\n",
    "student_ids_per_teacher = {}\n",
    "\n",
    "for teacher_id in teacher_ids:\n",
    "    student_ids_per_teacher[teacher_id] = [teacher_student_ids[row] for row in row_nos_per_teacher[teacher_id]]\n",
    "\n",
    "n_student_ids_per_teacher = [len(np.unique(s)) for s in list(student_ids_per_teacher.values())]\n",
    "assert(n_student_ids_per_teacher == n_rows_per_teacher)"
   ]
  },
  {
   "cell_type": "markdown",
   "id": "47ece6e1-3b30-4d56-9531-deaddd7045b4",
   "metadata": {
    "tags": []
   },
   "source": [
    "## Fetch supervisor entries for each teacher"
   ]
  },
  {
   "cell_type": "code",
   "execution_count": 120,
   "id": "e962d2d4-1217-405d-ab4c-c71223e46dd0",
   "metadata": {},
   "outputs": [
    {
     "name": "stderr",
     "output_type": "stream",
     "text": [
      "100%|███████████████████████████████████████| 1920/1920 [00:45<00:00, 42.65it/s]\n"
     ]
    },
    {
     "data": {
      "text/plain": [
       "Text(0, 0.5, 'Number of teachers')"
      ]
     },
     "execution_count": 120,
     "metadata": {},
     "output_type": "execute_result"
    },
    {
     "data": {
      "image/png": "[encoded data removed]",
      "text/plain": [
       "<Figure size 432x288 with 1 Axes>"
      ]
     },
     "metadata": {
      "needs_background": "light"
     },
     "output_type": "display_data"
    }
   ],
   "source": [
    "sup_student_ids = list(sup_data['UID'])\n",
    "n_sup_student_ids = len(sup_student_ids)\n",
    "assert(len(np.unique(sup_student_ids)) == n_sup_student_ids)\n",
    "\n",
    "sup_row_nos_per_teacher = {teacher_id: {} for teacher_id in teacher_ids}\n",
    "n_rows_checked_per_teacher = np.zeros(n_teachers)\n",
    "\n",
    "for teacher_id in tqdm(teacher_ids):\n",
    "    \n",
    "    sup_row_nos_per_teacher[teacher_id] = [i for i in range(n_sup_student_ids) if sup_student_ids[i] in student_ids_per_teacher[teacher_id]]\n",
    "    n_rows_checked_per_teacher[list(teacher_ids).index(teacher_id)] = len(sup_row_nos_per_teacher[teacher_id])\n",
    "        \n",
    "assert(len(n_rows_checked_per_teacher) == n_teachers)\n",
    "plt.figure()\n",
    "plt.hist(np.divide(np.array(n_rows_checked_per_teacher), np.array(n_rows_per_teacher)), 50, color = 'k')\n",
    "plt.xlabel('Proportion of samples checked per teacher')\n",
    "plt.ylabel('Number of teachers')"
   ]
  },
  {
   "cell_type": "code",
   "execution_count": 122,
   "id": "049fc7be-b509-46ad-a6b7-0f1903dc81aa",
   "metadata": {},
   "outputs": [
    {
     "name": "stdout",
     "output_type": "stream",
     "text": [
      "1430 teachers have at least 1 samples checked\n",
      "1366 teachers have at least 2 samples checked\n",
      "1290 teachers have at least 3 samples checked\n",
      "1198 teachers have at least 4 samples checked\n",
      "1134 teachers have at least 5 samples checked\n",
      "1057 teachers have at least 6 samples checked\n",
      "1007 teachers have at least 7 samples checked\n",
      "936 teachers have at least 8 samples checked\n",
      "892 teachers have at least 9 samples checked\n",
      "855 teachers have at least 10 samples checked\n"
     ]
    }
   ],
   "source": [
    "for n_samples in range(1, 11):\n",
    "    \n",
    "    print('{0} teachers have at least {1} samples checked'.format(np.sum(n_rows_checked_per_teacher > n_samples), n_samples))"
   ]
  },
  {
   "cell_type": "markdown",
   "id": "b10d7fca-a3d5-4bf4-92e8-eaea4466b1a5",
   "metadata": {},
   "source": [
    "## Calculate discrepancy"
   ]
  },
  {
   "cell_type": "code",
   "execution_count": 177,
   "id": "6dcc65ff-fd48-4e93-9fb7-752678dacd45",
   "metadata": {},
   "outputs": [
    {
     "name": "stderr",
     "output_type": "stream",
     "text": [
      "100%|██████████████████████████████████████| 1920/1920 [00:02<00:00, 865.66it/s]\n"
     ]
    }
   ],
   "source": [
    "score_discrepancy = {}\n",
    "level_discrepancy = {}\n",
    "\n",
    "teacher_constants = ['Subject', 'class']\n",
    "sup_constants = ['subject', 'class']\n",
    "\n",
    "teacher_level_variables = ['1st question Level',  '2nd question Level', '3rd question Level', 'baseline']\n",
    "sup_level_variables = ['1st question Level', '2nd question Level', '3rd question Level', 'baseline']\n",
    "n_levels = len(teacher_level_variables)\n",
    "\n",
    "teacher_score_variables = ['1st level score', '2nd level score', '3rd level score']\n",
    "sup_score_variables = ['1st level score', '2nd level score', '3rd level score']\n",
    "n_scores = len(teacher_score_variables)\n",
    "\n",
    "for teacher_id in tqdm(teacher_ids):\n",
    "    \n",
    "    row_nos = list(row_nos_per_teacher[teacher_id])\n",
    "    student_ids = list(student_ids_per_teacher[teacher_id])\n",
    "    \n",
    "    sup_row_nos = list(sup_row_nos_per_teacher[teacher_id])\n",
    "    \n",
    "    if len(sup_row_nos) > 0:\n",
    "        \n",
    "        level_disc = np.empty(len(sup_row_nos), dtype = bool)\n",
    "        score_disc = np.empty(len(sup_row_nos), dtype = bool)\n",
    "        \n",
    "        for sup_row in sup_row_nos:\n",
    "            \n",
    "            student_id = sup_student_ids[sup_row]\n",
    "            teacher_row_no = row_nos[student_ids.index(student_id)]\n",
    "            for c in range(len(teacher_constants)):\n",
    "                assert(teacher_data[teacher_constants[c]][teacher_row_no] == sup_data[sup_constants[c]][sup_row])\n",
    "                \n",
    "            teacher_levels = [teacher_data[v][teacher_row_no] for v in teacher_level_variables]\n",
    "            teacher_scores = [teacher_data[v][teacher_row_no] for v in teacher_score_variables]\n",
    "            \n",
    "            sup_levels = [sup_data[v][sup_row] for v in sup_level_variables]\n",
    "            sup_scores = [sup_data[v][sup_row] for v in sup_score_variables]\n",
    "            \n",
    "            non_nan = [i for i in range(n_levels) if isinstance(teacher_levels[i], str)]\n",
    "            for i in non_nan:\n",
    "                \n",
    "                if level_disc[sup_row_nos.index(sup_row)] == 0:\n",
    "                    if not teacher_levels[i] == sup_levels[i]:\n",
    "                        level_disc[sup_row_nos.index(sup_row)] = 1\n",
    "                    \n",
    "            non_nan = [i for i in range(n_scores) if not np.isnan(teacher_scores[i])]\n",
    "            for i in non_nan:\n",
    "                if score_disc[sup_row_nos.index(sup_row)] == 0:\n",
    "                    if not teacher_score[i] == sup_score[i]:\n",
    "                        score_disc[sup_row_nos.index(sup_row)] = 1\n",
    "                    \n",
    "        level_discrepancy[teacher_id] = np.sum(level_disc)/len(sup_row_nos)\n",
    "        score_discrepancy[teacher_id] = np.sum(score_disc)/len(sup_row_nos)\n"
   ]
  },
  {
   "cell_type": "code",
   "execution_count": 183,
   "id": "8c506ec1-b0c2-41a7-8f47-5230869582f7",
   "metadata": {},
   "outputs": [
    {
     "data": {
      "text/plain": [
       "<matplotlib.legend.Legend at 0x149638b50>"
      ]
     },
     "execution_count": 183,
     "metadata": {},
     "output_type": "execute_result"
    },
    {
     "data": {
      "image/png": "[encoded data removed]",
      "text/plain": [
       "<Figure size 432x288 with 1 Axes>"
      ]
     },
     "metadata": {
      "needs_background": "light"
     },
     "output_type": "display_data"
    }
   ],
   "source": [
    "plt.figure()\n",
    "for n_samples in range(5, 11):\n",
    "    \n",
    "    teacher_ids_selected = [teacher_ids[i] for i in range(n_teachers) if n_rows_checked_per_teacher[i] > n_samples]\n",
    "    level_disc = [level_discrepancy[teacher_id] for teacher_id in teacher_ids_selected]\n",
    "    score_disc = [score_discrepancy[teacher_id] for teacher_id in teacher_ids_selected]\n",
    "    plt.scatter(level_disc, score_disc, marker = 'o', label = n_samples)\n",
    "\n",
    "plt.xlabel('Level discrepancy')\n",
    "plt.ylabel('Score discrepancy')\n",
    "plt.legend(title = 'Number of samples')"
   ]
  },
  {
   "cell_type": "code",
   "execution_count": 184,
   "id": "75ece1a8-71f6-4ccb-8882-17cbaf7a0b54",
   "metadata": {},
   "outputs": [
    {
     "data": {
      "text/plain": [
       "(array([  1.,   1.,   2.,   1.,   1.,   0.,   4.,  16.,   0., 829.]),\n",
       " array([0. , 0.1, 0.2, 0.3, 0.4, 0.5, 0.6, 0.7, 0.8, 0.9, 1. ]),\n",
       " <BarContainer object of 10 artists>)"
      ]
     },
     "execution_count": 184,
     "metadata": {},
     "output_type": "execute_result"
    },
    {
     "data": {
      "image/png": "[encoded data removed]",
      "text/plain": [
       "<Figure size 432x288 with 2 Axes>"
      ]
     },
     "metadata": {
      "needs_background": "light"
     },
     "output_type": "display_data"
    }
   ],
   "source": [
    "n_samples = 10\n",
    "teacher_ids_selected = [teacher_ids[i] for i in range(n_teachers) if n_rows_checked_per_teacher[i] > n_samples]\n",
    "level_disc = [level_discrepancy[teacher_id] for teacher_id in teacher_ids_selected]\n",
    "score_disc = [score_discrepancy[teacher_id] for teacher_id in teacher_ids_selected]\n",
    "\n",
    "fig, ax = plt.subplots(nrows = 2, ncols = 1)\n",
    "ax[0].hist(level_disc)\n",
    "ax[1].hist(score_disc)"
   ]
  },
  {
   "cell_type": "code",
   "execution_count": 166,
   "id": "2427ff56-c3fb-416b-9eff-40323947cc4f",
   "metadata": {},
   "outputs": [
    {
     "name": "stdout",
     "output_type": "stream",
     "text": [
      "identifier:027746153_3\n",
      "student_id:1027746153\n",
      "Subject:Tamil\n",
      "1st question Level:Mottu\n",
      "1st level score:0\n",
      "2nd question Level:Malar\n",
      "2nd level score:0.0\n",
      "3rd question Level:nan\n",
      "3rd level score:nan\n",
      "Cluster ID:33061802506\n",
      "School ID:33061802503\n",
      "district:TIRUVANNAMALAI\n",
      "Teacher User ID:20066393\n",
      "class:3\n",
      "baseline:Mottu\n",
      "Student Identifier:27746153\n"
     ]
    }
   ],
   "source": [
    "for v in teacher_variables:\n",
    "    print('{0}:{1}'.format(v, teacher_data[v][teacher_row_no]))"
   ]
  },
  {
   "cell_type": "code",
   "execution_count": 167,
   "id": "41c3bf50-ffce-4c36-b7dc-8581ba9a6f45",
   "metadata": {},
   "outputs": [
    {
     "name": "stdout",
     "output_type": "stream",
     "text": [
      "UID:027746153_3\n",
      "district:TIRUVANNAMALAI\n",
      "block id:115\n",
      "cluster id:33061802506\n",
      "Student Identifier:27746153\n",
      "school id:33061802503\n",
      "subject:Tamil\n",
      "class:3\n",
      "baseline:Arumbu\n",
      "1st question Level:Arumbu\n",
      "1st level score:2\n",
      "2nd question Level:nan\n",
      "2nd level score:nan\n",
      "3rd question Level:nan\n",
      "3rd level score:nan\n",
      "Admin User ID:30649663\n"
     ]
    }
   ],
   "source": [
    "for v in sup_variables:\n",
    "    print('{0}:{1}'.format(v, sup_data[v][sup_row]))"
   ]
  },
  {
   "cell_type": "markdown",
   "id": "18a9e196-ecef-462b-971e-74fedd4415e8",
   "metadata": {
    "jp-MarkdownHeadingCollapsed": true,
    "tags": []
   },
   "source": [
    "# Random sampling"
   ]
  },
  {
   "cell_type": "code",
   "execution_count": 31,
   "id": "395ec6ef-1ad9-457a-9aac-9246c557d6d4",
   "metadata": {},
   "outputs": [
    {
     "name": "stdout",
     "output_type": "stream",
     "text": [
      "10291 student IDs\n"
     ]
    }
   ],
   "source": [
    "student_id = data.get('Student Identifier')\n",
    "n_students = len(np.unique(student_id.values))\n",
    "print('{0} student IDs'.format(n_students))"
   ]
  },
  {
   "cell_type": "code",
   "execution_count": 40,
   "id": "28ff2708-ef18-490a-983e-acbd7d5c858a",
   "metadata": {},
   "outputs": [
    {
     "data": {
      "text/plain": [
       "13577"
      ]
     },
     "execution_count": 40,
     "metadata": {},
     "output_type": "execute_result"
    }
   ],
   "source": [
    "len(student_id.values)"
   ]
  },
  {
   "cell_type": "code",
   "execution_count": null,
   "id": "8efb7ec6-4393-4fd3-a09f-1c91067a6cca",
   "metadata": {},
   "outputs": [],
   "source": []
  }
 ],
 "metadata": {
  "kernelspec": {
   "display_name": "discscsim",
   "language": "python",
   "name": "discscsim"
  },
  "language_info": {
   "codemirror_mode": {
    "name": "ipython",
    "version": 3
   },
   "file_extension": ".py",
   "mimetype": "text/x-python",
   "name": "python",
   "nbconvert_exporter": "python",
   "pygments_lexer": "ipython3",
   "version": "3.11.3"
  }
 },
 "nbformat": 4,
 "nbformat_minor": 5
}
