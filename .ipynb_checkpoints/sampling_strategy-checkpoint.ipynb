{
 "cells": [
  {
   "cell_type": "markdown",
   "id": "ce8f19c4-3a81-488a-9ce3-b6b1519ead9f",
   "metadata": {},
   "source": [
    "# Imports"
   ]
  },
  {
   "cell_type": "code",
   "execution_count": 2,
   "id": "1aebd744-98c4-410a-8ee9-3be0cebb7818",
   "metadata": {},
   "outputs": [],
   "source": [
    "# General modules\n",
    "import matplotlib.pyplot as plt\n",
    "import numpy as np\n",
    "import pandas as pd\n",
    "from os.path import sep\n",
    "from tqdm import tqdm\n",
    "\n",
    "# Enable re-load of local modules every time they are called\n",
    "%load_ext autoreload\n",
    "%autoreload 2\n",
    "%aimport numpy \n",
    "%aimport pandas"
   ]
  },
  {
   "cell_type": "markdown",
   "id": "43d9e732-1a77-4725-8c90-4c0871d9cf7a",
   "metadata": {},
   "source": [
    "# Load data"
   ]
  },
  {
   "cell_type": "code",
   "execution_count": 9,
   "id": "ffda7ebd-7e26-4c1d-a00f-362f1a0d27af",
   "metadata": {},
   "outputs": [
    {
     "name": "stdout",
     "output_type": "stream",
     "text": [
      "The following variables were found in this dataset:\n",
      "    UID\n",
      "    district\n",
      "    block id\n",
      "    cluster id\n",
      "    Student Identifier\n",
      "    school id\n",
      "    subject\n",
      "    class\n",
      "    baseline\n",
      "    1st question Level\n",
      "    1st level score\n",
      "    2nd question Level\n",
      "    2nd level score\n",
      "    3rd question Level\n",
      "    3rd level score\n",
      "    Admin User ID\n"
     ]
    }
   ],
   "source": [
    "home_folder = 'Documents{0}CEGIS{0}DiscSim'.format(sep)\n",
    "#filename = '{0}{1}ee_ees_data.csv'.format(home_folder, sep)\n",
    "filename = 'ee_ees_data.csv'\n",
    "\n",
    "data = pd.read_csv(filename) # Read data from the excel sheet\n",
    "variables = data.columns       # Each column is a single variable measured, this gives the names of columns\n",
    "n_variables = len(variables)\n",
    "\n",
    "print('The following variables were found in this dataset:')\n",
    "for v in variables:\n",
    "    print('    {0}'.format(v))"
   ]
  },
  {
   "cell_type": "code",
   "execution_count": 11,
   "id": "a4cded7a-7aff-45f2-a996-d190eb3ae18c",
   "metadata": {},
   "outputs": [
    {
     "data": {
      "text/plain": [
       "0        022724217_1\n",
       "1        022724217_3\n",
       "2        022860415_1\n",
       "3        023043741_2\n",
       "4        023076795_1\n",
       "            ...     \n",
       "13572    028971849_2\n",
       "13573    028992711_1\n",
       "13574    028992711_3\n",
       "13575    028992723_2\n",
       "13576    029040164_3\n",
       "Name: UID, Length: 13577, dtype: object"
      ]
     },
     "execution_count": 11,
     "metadata": {},
     "output_type": "execute_result"
    }
   ],
   "source": [
    "# To access any of the variables, use data.<variable name> -- for example:\n",
    "data.UID"
   ]
  },
  {
   "cell_type": "code",
   "execution_count": 12,
   "id": "b3a11139-e246-4e04-a4e0-5668cde272b6",
   "metadata": {},
   "outputs": [
    {
     "data": {
      "text/plain": [
       "'025121510_1'"
      ]
     },
     "execution_count": 12,
     "metadata": {},
     "output_type": "execute_result"
    }
   ],
   "source": [
    "# To access a particular sample, use data.<variable name>[sample number] -- for example:\n",
    "data.UID[53]"
   ]
  },
  {
   "cell_type": "code",
   "execution_count": null,
   "id": "152a6513-94fa-4cbd-a0c3-df0178e090ab",
   "metadata": {},
   "outputs": [],
   "source": []
  }
 ],
 "metadata": {
  "kernelspec": {
   "display_name": "discscsim",
   "language": "python",
   "name": "discscsim"
  },
  "language_info": {
   "codemirror_mode": {
    "name": "ipython",
    "version": 3
   },
   "file_extension": ".py",
   "mimetype": "text/x-python",
   "name": "python",
   "nbconvert_exporter": "python",
   "pygments_lexer": "ipython3",
   "version": "3.11.3"
  }
 },
 "nbformat": 4,
 "nbformat_minor": 5
}
