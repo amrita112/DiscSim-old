{
 "cells": [
  {
   "cell_type": "markdown",
   "id": "ce8f19c4-3a81-488a-9ce3-b6b1519ead9f",
   "metadata": {
    "jp-MarkdownHeadingCollapsed": true,
    "tags": []
   },
   "source": [
    "# Imports"
   ]
  },
  {
   "cell_type": "code",
   "execution_count": 1,
   "id": "1aebd744-98c4-410a-8ee9-3be0cebb7818",
   "metadata": {},
   "outputs": [],
   "source": [
    "# General modules\n",
    "import matplotlib.pyplot as plt\n",
    "import numpy as np\n",
    "import pandas as pd\n",
    "from os.path import sep\n",
    "from tqdm import tqdm\n",
    "\n",
    "# Enable re-load of local modules every time they are called\n",
    "%load_ext autoreload\n",
    "%autoreload 2\n",
    "%aimport numpy \n",
    "%aimport pandas"
   ]
  },
  {
   "cell_type": "markdown",
   "id": "43d9e732-1a77-4725-8c90-4c0871d9cf7a",
   "metadata": {
    "jp-MarkdownHeadingCollapsed": true,
    "tags": []
   },
   "source": [
    "# Load data"
   ]
  },
  {
   "cell_type": "markdown",
   "id": "2e85ed6e-a4db-446d-9423-c2286f6d08e7",
   "metadata": {
    "jp-MarkdownHeadingCollapsed": true,
    "tags": []
   },
   "source": [
    "## Teacher data"
   ]
  },
  {
   "cell_type": "code",
   "execution_count": 6,
   "id": "ffda7ebd-7e26-4c1d-a00f-362f1a0d27af",
   "metadata": {},
   "outputs": [
    {
     "name": "stdout",
     "output_type": "stream",
     "text": [
      "The following variables were found in this dataset:\n",
      "    identifier\n",
      "    student_id\n",
      "    Subject\n",
      "    1st question Level\n",
      "    1st level score\n",
      "    2nd question Level\n",
      "    2nd level score\n",
      "    3rd question Level\n",
      "    3rd level score\n",
      "    Cluster ID\n",
      "    School ID\n",
      "    district\n",
      "    Teacher User ID\n",
      "    class\n",
      "    baseline\n",
      "    Student Identifier\n"
     ]
    }
   ],
   "source": [
    "home_folder = 'Documents{0}CEGIS{0}DiscSim'.format(sep)\n",
    "filename = 'ee_data.csv'\n",
    "\n",
    "teacher_data = pd.read_csv(filename) # Read data from the excel sheet\n",
    "teacher_variables = teacher_data.columns       # Each column is a single variable measured, this gives the names of columns\n",
    "teacher_n_variables = len(teacher_variables)\n",
    "teacher_n_rows = len(teacher_data[teacher_variables[0]])\n",
    "\n",
    "print('The following variables were found in this dataset:')\n",
    "for v in teacher_variables:\n",
    "    print('    {0}'.format(v))"
   ]
  },
  {
   "cell_type": "markdown",
   "id": "2ff00bc8-23c7-4e1c-82e0-2ef5803a6f5f",
   "metadata": {
    "jp-MarkdownHeadingCollapsed": true,
    "tags": []
   },
   "source": [
    "## Supervisor data"
   ]
  },
  {
   "cell_type": "code",
   "execution_count": 7,
   "id": "bc90d6ba-210a-4272-86cd-45dfbcec0cae",
   "metadata": {},
   "outputs": [
    {
     "name": "stdout",
     "output_type": "stream",
     "text": [
      "The following variables were found in this dataset:\n",
      "    UID\n",
      "    district\n",
      "    block id\n",
      "    cluster id\n",
      "    Student Identifier\n",
      "    school id\n",
      "    subject\n",
      "    class\n",
      "    baseline\n",
      "    1st question Level\n",
      "    1st level score\n",
      "    2nd question Level\n",
      "    2nd level score\n",
      "    3rd question Level\n",
      "    3rd level score\n",
      "    Admin User ID\n"
     ]
    }
   ],
   "source": [
    "home_folder = 'Documents{0}CEGIS{0}DiscSim'.format(sep)\n",
    "filename = 'ee_ees_data.csv'.format(home_folder, sep)\n",
    "\n",
    "sup_data = pd.read_csv(filename) # Read data from the excel sheet\n",
    "sup_variables = sup_data.columns       # Each column is a single variable measured, this gives the names of columns\n",
    "sup_n_variables = len(sup_variables)\n",
    "sup_n_rows = len(sup_data[sup_variables[0]])\n",
    "\n",
    "print('The following variables were found in this dataset:')\n",
    "for v in sup_variables:\n",
    "    print('    {0}'.format(v))"
   ]
  },
  {
   "cell_type": "markdown",
   "id": "734a8dc7-8133-4889-a92a-360d86f29a56",
   "metadata": {
    "tags": []
   },
   "source": [
    "# Calculate discrepancy"
   ]
  },
  {
   "cell_type": "markdown",
   "id": "557e113a-ee0d-41e1-af46-2940f9d85309",
   "metadata": {
    "jp-MarkdownHeadingCollapsed": true,
    "tags": []
   },
   "source": [
    "## Select all samples for a given teacher"
   ]
  },
  {
   "cell_type": "code",
   "execution_count": 8,
   "id": "9f037480-9797-403c-a8f0-3da6700a5483",
   "metadata": {},
   "outputs": [
    {
     "name": "stdout",
     "output_type": "stream",
     "text": [
      "1920 teacher IDs found\n"
     ]
    },
    {
     "name": "stderr",
     "output_type": "stream",
     "text": [
      "100%|███████████████████████████████████████| 1920/1920 [00:54<00:00, 35.26it/s]\n"
     ]
    },
    {
     "data": {
      "text/plain": [
       "Text(0, 0.5, 'Number of teachers')"
      ]
     },
     "execution_count": 8,
     "metadata": {},
     "output_type": "execute_result"
    },
    {
     "data": {
      "image/png": "[encoded data removed]",
      "text/plain": [
       "<Figure size 432x288 with 1 Axes>"
      ]
     },
     "metadata": {
      "needs_background": "light"
     },
     "output_type": "display_data"
    }
   ],
   "source": [
    "teacher_ids = list(np.unique(list(teacher_data['Teacher User ID'])))\n",
    "n_teachers = len(teacher_ids)\n",
    "print('{0} teacher IDs found'.format(n_teachers))\n",
    "\n",
    "row_nos_per_teacher = {}\n",
    "n_rows_per_teacher = np.empty(n_teachers, dtype = int)\n",
    "\n",
    "i = 0\n",
    "for teacher_id in tqdm(teacher_ids):\n",
    "    row_nos_per_teacher[teacher_id] = np.where(list(teacher_data['Teacher User ID']) == teacher_id)[0]\n",
    "    n_rows_per_teacher[i] = len(row_nos_per_teacher[teacher_id])\n",
    "    i += 1\n",
    "\n",
    "#n_rows_per_teacher = [len(v) for v in list(row_nos_per_teacher.values())]\n",
    "plt.figure()\n",
    "plt.hist(n_rows_per_teacher, 50, color = 'k')\n",
    "plt.xlabel('Number of rows per teacher')\n",
    "plt.ylabel('Number of teachers')"
   ]
  },
  {
   "cell_type": "code",
   "execution_count": 10,
   "id": "31088708-508e-499b-9565-b6352f72734f",
   "metadata": {},
   "outputs": [],
   "source": [
    "teacher_student_ids = list(teacher_data['identifier'])\n",
    "student_ids_per_teacher = {}\n",
    "\n",
    "for teacher_id in teacher_ids:\n",
    "    student_ids_per_teacher[teacher_id] = [teacher_student_ids[row] for row in row_nos_per_teacher[teacher_id]]\n",
    "\n",
    "# Verify that each student ID occurs only once per teacher\n",
    "n_student_ids_per_teacher = [len(np.unique(s)) for s in list(student_ids_per_teacher.values())]\n",
    "assert(n_student_ids_per_teacher == n_rows_per_teacher).all()"
   ]
  },
  {
   "cell_type": "markdown",
   "id": "47ece6e1-3b30-4d56-9531-deaddd7045b4",
   "metadata": {
    "jp-MarkdownHeadingCollapsed": true,
    "tags": []
   },
   "source": [
    "## Fetch supervisor entries for each teacher"
   ]
  },
  {
   "cell_type": "code",
   "execution_count": 39,
   "id": "e962d2d4-1217-405d-ab4c-c71223e46dd0",
   "metadata": {},
   "outputs": [
    {
     "name": "stderr",
     "output_type": "stream",
     "text": [
      "100%|███████████████████████████████████████| 1920/1920 [00:44<00:00, 43.06it/s]\n"
     ]
    },
    {
     "data": {
      "text/plain": [
       "Text(0, 0.5, 'Number of teachers')"
      ]
     },
     "execution_count": 39,
     "metadata": {},
     "output_type": "execute_result"
    },
    {
     "data": {
      "image/png": "[encoded data removed]",
      "text/plain": [
       "<Figure size 432x288 with 2 Axes>"
      ]
     },
     "metadata": {
      "needs_background": "light"
     },
     "output_type": "display_data"
    }
   ],
   "source": [
    "sup_student_ids = list(sup_data['UID'])\n",
    "n_sup_student_ids = len(sup_student_ids)\n",
    "assert(len(np.unique(sup_student_ids)) == n_sup_student_ids)\n",
    "\n",
    "#sup_row_nos_per_teacher = {teacher_id: [] for teacher_id in teacher_ids}\n",
    "sup_row_nos_per_teacher = {}\n",
    "n_rows_checked_per_teacher = np.zeros(n_teachers)\n",
    "\n",
    "for teacher_id in tqdm(teacher_ids): # Iterate over all teachers\n",
    "    \n",
    "    #for i in range(n_sup_student_ids): # Iterate over all students checked by supervisors\n",
    "     #   if sup_student_ids[i] in student_ids_per_teacher[teacher_id]: # This is a student of that teacher_id checked by a supervisor \n",
    "      #      sup_row_nos_per_teacher[teacher_id].append(sup_student_ids[i])\n",
    "            \n",
    "    # Iterate over all students checked by supervisors, and store student ids for each teacher\n",
    "    sup_row_nos_per_teacher[teacher_id] = [i for i in range(n_sup_student_ids) if sup_student_ids[i] in student_ids_per_teacher[teacher_id]]\n",
    "    n_rows_checked_per_teacher[list(teacher_ids).index(teacher_id)] = len(sup_row_nos_per_teacher[teacher_id])\n",
    "        \n",
    "assert(len(n_rows_checked_per_teacher) == n_teachers)"
   ]
  },
  {
   "cell_type": "code",
   "execution_count": 40,
   "id": "c9d815a8-8ee8-47f6-b53a-4f8539398899",
   "metadata": {},
   "outputs": [
    {
     "data": {
      "text/plain": [
       "Text(0, 0.5, 'Number of teachers')"
      ]
     },
     "execution_count": 40,
     "metadata": {},
     "output_type": "execute_result"
    },
    {
     "data": {
      "image/png": "[encoded data removed]",
      "text/plain": [
       "<Figure size 720x360 with 2 Axes>"
      ]
     },
     "metadata": {
      "needs_background": "light"
     },
     "output_type": "display_data"
    }
   ],
   "source": [
    "fig, ax = plt.subplots(nrows = 1, ncols = 2, constrained_layout = True, figsize = (10, 5))\n",
    "\n",
    "ax[0].hist(np.array(n_rows_checked_per_teacher), 50, color = 'k')\n",
    "ax[0].set_xlabel('Number of samples checked per teacher')\n",
    "\n",
    "ax[1].hist(np.divide(np.array(n_rows_checked_per_teacher), np.array(n_rows_per_teacher)), 50, color = 'k')\n",
    "ax[1].set_xlabel('Proportion of teacher samples checked')\n",
    "ax[0].set_ylabel('Number of teachers')"
   ]
  },
  {
   "cell_type": "code",
   "execution_count": 29,
   "id": "049fc7be-b509-46ad-a6b7-0f1903dc81aa",
   "metadata": {},
   "outputs": [
    {
     "name": "stdout",
     "output_type": "stream",
     "text": [
      "1544 teachers have at least 1 samples checked\n",
      "1430 teachers have at least 2 samples checked\n",
      "1366 teachers have at least 3 samples checked\n",
      "1290 teachers have at least 4 samples checked\n",
      "1198 teachers have at least 5 samples checked\n",
      "1134 teachers have at least 6 samples checked\n",
      "1057 teachers have at least 7 samples checked\n",
      "1007 teachers have at least 8 samples checked\n",
      "936 teachers have at least 9 samples checked\n",
      "892 teachers have at least 10 samples checked\n",
      "855 teachers have at least 11 samples checked\n",
      "805 teachers have at least 12 samples checked\n",
      "17 teachers have at least 13 samples checked\n",
      "10 teachers have at least 14 samples checked\n",
      "9 teachers have at least 15 samples checked\n",
      "9 teachers have at least 16 samples checked\n",
      "6 teachers have at least 17 samples checked\n",
      "4 teachers have at least 18 samples checked\n",
      "4 teachers have at least 19 samples checked\n",
      "3 teachers have at least 20 samples checked\n"
     ]
    }
   ],
   "source": [
    "for n_samples in range(1, 21):\n",
    "    \n",
    "    print('{0} teachers have at least {1} samples checked'.format(np.sum(n_rows_checked_per_teacher >= n_samples), n_samples))"
   ]
  },
  {
   "cell_type": "markdown",
   "id": "26224d4d-eabc-4f2e-bcf0-93e30d5075f3",
   "metadata": {
    "jp-MarkdownHeadingCollapsed": true,
    "tags": []
   },
   "source": [
    "## Get Levels and Scores"
   ]
  },
  {
   "cell_type": "code",
   "execution_count": 16,
   "id": "8b3b9db0-be2c-4b93-983c-193db6e5bf70",
   "metadata": {},
   "outputs": [
    {
     "name": "stdout",
     "output_type": "stream",
     "text": [
      "Checking level data entries for teachers\n"
     ]
    },
    {
     "name": "stderr",
     "output_type": "stream",
     "text": [
      "100%|████████████████████████████████| 166850/166850 [00:08<00:00, 18853.71it/s]\n"
     ]
    },
    {
     "name": "stdout",
     "output_type": "stream",
     "text": [
      "Checking level data entries for supervisors\n"
     ]
    },
    {
     "name": "stderr",
     "output_type": "stream",
     "text": [
      "100%|██████████████████████████████████| 13577/13577 [00:00<00:00, 20055.59it/s]\n"
     ]
    }
   ],
   "source": [
    "teacher_constants = ['Subject', 'class']\n",
    "sup_constants = ['subject', 'class']\n",
    "\n",
    "teacher_level_variables = ['1st question Level',  '2nd question Level', '3rd question Level', 'baseline']\n",
    "sup_level_variables = ['1st question Level', '2nd question Level', '3rd question Level', 'baseline']\n",
    "n_levels = len(teacher_level_variables)\n",
    "level_values = ['Arumbu', 'Mottu', 'Malar']\n",
    "\n",
    "teacher_score_variables = ['1st level score', '2nd level score', '3rd level score']\n",
    "sup_score_variables = ['1st level score', '2nd level score', '3rd level score']\n",
    "n_scores = len(teacher_score_variables)\n",
    "\n",
    "print('Checking level data entries for teachers')\n",
    "for row in tqdm(range(teacher_n_rows)):\n",
    "    assert(teacher_data['1st question Level'][row] in level_values)\n",
    "    assert(teacher_data['1st question Level'][row] == teacher_data['baseline'][row]) # 1st level should always correspond to the baseline level.\n",
    "    for v in ['2nd question Level', '3rd question Level']:\n",
    "        assert(teacher_data[v][row] in level_values or np.isnan(teacher_data[v][row]))\n",
    "\n",
    "print('Checking level data entries for supervisors')\n",
    "for row in tqdm(range(sup_n_rows)):\n",
    "    assert(sup_data['1st question Level'][row] in level_values)\n",
    "    assert(sup_data['1st question Level'][row] == sup_data['baseline'][row]) # 1st level should always correspond to the baseline level.\n",
    "    for v in ['2nd question Level', '3rd question Level']:\n",
    "        assert(sup_data[v][row] in level_values or np.isnan(sup_data[v][row]))"
   ]
  },
  {
   "cell_type": "markdown",
   "id": "b10d7fca-a3d5-4bf4-92e8-eaea4466b1a5",
   "metadata": {
    "tags": []
   },
   "source": [
    "## Calculate discrepancy"
   ]
  },
  {
   "cell_type": "markdown",
   "id": "eb23fc5e-a96b-4f52-98bd-c3a586133efd",
   "metadata": {
    "jp-MarkdownHeadingCollapsed": true,
    "tags": []
   },
   "source": [
    "### Level discrepancy"
   ]
  },
  {
   "cell_type": "code",
   "execution_count": 75,
   "id": "6dcc65ff-fd48-4e93-9fb7-752678dacd45",
   "metadata": {},
   "outputs": [
    {
     "name": "stderr",
     "output_type": "stream",
     "text": [
      "100%|█████████████████████████████████████| 1920/1920 [00:01<00:00, 1109.86it/s]\n"
     ]
    }
   ],
   "source": [
    "\"\"\" \n",
    "Condition for mismatch: \n",
    "       '1st question level' for that student is NOT matching between the 2 sets \n",
    "    OR 1st matches but 2nd doesn't (if it's available in at least one) \n",
    "    OR 1st and 2nd matches but 3rd doesn't (if it's available in at least one)\n",
    "\n",
    "\"\"\"\n",
    "\n",
    "#score_discrepancy = {}\n",
    "level_discrepancy = {}\n",
    "n_mismatch = {}\n",
    "\n",
    "for teacher_id in tqdm(teacher_ids):\n",
    "    \n",
    "    row_nos = list(row_nos_per_teacher[teacher_id])\n",
    "    student_ids = list(student_ids_per_teacher[teacher_id])\n",
    "    \n",
    "    sup_row_nos = list(sup_row_nos_per_teacher[teacher_id])\n",
    "    \n",
    "    if len(sup_row_nos) > 0: # For this teacher, at least one student has been checked by supervisor\n",
    "        \n",
    "        level_disc = np.zeros(len(sup_row_nos), dtype = int)\n",
    "        n_mismatch[teacher_id] = 0\n",
    "        #score_disc = np.zeros(len(sup_row_nos), dtype = bool)\n",
    "        \n",
    "        for sup_row in sup_row_nos: # Iterate over students checked by supervisor for this teacher\n",
    "            \n",
    "            student_id = sup_student_ids[sup_row]\n",
    "            teacher_row_no = row_nos[student_ids.index(student_id)]\n",
    "            \n",
    "            # Check that subject and class match between the teacher and supervisor\n",
    "            for c in range(len(teacher_constants)):\n",
    "                assert(teacher_data[teacher_constants[c]][teacher_row_no] == sup_data[sup_constants[c]][sup_row])\n",
    "                \n",
    "            teacher_levels = [teacher_data[v][teacher_row_no] for v in teacher_level_variables]\n",
    "            \n",
    "            sup_levels = [sup_data[v][sup_row] for v in sup_level_variables]\n",
    "            \n",
    "            if np.logical_not(teacher_levels[0] == sup_levels[0]): \n",
    "                # Condition 1: '1st question level' does not match\n",
    "                level_disc[sup_row_nos.index(sup_row)] = 1\n",
    "                n_mismatch[teacher_id] += 1\n",
    "                continue\n",
    "            else:                             \n",
    "                # '1st question level' matches\n",
    "                if np.logical_or(np.logical_not(isinstance(teacher_levels[1], str)), np.logical_not(isinstance(sup_levels[1], str))):\n",
    "                    # '2nd question level' does not exist for either teacher or supervisor\n",
    "                    continue\n",
    "                else:\n",
    "                    # '2nd question level' exists for both teacher and supervisor\n",
    "                    if np.logical_not(teacher_levels[1] == sup_levels[1]):\n",
    "                        # Condition 2: '2nd question level' does not match\n",
    "                        level_disc[sup_row_nos.index(sup_row)] = 1\n",
    "                        n_mismatch[teacher_id] += 1\n",
    "                        continue\n",
    "                    else:\n",
    "                        # '2nd question level' matches\n",
    "                        if np.logical_or(np.logical_not(isinstance(teacher_levels[2], str)), np.logical_not(isinstance(sup_levels[2], str))):\n",
    "                            # '3rd question level' does not exist for either teacher or supervisor\n",
    "                            continue\n",
    "                        else:\n",
    "                            # '3rd question level' exists for both teacher and supervisor\n",
    "                            if np.logical_not(teacher_levels[2] == sup_levels[2]):\n",
    "                                # Condition 3: '3rd question level' does not match\n",
    "                                level_disc[sup_row_nos.index(sup_row)] = 1\n",
    "                                n_mismatch[teacher_id] += 1\n",
    "                \n",
    "                   \n",
    "        level_discrepancy[teacher_id] = np.sum(level_disc)/len(sup_row_nos) # Proportion of students checked by supervisor that have a non-matching level\n"
   ]
  },
  {
   "cell_type": "code",
   "execution_count": 76,
   "id": "8c506ec1-b0c2-41a7-8f47-5230869582f7",
   "metadata": {},
   "outputs": [
    {
     "data": {
      "text/plain": [
       "<matplotlib.legend.Legend at 0x122c5c990>"
      ]
     },
     "execution_count": 76,
     "metadata": {},
     "output_type": "execute_result"
    },
    {
     "data": {
      "image/png": "[encoded data removed]",
      "text/plain": [
       "<Figure size 720x360 with 1 Axes>"
      ]
     },
     "metadata": {
      "needs_background": "light"
     },
     "output_type": "display_data"
    }
   ],
   "source": [
    "plt.figure(constrained_layout = True, figsize = (10, 5))\n",
    "for n_samples in range(5, 21):\n",
    "    \n",
    "    # List of teachers with at least n_samples samples checked by supervisor\n",
    "    teacher_ids_selected = [teacher_ids[i] for i in range(n_teachers) if n_rows_checked_per_teacher[i] >= n_samples]\n",
    "    \n",
    "    # Level discrepancy scores for the set of teachers selected above\n",
    "    level_disc = [level_discrepancy[teacher_id] for teacher_id in teacher_ids_selected]\n",
    "    \n",
    "    # Plot distribution of level discrepancy scores\n",
    "    plt.hist(level_disc, 20, alpha = 0.5, label = n_samples)\n",
    "\n",
    "plt.xlabel('Level discrepancy')\n",
    "plt.ylabel('Number of teachers')\n",
    "plt.legend(title = 'Number of samples')"
   ]
  },
  {
   "cell_type": "markdown",
   "id": "0fde633b-8047-4104-a300-5b7355286800",
   "metadata": {},
   "source": [
    "There is exactly 1 mismatch for every teacher: that's very strange."
   ]
  },
  {
   "cell_type": "code",
   "execution_count": 77,
   "id": "6526aa71-1f86-47cf-9f71-61f8ab05b576",
   "metadata": {},
   "outputs": [
    {
     "data": {
      "text/plain": [
       "<matplotlib.legend.Legend at 0x1231ff250>"
      ]
     },
     "execution_count": 77,
     "metadata": {},
     "output_type": "execute_result"
    },
    {
     "data": {
      "image/png": "[encoded data removed]",
      "text/plain": [
       "<Figure size 720x360 with 1 Axes>"
      ]
     },
     "metadata": {
      "needs_background": "light"
     },
     "output_type": "display_data"
    }
   ],
   "source": [
    "plt.figure(constrained_layout = True, figsize = (10, 5))\n",
    "for n_samples in range(5, 21):\n",
    "    \n",
    "    # List of teachers with at least n_samples samples checked by supervisor\n",
    "    teacher_ids_selected = [teacher_ids[i] for i in range(n_teachers) if n_rows_checked_per_teacher[i] >= n_samples]\n",
    "    \n",
    "    # Number of mismatches for the set of teachers selected above\n",
    "    n = [n_mismatch[teacher_id] for teacher_id in teacher_ids_selected]\n",
    "    \n",
    "    # Plot distribution of number of mismatches\n",
    "    plt.hist(n, alpha = 0.5, label = n_samples)\n",
    "\n",
    "plt.xlabel('Number of students with mismatch')\n",
    "plt.ylabel('Number of teachers')\n",
    "plt.legend(title = 'Number of samples')"
   ]
  },
  {
   "cell_type": "code",
   "execution_count": 79,
   "id": "66e1b73e-157f-4fea-8fe9-7edef0f2eb0f",
   "metadata": {},
   "outputs": [
    {
     "data": {
      "text/plain": [
       "2.0"
      ]
     },
     "execution_count": 79,
     "metadata": {},
     "output_type": "execute_result"
    }
   ],
   "source": [
    "n = list(n_mismatch.values())\n",
    "np.linalg.norm(n - np.zeros(len(n)))"
   ]
  },
  {
   "cell_type": "code",
   "execution_count": 80,
   "id": "04dc9360-8a12-4173-9464-2d9c9c7e1b68",
   "metadata": {},
   "outputs": [
    {
     "data": {
      "text/plain": [
       "2"
      ]
     },
     "execution_count": 80,
     "metadata": {},
     "output_type": "execute_result"
    }
   ],
   "source": [
    "np.sum(n)"
   ]
  },
  {
   "cell_type": "code",
   "execution_count": 96,
   "id": "268ce90a-c207-4a56-a858-70d7e0c0c461",
   "metadata": {},
   "outputs": [
    {
     "name": "stdout",
     "output_type": "stream",
     "text": [
      "0 mismatches\n",
      "Level // Teacher // Supervisor\n",
      "    Student 1\n",
      "    1 // Arumbu // Arumbu\n",
      "    2 // Mottu // Mottu\n",
      "    3 // nan // nan\n",
      "    Student 2\n",
      "    1 // Mottu // Mottu\n",
      "    2 // nan // nan\n",
      "    3 // nan // nan\n",
      "    Student 3\n",
      "    1 // Arumbu // Arumbu\n",
      "    2 // Mottu // nan\n",
      "    3 // nan // nan\n",
      "    Student 4\n",
      "    1 // Arumbu // Arumbu\n",
      "    2 // Mottu // nan\n",
      "    3 // nan // nan\n",
      "    Student 5\n",
      "    1 // Arumbu // Arumbu\n",
      "    2 // Mottu // Mottu\n",
      "    3 // nan // nan\n",
      "    Student 6\n",
      "    1 // Mottu // Mottu\n",
      "    2 // nan // nan\n",
      "    3 // nan // nan\n",
      "    Student 7\n",
      "    1 // Arumbu // Arumbu\n",
      "    2 // Mottu // nan\n",
      "    3 // nan // nan\n",
      "    Student 8\n",
      "    1 // Mottu // Mottu\n",
      "    2 // nan // nan\n",
      "    3 // nan // nan\n",
      "    Student 9\n",
      "    1 // Arumbu // Arumbu\n",
      "    2 // Mottu // Mottu\n",
      "    3 // nan // nan\n",
      "    Student 10\n",
      "    1 // Mottu // Mottu\n",
      "    2 // nan // nan\n",
      "    3 // nan // nan\n",
      "    Student 11\n",
      "    1 // Arumbu // Arumbu\n",
      "    2 // nan // nan\n",
      "    3 // nan // nan\n",
      "    Student 12\n",
      "    1 // Arumbu // Arumbu\n",
      "    2 // nan // nan\n",
      "    3 // nan // nan\n"
     ]
    }
   ],
   "source": [
    "n_samples = 1\n",
    "\n",
    "# List of teachers with at least n_samples samples checked by supervisor\n",
    "teacher_ids_selected = [teacher_ids[i] for i in range(n_teachers) if n_rows_checked_per_teacher[i] >= n_samples]\n",
    "\n",
    "# Select a teacher at random from those with at least n_samples samples checked\n",
    "teacher_id = teacher_ids_selected[np.random.randint(0, len(teacher_ids_selected))]\n",
    "#teacher_id = teacher_ids_selected[np.where(n)[0][0]] # Select a teacher with 1 or more mismatches\n",
    "print('{0} mismatches'.format(n_mismatch[teacher_id]))\n",
    "\n",
    "# Get set of students for that teacher checked by supervisor\n",
    "sup_row_nos = list(sup_row_nos_per_teacher[teacher_id])\n",
    "student_ids = [sup_student_ids[sup_row] for sup_row in sup_row_nos]\n",
    "row_nos = list(row_nos_per_teacher[teacher_id])\n",
    "teacher_row_nos = [row_nos[student_ids_per_teacher[teacher_id].index(student_id)] for student_id in student_ids]\n",
    "assert(len(sup_row_nos) == len(teacher_row_nos))\n",
    "\n",
    "# Print teacher and supervisor data for each student \n",
    "\n",
    "print('Level // Teacher // Supervisor')\n",
    "n_students = len(sup_row_nos)\n",
    "\n",
    "for i in range(n_students):\n",
    "    \n",
    "    print('    Student {0}'.format(i + 1))\n",
    "    t_row = teacher_row_nos[i]\n",
    "    s_row = sup_row_nos[i]\n",
    "    assert(teacher_data['identifier'][t_row] == sup_data['UID'][s_row]) # Make sure that student ID is the same for teacher and supervisor\n",
    "    \n",
    "    for v in range(n_levels - 1):\n",
    "        t_var = teacher_level_variables[v]\n",
    "        s_var = sup_level_variables[v]\n",
    "        if t_var == s_var:\n",
    "            match = ''\n",
    "        else:\n",
    "            match = ' // Mismatch'\n",
    "        \n",
    "        print('    {0} // {1} // {2}{3}'.format(v + 1, teacher_data[t_var][t_row], sup_data[s_var][s_row], match))"
   ]
  },
  {
   "cell_type": "markdown",
   "id": "528eed01-1c45-4b01-ae28-5ee949e0b640",
   "metadata": {
    "tags": []
   },
   "source": [
    "### Score discrepancy"
   ]
  },
  {
   "cell_type": "code",
   "execution_count": 100,
   "id": "09629172-101d-48aa-a092-3c7bf0c77bec",
   "metadata": {},
   "outputs": [
    {
     "name": "stderr",
     "output_type": "stream",
     "text": [
      "  0%|                                                  | 0/1920 [00:00<?, ?it/s]/var/folders/fv/dt8qr2_164gdg58grl7lhznc0000gn/T/ipykernel_30751/3219601373.py:61: RuntimeWarning: Mean of empty slice\n",
      "  score_discrepancy[teacher_id] = np.nanmean(score_disc, axis = 0) # Proportion of students checked by supervisor that have a non-matching level\n",
      "100%|██████████████████████████████████████| 1920/1920 [00:01<00:00, 977.03it/s]\n"
     ]
    }
   ],
   "source": [
    "score_discrepancy = {}\n",
    "n_mismatch = {}\n",
    "\n",
    "for teacher_id in tqdm(teacher_ids):\n",
    "    \n",
    "    row_nos = list(row_nos_per_teacher[teacher_id])\n",
    "    student_ids = list(student_ids_per_teacher[teacher_id])\n",
    "    \n",
    "    sup_row_nos = list(sup_row_nos_per_teacher[teacher_id])\n",
    "    \n",
    "    if len(sup_row_nos) > 0: # For this teacher, at least one student has been checked by supervisor\n",
    "        \n",
    "        score_disc = np.empty([len(sup_row_nos), n_scores])\n",
    "        n_mismatch[teacher_id] = 0\n",
    "        #score_disc = np.zeros(len(sup_row_nos), dtype = bool)\n",
    "        \n",
    "        for sup_row in sup_row_nos: # Iterate over students checked by supervisor for this teacher\n",
    "            \n",
    "            student_id = sup_student_ids[sup_row]\n",
    "            teacher_row_no = row_nos[student_ids.index(student_id)]\n",
    "            \n",
    "            # Check that subject and class match between the teacher and supervisor\n",
    "            for c in range(len(teacher_constants)):\n",
    "                assert(teacher_data[teacher_constants[c]][teacher_row_no] == sup_data[sup_constants[c]][sup_row])\n",
    "                \n",
    "            teacher_levels = [teacher_data[v][teacher_row_no] for v in teacher_level_variables]\n",
    "            teacher_scores = [teacher_data[v][teacher_row_no] for v in teacher_score_variables]\n",
    "            \n",
    "            sup_levels = [sup_data[v][sup_row] for v in sup_level_variables]\n",
    "            sup_scores = [sup_data[v][sup_row] for v in sup_score_variables]\n",
    "            \n",
    "            score_disc[sup_row_nos.index(sup_row), 0] = sup_scores[0] - teacher_scores[0]\n",
    "            if np.abs(sup_scores[0] - teacher_scores[0]) > 0:\n",
    "                n_mismatch[teacher_id] += 1\n",
    "            \n",
    "            if np.logical_or(np.logical_not(isinstance(teacher_levels[1], str)), np.logical_not(isinstance(sup_levels[1], str))):\n",
    "                # '2nd question level' does not exist for either teacher or supervisor\n",
    "                \n",
    "                score_disc[sup_row_nos.index(sup_row), 1] = np.nan\n",
    "                continue\n",
    "            else:\n",
    "                # '2nd question level' exists for both teacher and supervisor\n",
    "                \n",
    "                score_disc[sup_row_nos.index(sup_row), 1] = sup_scores[1] - teacher_scores[1]\n",
    "                if np.abs(sup_scores[1] - teacher_scores[1]) > 0:\n",
    "                    n_mismatch[teacher_id] += 1\n",
    "                \n",
    "                if np.logical_or(np.logical_not(isinstance(teacher_levels[2], str)), np.logical_not(isinstance(sup_levels[2], str))):\n",
    "                    # '3rd question level' does not exist for either teacher or supervisor\n",
    "                    \n",
    "                    score_disc[sup_row_nos.index(sup_row), 2] = np.nan\n",
    "                    continue\n",
    "                else:\n",
    "                    # '3rd question level' exists for both teacher and supervisor\n",
    "                    \n",
    "                    score_disc[sup_row_nos.index(sup_row), 2] = sup_scores[2] - teacher_scores[2]\n",
    "                    if np.abs(sup_scores[2] - teacher_scores[2]) > 0:\n",
    "                        n_mismatch[teacher_id] += 1\n",
    "                \n",
    "                   \n",
    "        score_discrepancy[teacher_id] = np.nanmean(score_disc, axis = 0) # Proportion of students checked by supervisor that have a non-matching level\n",
    "        assert(len(score_discrepancy[teacher_id]) == n_scores)"
   ]
  },
  {
   "cell_type": "code",
   "execution_count": 118,
   "id": "77f55ff4-0ce0-48da-9483-8dec795bfcf8",
   "metadata": {},
   "outputs": [
    {
     "data": {
      "text/plain": [
       "<matplotlib.legend.Legend at 0x130fdea10>"
      ]
     },
     "execution_count": 118,
     "metadata": {},
     "output_type": "execute_result"
    },
    {
     "data": {
      "image/png": "[encoded data removed]",
      "text/plain": [
       "<Figure size 720x360 with 1 Axes>"
      ]
     },
     "metadata": {
      "needs_background": "light"
     },
     "output_type": "display_data"
    }
   ],
   "source": [
    "plt.figure(constrained_layout = True, figsize = (10, 5))\n",
    "for n_samples in range(8, 12):\n",
    "    \n",
    "    # List of teachers with at least n_samples samples checked by supervisor\n",
    "    teacher_ids_selected = [teacher_ids[i] for i in range(n_teachers) if n_rows_checked_per_teacher[i] >= n_samples]\n",
    "    \n",
    "    score_disc = [score_discrepancy[teacher_id][0] for teacher_id in teacher_ids_selected] \n",
    "    plt.hist(score_disc, 20, alpha = 0.5, label = n_samples)\n",
    "\n",
    "plt.xlabel('Score discrepancy')\n",
    "plt.ylabel('Number of teachers')\n",
    "plt.legend(title = 'Number of samples')"
   ]
  },
  {
   "cell_type": "markdown",
   "id": "3af90e37-457c-40ca-bb85-b2770ccbce43",
   "metadata": {},
   "source": [
    "# Sub-sample data with different sampling strategies"
   ]
  },
  {
   "cell_type": "markdown",
   "id": "9ac36ec7-402f-4154-8b05-648e158c0ad5",
   "metadata": {
    "jp-MarkdownHeadingCollapsed": true,
    "tags": []
   },
   "source": [
    "## Identify classification boundaries based on teacher-assigned level"
   ]
  },
  {
   "cell_type": "markdown",
   "id": "b7cd1bb4-6b24-4afa-b1c9-0cb9937cea78",
   "metadata": {},
   "source": [
    "For each subject and each level, students are assigned 'Arumbu', 'Mottu' or 'Malar' based on the numerical score. \n",
    "For simplicity, let us look only at the first level, since that exists for all students."
   ]
  },
  {
   "cell_type": "code",
   "execution_count": 132,
   "id": "235c10d0-be62-4b7b-81fb-669825d12b76",
   "metadata": {},
   "outputs": [
    {
     "name": "stdout",
     "output_type": "stream",
     "text": [
      "3 subjects found: ['English' 'Mathematics' 'Tamil']\n"
     ]
    },
    {
     "name": "stderr",
     "output_type": "stream",
     "text": [
      "100%|████████████████████████████████| 166850/166850 [00:04<00:00, 36921.58it/s]\n"
     ]
    }
   ],
   "source": [
    "# Get number of subjects\n",
    "subjects_all = teacher_data['Subject']\n",
    "subjects = np.unique(subjects_all)\n",
    "n_subjects = len(subjects)\n",
    "print('{0} subjects found: {1}'.format(n_subjects, subjects))\n",
    "\n",
    "# Get classes\n",
    "class_all = teacher_data['class']\n",
    "classes = np.unique(class_all)\n",
    "\n",
    "# For each subject, collect score for each level\n",
    "scores_by_subject = {subject: {cl: {level: [] for level in level_values} for cl in classes} for subject in subjects}\n",
    "\n",
    "for row in tqdm(range(teacher_n_rows)):\n",
    "    \n",
    "    cl = teacher_data['class'][row]\n",
    "    sub = teacher_data['Subject'][row]\n",
    "    level = teacher_data['1st question Level'][row]\n",
    "    score = teacher_data['1st level score'][row]\n",
    "    \n",
    "    scores_by_subject[sub][cl][level].append(score)\n",
    "    \n",
    "\n",
    "assert(np.sum([np.sum([np.sum([len(scores_by_subject[subject][cl][level]) for level in level_values]) for cl in classes]) for subject in subjects]) == teacher_n_rows)"
   ]
  },
  {
   "cell_type": "code",
   "execution_count": 135,
   "id": "af87ac7b-e8ab-4a56-ab01-93e03b3334ec",
   "metadata": {},
   "outputs": [
    {
     "data": {
      "image/png": "[encoded data removed]",
      "text/plain": [
       "<Figure size 720x720 with 9 Axes>"
      ]
     },
     "metadata": {
      "needs_background": "light"
     },
     "output_type": "display_data"
    }
   ],
   "source": [
    "# Plot distribution of scores for each subject, for each level\n",
    "colors = {'Arumbu': 'g', 'Mottu': 'r', 'Malar': 'b'}\n",
    "fig, ax = plt.subplots(nrows = n_subjects, ncols = len(level_values), constrained_layout = True, figsize = (10, 10), sharex = True)\n",
    "row = 0\n",
    "for sub in subjects:\n",
    "    col = 0\n",
    "    ax[row, 0].set_ylabel(sub, fontsize = 15)\n",
    "    for cl in classes:\n",
    "        for level in level_values:\n",
    "            ax[row, col].hist(scores_by_subject[sub][cl][level], color = colors[level], label = level, alpha = 0.5)\n",
    "        col += 1\n",
    "    ax[row, -1].legend()\n",
    "    row += 1\n",
    "    \n",
    "for col in range(len(level_values)):\n",
    "    ax[-1, col].set_xlabel('Score')\n",
    "    ax[0, col].set_title('Class {0}'.format(classes[col]))"
   ]
  },
  {
   "cell_type": "markdown",
   "id": "c4e34379-4336-4500-a191-22130613e127",
   "metadata": {},
   "source": [
    "Based on this, it seems that scores aren't used consistently to give level. So we cannot identify the classification boundary based on the level. "
   ]
  },
  {
   "cell_type": "markdown",
   "id": "d91ffd94-b1af-44fc-bdc5-1de1a3921bbf",
   "metadata": {
    "tags": []
   },
   "source": [
    "## Classification boundaries provided as meta-data:"
   ]
  },
  {
   "cell_type": "code",
   "execution_count": 137,
   "id": "8666517e-85a8-4bb0-be33-b178958418cb",
   "metadata": {},
   "outputs": [],
   "source": [
    "cb = {'Tamil': 8, 'English': 8, 'Mathematics': 9} # classification boundaries (pass/fail)"
   ]
  },
  {
   "cell_type": "markdown",
   "id": "2019034b-d33d-43bd-b6e5-b82d4d14ec60",
   "metadata": {},
   "source": [
    "Note: students *at* the classification boundary are passed."
   ]
  },
  {
   "cell_type": "markdown",
   "id": "174e6c24-3663-438c-8430-c431929210fb",
   "metadata": {
    "jp-MarkdownHeadingCollapsed": true,
    "tags": []
   },
   "source": [
    "## Rank samples by closeness to classification boundary"
   ]
  },
  {
   "cell_type": "markdown",
   "id": "81352230-e72c-4ac0-857a-73860a8700f3",
   "metadata": {},
   "source": [
    "Note: 'closeness' here is not the absolute difference, but the *signed* difference, between the score and the classification boundary.\n",
    "This is because teachers are likely to increase scores, not decrease scores, so the direction of the difference between the score and the classification boundary matters."
   ]
  },
  {
   "cell_type": "code",
   "execution_count": 143,
   "id": "66fd2925-0e0f-45ab-b8d8-c96d3a7691c6",
   "metadata": {},
   "outputs": [
    {
     "name": "stderr",
     "output_type": "stream",
     "text": [
      "100%|████████████████████████████████| 166850/166850 [00:03<00:00, 51066.41it/s]\n"
     ]
    }
   ],
   "source": [
    "cb_diff_by_sub_class = {sub: {cl: [] for cl in classes} for sub in subjects}\n",
    "sample_ids_by_sub_class = {sub: {cl: [] for cl in classes} for sub in subjects}\n",
    "sample_ids_ordered_by_sub_class = {sub: {} for sub in subjects}\n",
    "cb_diff_all = []\n",
    "\n",
    "for row in tqdm(range(teacher_n_rows)):\n",
    "    \n",
    "    cl = teacher_data['class'][row]\n",
    "    sub = teacher_data['Subject'][row]\n",
    "    score = teacher_data['1st level score'][row]\n",
    "    \n",
    "    sample_ids_by_sub_class[sub][cl].append(row)\n",
    "    cb_diff_by_sub_class[sub][cl].append(score - cb[sub])\n",
    "    cb_diff_all.append(score - cb[sub])\n",
    "    \n",
    "for sub in subjects:\n",
    "    for cl in classes:\n",
    "        order = np.argsort(cb_diff_by_sub_class[sub][cl]).astype(int)\n",
    "        sample_ids_ordered_by_sub_class[sub][cl] = [sample_ids_by_sub_class[sub][cl][index] for index in order]"
   ]
  },
  {
   "cell_type": "markdown",
   "id": "607a7ddb-dde1-41a5-9883-3ae7db719169",
   "metadata": {
    "jp-MarkdownHeadingCollapsed": true,
    "tags": []
   },
   "source": [
    "## Create random and ranked sub-samples of dataset "
   ]
  },
  {
   "cell_type": "code",
   "execution_count": 173,
   "id": "db17e25f-37da-4470-9bf6-4459bb45a4fe",
   "metadata": {},
   "outputs": [
    {
     "name": "stdout",
     "output_type": "stream",
     "text": [
      "Creating sub-samples for 892 teachers\n"
     ]
    },
    {
     "name": "stderr",
     "output_type": "stream",
     "text": [
      "100%|█████████████████████████████████████████| 892/892 [00:19<00:00, 46.47it/s]\n"
     ]
    }
   ],
   "source": [
    "# Select how many samples to use for testing sampling strategy\n",
    "sub_sample_size = 5\n",
    "\n",
    "# Select teachers (sub-sample size should be no more than half of the total samples for selected teachers)\n",
    "min_n_samples = 2*sub_sample_size \n",
    "teacher_ids_selected = [teacher_ids[i] for i in range(n_teachers) if n_rows_checked_per_teacher[i] >= min_n_samples]\n",
    "\n",
    "# Create dictionaries to store row numbers and student ids in sub-samples\n",
    "ranked_sub_samples = {}\n",
    "random_sub_samples = {}\n",
    "\n",
    "ranked_sub_sample_student_ids = {}\n",
    "random_sub_sample_student_ids = {}\n",
    "\n",
    "cb_diff_checked_all = []\n",
    "\n",
    "# Iterate over selected teachers\n",
    "print('Creating sub-samples for {0} teachers'.format(len(teacher_ids_selected)))\n",
    "for teacher_id in tqdm(teacher_ids_selected):\n",
    "    \n",
    "    # All row numbers and students for that teacher\n",
    "    row_nos = list(row_nos_per_teacher[teacher_id])\n",
    "    student_ids = list(student_ids_per_teacher[teacher_id])\n",
    "    assert(len(student_ids) == len(row_nos))\n",
    "    \n",
    "    # Teacher row numbers checked by supervisor\n",
    "    row_nos_checked = [row for row in row_nos if student_ids[row_nos.index(row)] in sup_student_ids]\n",
    "    assert(len(row_nos_checked) >= min_n_samples)\n",
    "    \n",
    "    # Difference between score and classification boundary for samples checked by supervisor\n",
    "    cb_diff = np.array([cb_diff_all[row] for row in row_nos_checked])\n",
    "    cb_diff_checked_all.append(cb_diff)\n",
    "    \n",
    "    # In our ranking, we first want to check scores that are equal to or slightly higher than the classification boundary.\n",
    "    # Then we will check scores that are slightly lower than the classification boundary.\n",
    "    # So we need to separately rank-order the scores with non-negative and negative difference from classification boundary.\n",
    "    \n",
    "    \n",
    "    pos_ind = np.where(cb_diff >= 0)[0].astype(int)       # Indices where score is equal to or greater than classification boundary \n",
    "    order_pos = np.argsort(cb_diff[pos_ind]).astype(int)  # Order of scores equal to or greater than classification boundary\n",
    "    order_pos = [pos_ind[i] for i in order_pos]           # Indices where score is equal to or greater than classification boundary, ordered \n",
    "    \n",
    "    neg_ind = np.where(cb_diff < 0)[0].astype(int)                 # Indices where score is less than classification boundary\n",
    "    order_neg = np.flip(np.argsort(cb_diff[neg_ind])).astype(int)  # Order of scores less than classification boundary (descending)\n",
    "    order_neg = [neg_ind[i] for i in order_neg]                    # Indices where score is less than classification boundary, ordered\n",
    "    \n",
    "    order = np.concatenate([order_pos, order_neg]).astype(int)  # Overall order: first scores equal to or greater than cb in ascending order, then scores less than cb in descending order\n",
    "    assert(len(order) == len(row_nos_checked))\n",
    "    \n",
    "    row_nos_ordered = [row_nos_checked[index] for index in order]  # Teacher row numbers checked by supervisor, in order\n",
    "    student_ids_ordered = [student_ids[row_nos.index(row)] for row in row_nos_ordered] # Student ids checked by supervisor for that teacher, in order\n",
    "    \n",
    "    ranked_sub_samples[teacher_id] = row_nos_ordered[:sub_sample_size] # Teacher row numbers selected for ranked sub-sample\n",
    "    ranked_sub_sample_student_ids[teacher_id] = student_ids_ordered[:sub_sample_size] # Student IDs selected for ranked sub-sample\n",
    "    \n",
    "    # For random sample, select a subset of row numbers checked by supervisor\n",
    "    random_sub_samples[teacher_id] = np.random.choice(row_nos_checked, size = sub_sample_size, replace = False)\n",
    "    random_sub_sample_student_ids[teacher_id] = [student_ids[row_nos.index(row)] for row in random_sub_samples[teacher_id]]\n",
    "    \n",
    "cb_diff_checked_all = np.concatenate([cb_diff_checked_all[i] for i in range(len(teacher_ids_selected))])"
   ]
  },
  {
   "cell_type": "markdown",
   "id": "58dbbc4b-c27c-4894-9c96-5c634a251b1f",
   "metadata": {
    "jp-MarkdownHeadingCollapsed": true,
    "tags": []
   },
   "source": [
    "## Check that ranked subset scores are closest to classification boundary"
   ]
  },
  {
   "cell_type": "code",
   "execution_count": 179,
   "id": "00d048f6-3222-47f5-a776-bed7e46cbba0",
   "metadata": {},
   "outputs": [
    {
     "data": {
      "text/plain": [
       "Text(0, 0.5, 'Number of samples (log scale)')"
      ]
     },
     "execution_count": 179,
     "metadata": {},
     "output_type": "execute_result"
    },
    {
     "data": {
      "image/png": "[encoded data removed]",
      "text/plain": [
       "<Figure size 432x288 with 1 Axes>"
      ]
     },
     "metadata": {
      "needs_background": "light"
     },
     "output_type": "display_data"
    }
   ],
   "source": [
    "all_ranked_sub_sample_rows = np.concatenate([ranked_sub_samples[teacher_id] for teacher_id in teacher_ids_selected]).astype(int)\n",
    "all_random_sub_sample_rows = np.concatenate([random_sub_samples[teacher_id] for teacher_id in teacher_ids_selected]).astype(int)\n",
    "\n",
    "cb_diff_ranked_all = [cb_diff_all[row] for row in all_ranked_sub_sample_rows]\n",
    "cb_diff_random_all = [cb_diff_all[row] for row in all_random_sub_sample_rows]\n",
    "assert(len(cb_diff_ranked_all) == len(cb_diff_random_all))\n",
    "\n",
    "plt.figure()\n",
    "results = plt.hist(cb_diff_all, 10, color = 'gray', label = 'All samples')\n",
    "bins = results[1]\n",
    "plt.hist(cb_diff_checked_all, bins, color = 'k', label = 'Samples checked by supervisor')\n",
    "plt.hist(cb_diff_random_all, bins, alpha = 0.8, color = 'm', label = 'Random sub samples')\n",
    "plt.hist(cb_diff_ranked_all, bins, alpha = 0.6, color = 'cyan', label = 'Ranked sub samples')\n",
    "\n",
    "plt.legend()\n",
    "plt.yscale('log')\n",
    "plt.xlabel('Score - classification boundary')\n",
    "plt.ylabel('Number of samples (log scale)')"
   ]
  },
  {
   "cell_type": "markdown",
   "id": "bfe4e8bf-3325-4ab0-bd61-6348ed6e553a",
   "metadata": {
    "tags": []
   },
   "source": [
    "# Test sampling strategies: accuracy of discrepancy score"
   ]
  },
  {
   "cell_type": "markdown",
   "id": "ed62998d-2f89-438c-84e8-2e5551e8f90e",
   "metadata": {
    "tags": []
   },
   "source": [
    "## Plot discrepancy scores for random and ranked sub-samples"
   ]
  },
  {
   "cell_type": "code",
   "execution_count": null,
   "id": "3bd41162-6f50-4318-8e91-3674657b0f66",
   "metadata": {},
   "outputs": [],
   "source": [
    "real_disc_score = []\n",
    "ranked_disc_score = []\n",
    "random_disc_score = []\n",
    "\n",
    "for teacher_id in tqdm(teacher_ids_selected):\n",
    "    \n",
    "    "
   ]
  },
  {
   "cell_type": "markdown",
   "id": "962f0aac-a9b3-488b-8614-7600aacb6b63",
   "metadata": {},
   "source": [
    "## Compare distribution of discrepancy score accuracy for random and ranked sub-samples"
   ]
  },
  {
   "cell_type": "markdown",
   "id": "ac0e7cf0-cbe6-4ccb-b4e2-ce3f4bd68ed3",
   "metadata": {
    "jp-MarkdownHeadingCollapsed": true,
    "tags": []
   },
   "source": [
    "# Test sampling strategies: worst offenders"
   ]
  },
  {
   "cell_type": "markdown",
   "id": "7f64db4b-9cda-4e80-9ed9-ffcc26107301",
   "metadata": {},
   "source": [
    "## Select 'worst offender' teachers"
   ]
  },
  {
   "cell_type": "markdown",
   "id": "be675a3a-39f2-4753-af04-7ba3eb8102a3",
   "metadata": {},
   "source": [
    "## Calculate ability to detect worst offenders for different sampling strategies"
   ]
  },
  {
   "cell_type": "markdown",
   "id": "f12d768a-3fbf-47d7-acad-bde8e0085496",
   "metadata": {},
   "source": [
    "## Compare distribution of worst offender catching efficacy for random and ranked sub-samples"
   ]
  },
  {
   "cell_type": "code",
   "execution_count": null,
   "id": "32ad3d83-6d68-4cbf-a7a1-cf1181599114",
   "metadata": {},
   "outputs": [],
   "source": []
  }
 ],
 "metadata": {
  "kernelspec": {
   "display_name": "discscsim",
   "language": "python",
   "name": "discscsim"
  },
  "language_info": {
   "codemirror_mode": {
    "name": "ipython",
    "version": 3
   },
   "file_extension": ".py",
   "mimetype": "text/x-python",
   "name": "python",
   "nbconvert_exporter": "python",
   "pygments_lexer": "ipython3",
   "version": "3.11.3"
  }
 },
 "nbformat": 4,
 "nbformat_minor": 5
}
