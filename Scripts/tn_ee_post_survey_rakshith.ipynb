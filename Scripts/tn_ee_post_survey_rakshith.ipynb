{
 "cells": [
  {
   "cell_type": "markdown",
   "id": "39ba8c69",
   "metadata": {},
   "source": [
    "# Imports"
   ]
  },
  {
   "cell_type": "markdown",
   "id": "1eac8084",
   "metadata": {},
   "source": [
    "We may have to run the following commands on Anaconda Prompt - after activating the DiscSim environment - to import some of the below packages\n",
    "\n",
    "pip install matplotlib\n",
    "pip install pandas\n",
    "pip install tqdm\n",
    "pip install scipy"
   ]
  },
  {
   "cell_type": "code",
   "execution_count": 1,
   "id": "cfb1ec05",
   "metadata": {},
   "outputs": [],
   "source": [
    "# General modules\n",
    "import matplotlib.pyplot as plt\n",
    "import numpy as np\n",
    "import pandas as pd\n",
    "from os.path import sep\n",
    "from tqdm import tqdm\n",
    "\n",
    "# Local modules\n",
    "import disc_score\n",
    "import binomial_confidence\n",
    "\n",
    "# Enable re-load of local modules every time they are called\n",
    "%load_ext autoreload\n",
    "%autoreload 2\n",
    "%aimport numpy \n",
    "%aimport pandas"
   ]
  },
  {
   "cell_type": "markdown",
   "id": "110ac905",
   "metadata": {},
   "source": [
    "# Load data"
   ]
  },
  {
   "cell_type": "markdown",
   "id": "d7a48531",
   "metadata": {},
   "source": [
    "ERROR FLAG: I added the ee_data.csv to the DiscSim folder and committed it to my branch. But when I ran the read_csv command and used your home_folder and filename codes to import the csv, it kept giving a \"File not found\" error. Just so that I do not waste time, I imported the data using the local path to the file. TBD."
   ]
  },
  {
   "cell_type": "code",
   "execution_count": 23,
   "id": "ae9946ca",
   "metadata": {},
   "outputs": [
    {
     "name": "stdout",
     "output_type": "stream",
     "text": [
      "The following variables were found in the subordinate dataset:\n",
      "    identifier\n",
      "    student_id\n",
      "    Subject\n",
      "    1st question Level\n",
      "    1st level score\n",
      "    2nd question Level\n",
      "    2nd level score\n",
      "    3rd question Level\n",
      "    3rd level score\n",
      "    Cluster ID\n",
      "    School ID\n",
      "    district\n",
      "    Teacher User ID\n",
      "    class\n",
      "    baseline\n",
      "    Student Identifier\n"
     ]
    }
   ],
   "source": [
    "# Loading the subordinate dataset ee_data.csv\n",
    "#home_folder = 'Documents{0}CEGIS{0}DiscSim'.format(sep)\n",
    "sub_data = pd.read_csv(r\"C:\\Users\\Cegis\\Documents\\ee_data.csv\")\n",
    "variables = sub_data.columns\n",
    "n_variables = len(variables)\n",
    "\n",
    "print('The following variables were found in the subordinate dataset:')\n",
    "for v in variables:\n",
    "    print('    {0}'.format(v))"
   ]
  },
  {
   "cell_type": "code",
   "execution_count": 24,
   "id": "455f2ad6",
   "metadata": {},
   "outputs": [
    {
     "name": "stdout",
     "output_type": "stream",
     "text": [
      "The new column names are as follows: \n",
      "\n",
      "    ID\n",
      "    Student_ID\n",
      "    Subject\n",
      "    Sub_Q1_Level\n",
      "    Sub_Q1_Score\n",
      "    Sub_Q2_Level\n",
      "    Sub_Q2_Score\n",
      "    Sub_Q3_Level\n",
      "    Sub_Q3_Score\n",
      "    Cluster_ID\n",
      "    School_ID\n",
      "    District\n",
      "    Sub_ID\n",
      "    Stu_Class\n",
      "    Stu_Baseline_Level\n",
      "    Stu_Identifier\n"
     ]
    }
   ],
   "source": [
    "# Renaming the variables \n",
    "sub_data.columns = ['ID', 'Student_ID', 'Subject', 'Sub_Q1_Level', 'Sub_Q1_Score', 'Sub_Q2_Level', 'Sub_Q2_Score', 'Sub_Q3_Level', 'Sub_Q3_Score', 'Cluster_ID', 'School_ID', 'District', 'Sub_ID', 'Stu_Class', 'Stu_Baseline_Level', 'Stu_Identifier']\n",
    "variables = sub_data.columns\n",
    "print(\"The new column names are as follows: \\n\")\n",
    "for v in variables:\n",
    "    print('    {0}'.format(v))"
   ]
  },
  {
   "cell_type": "code",
   "execution_count": 25,
   "id": "7babbb17",
   "metadata": {},
   "outputs": [
    {
     "name": "stdout",
     "output_type": "stream",
     "text": [
      "The following variables were found in the supervisor dataset:\n",
      "    UID\n",
      "    district\n",
      "    block id\n",
      "    cluster id\n",
      "    Student Identifier\n",
      "    school id\n",
      "    subject\n",
      "    class\n",
      "    baseline\n",
      "    1st question Level\n",
      "    1st level score\n",
      "    2nd question Level\n",
      "    2nd level score\n",
      "    3rd question Level\n",
      "    3rd level score\n",
      "    Admin User ID\n"
     ]
    }
   ],
   "source": [
    "# Loading the supervisor dataset ee_ees_data.csv\n",
    "sup_data = pd.read_csv(r\"C:\\Users\\Cegis\\Documents\\ee_ees_data.csv\")\n",
    "variables = sup_data.columns\n",
    "n_variables = len(variables)\n",
    "\n",
    "print('The following variables were found in the supervisor dataset:')\n",
    "for v in variables:\n",
    "    print('    {0}'.format(v))"
   ]
  },
  {
   "cell_type": "code",
   "execution_count": 26,
   "id": "f0f0d408",
   "metadata": {},
   "outputs": [
    {
     "name": "stdout",
     "output_type": "stream",
     "text": [
      "The new column names are as follows: \n",
      "\n",
      "    ID\n",
      "    District\n",
      "    Block_ID\n",
      "    Cluster_ID\n",
      "    Stu_Identifier\n",
      "    School_ID\n",
      "    Subject\n",
      "    Stu_Class\n",
      "    Stu_Baseline_Level\n",
      "    Sup_Q1_Level\n",
      "    Sup_Q1_Score\n",
      "    Sup_Q2_Level\n",
      "    Sup_Q2_Score\n",
      "    Sup_Q3_Level\n",
      "    Sup_Q3_Score\n",
      "    Sup_ID\n"
     ]
    }
   ],
   "source": [
    "# Renaming the variables \n",
    "sup_data.columns = ['ID', 'District', 'Block_ID', 'Cluster_ID', 'Stu_Identifier', 'School_ID', 'Subject', 'Stu_Class','Stu_Baseline_Level', 'Sup_Q1_Level', 'Sup_Q1_Score', 'Sup_Q2_Level', 'Sup_Q2_Score', 'Sup_Q3_Level', 'Sup_Q3_Score', 'Sup_ID']\n",
    "variables = sup_data.columns\n",
    "print(\"The new column names are as follows: \\n\")\n",
    "for v in variables:\n",
    "    print('    {0}'.format(v))"
   ]
  },
  {
   "cell_type": "markdown",
   "id": "26f794f5",
   "metadata": {},
   "source": [
    "# Merging the subordinate and supervisor datasets"
   ]
  },
  {
   "cell_type": "code",
   "execution_count": 27,
   "id": "c97cea25",
   "metadata": {},
   "outputs": [
    {
     "name": "stdout",
     "output_type": "stream",
     "text": [
      "Number of observations in supervisor dataset: \n",
      "13577\n",
      "\n",
      "\n",
      "Number of observations in subordinate dataset: \n",
      "166850\n"
     ]
    }
   ],
   "source": [
    "print(\"Number of observations in supervisor dataset: \")\n",
    "print(len(sup_data))\n",
    "print(\"\\n\")\n",
    "print(\"Number of observations in subordinate dataset: \")\n",
    "print(len(sub_data))\n"
   ]
  },
  {
   "cell_type": "code",
   "execution_count": 28,
   "id": "19d1949b",
   "metadata": {},
   "outputs": [
    {
     "name": "stdout",
     "output_type": "stream",
     "text": [
      "The supervisor and subordinate datasets have been merged. \n",
      "\n",
      "Number of observations in the merged dataset: \n",
      "13577\n",
      "\n",
      "\n",
      "The variables in the merged dataset are as follows: \n",
      "    ID\n",
      "    District_x\n",
      "    Block_ID\n",
      "    Cluster_ID_x\n",
      "    Stu_Identifier_x\n",
      "    School_ID_x\n",
      "    Subject_x\n",
      "    Stu_Class_x\n",
      "    Stu_Baseline_Level_x\n",
      "    Sup_Q1_Level\n",
      "    Sup_Q1_Score\n",
      "    Sup_Q2_Level\n",
      "    Sup_Q2_Score\n",
      "    Sup_Q3_Level\n",
      "    Sup_Q3_Score\n",
      "    Sup_ID\n",
      "    Student_ID\n",
      "    Subject_y\n",
      "    Sub_Q1_Level\n",
      "    Sub_Q1_Score\n",
      "    Sub_Q2_Level\n",
      "    Sub_Q2_Score\n",
      "    Sub_Q3_Level\n",
      "    Sub_Q3_Score\n",
      "    Cluster_ID_y\n",
      "    School_ID_y\n",
      "    District_y\n",
      "    Sub_ID\n",
      "    Stu_Class_y\n",
      "    Stu_Baseline_Level_y\n",
      "    Stu_Identifier_y\n"
     ]
    }
   ],
   "source": [
    "# Performing an inner join to merge the subordinate \n",
    "data = pd.merge(sup_data, sub_data, on='ID')\n",
    "print(\"The supervisor and subordinate datasets have been merged. \\n\")\n",
    "print(\"Number of observations in the merged dataset: \")\n",
    "print(len(data))\n",
    "print(\"\\n\")\n",
    "print(\"The variables in the merged dataset are as follows: \")\n",
    "variables = data.columns\n",
    "for v in variables:\n",
    "    print('    {0}'.format(v))\n",
    "    "
   ]
  },
  {
   "cell_type": "code",
   "execution_count": 29,
   "id": "bdbfccd9",
   "metadata": {},
   "outputs": [
    {
     "name": "stdout",
     "output_type": "stream",
     "text": [
      "    ID\n",
      "    District\n",
      "    Block_ID\n",
      "    Cluster_ID\n",
      "    Stu_Identifier\n",
      "    School_ID\n",
      "    Subject\n",
      "    Stu_Class\n",
      "    Stu_Baseline_Level\n",
      "    Sup_Q1_Level\n",
      "    Sup_Q1_Score\n",
      "    Sup_Q2_Level\n",
      "    Sup_Q2_Score\n",
      "    Sup_Q3_Level\n",
      "    Sup_Q3_Score\n",
      "    Sup_ID\n",
      "    Student_ID\n",
      "    Sub_Q1_Level\n",
      "    Sub_Q1_Score\n",
      "    Sub_Q2_Level\n",
      "    Sub_Q2_Score\n",
      "    Sub_Q3_Level\n",
      "    Sub_Q3_Score\n",
      "    Sub_ID\n"
     ]
    }
   ],
   "source": [
    "# Dropping unnecessary rows from the merged dataset\n",
    "data.pop('Cluster_ID_y')\n",
    "data.pop('School_ID_y')\n",
    "data.pop('District_y')\n",
    "data.pop('Stu_Class_y')\n",
    "data.pop('Stu_Baseline_Level_y')\n",
    "data.pop('Stu_Identifier_y')\n",
    "data.pop('Subject_y')\n",
    "\n",
    "# Renaming variables in the merged dataset\n",
    "data.rename(columns = {'District_x':'District'}, inplace = True)\n",
    "data.rename(columns = {'Cluster_ID_x':'Cluster_ID'}, inplace = True)\n",
    "data.rename(columns = {'Stu_Identifier_x':'Stu_Identifier'}, inplace = True)\n",
    "data.rename(columns = {'School_ID_x':'School_ID'}, inplace = True)\n",
    "data.rename(columns = {'Subject_x':'Subject'}, inplace = True)\n",
    "data.rename(columns = {'Stu_Class_x':'Stu_Class'}, inplace = True)\n",
    "data.rename(columns = {'Stu_Baseline_Level_x':'Stu_Baseline_Level'}, inplace = True)\n",
    "\n",
    "variables = data.columns\n",
    "for v in variables:\n",
    "    print('    {0}'.format(v))"
   ]
  },
  {
   "cell_type": "code",
   "execution_count": 48,
   "id": "1fbe66c3",
   "metadata": {},
   "outputs": [
    {
     "name": "stdout",
     "output_type": "stream",
     "text": [
      "The merged dataset looks like this: \n",
      " \n",
      "\n",
      "            ID      District  Block_ID   Cluster_ID  Stu_Identifier  \\\n",
      "0  022724217_1  CHENGALPATTU         5  33030600402        22724217   \n",
      "1  022724217_3  CHENGALPATTU         5  33030600402        22724217   \n",
      "2  022860415_1  CHENGALPATTU         7  33030804503        22860415   \n",
      "3  023043741_2  CHENGALPATTU         9  33031203303        23043741   \n",
      "\n",
      "     School_ID      Subject  Stu_Class Stu_Baseline_Level Sup_Q1_Level  ...  \\\n",
      "0  33030600201      English          3              Malar        Malar  ...   \n",
      "1  33030600201        Tamil          3              Malar        Malar  ...   \n",
      "2  33030806401      English          3              Malar        Malar  ...   \n",
      "3  33031203501  Mathematics          3              Malar        Malar  ...   \n",
      "\n",
      "   Student_ID Sub_Q1_Level  Sub_Q1_Score Sub_Q2_Level  Sub_Q2_Score  \\\n",
      "0  2022724217        Malar            10          NaN           NaN   \n",
      "1  2022724217        Malar            10          NaN           NaN   \n",
      "2  2022860415        Malar            10          NaN           NaN   \n",
      "3  2023043741        Malar            10          NaN           NaN   \n",
      "\n",
      "   Sub_Q3_Level  Sub_Q3_Score    Sub_ID  Stu_Endline_Level_Sub  \\\n",
      "0           NaN           NaN  20023719                          \n",
      "1           NaN           NaN  20023719                          \n",
      "2           NaN           NaN  20026176                          \n",
      "3           NaN           NaN  20305621                          \n",
      "\n",
      "  Stu_Endline_Level_Sup  \n",
      "0                 Malar  \n",
      "1                 Malar  \n",
      "2                 Malar  \n",
      "3                 Mottu  \n",
      "\n",
      "[4 rows x 26 columns]\n"
     ]
    }
   ],
   "source": [
    "print(\"The merged dataset looks like this: \\n \\n\")\n",
    "print(data.head(4))\n",
    "\n",
    "# Exporting the merged dataset\n",
    "export_path = r'C:\\Users\\Cegis\\Documents\\discsim_edu_L0_L1_merged.csv'\n",
    "data.to_csv(export_path, index = False)"
   ]
  },
  {
   "cell_type": "markdown",
   "id": "ddd4ea69",
   "metadata": {},
   "source": [
    "# Details about the data\n",
    "\n",
    "Passing marks: Mathematics 9 English 8 Tamil 8\n",
    "\n",
    "Levels: 1 Arumbu 2 Mottu 3 Malar\n",
    "\n",
    "Class 1 students can only be tested for Arumbu level\n",
    "Class 2 students can only be tested for Arumbu and Mottu levels\n",
    "Class 3 students can be tested for Arumbu, Mottu, and Malar levels\n",
    "\n",
    "Refer to TN Education Project Analysis Summary document for more details on levels, grading, assessment, and discrepancy analysis methodology"
   ]
  },
  {
   "cell_type": "markdown",
   "id": "a8d72ca6",
   "metadata": {},
   "source": [
    "# Function to determine endline level assigned by the subordinate (L0)"
   ]
  },
  {
   "cell_type": "code",
   "execution_count": 61,
   "id": "621e05be",
   "metadata": {},
   "outputs": [],
   "source": [
    "def endline_level_sub(df):\n",
    "    df['Stu_Endline_Level_Sub'] = ''\n",
    "    \n",
    "    # Below Arumbu\n",
    "    # For students in class 1 Arumbu, class 2 Arumbu, and class 3 Arumbu\n",
    "    df.loc[(df['Stu_Baseline_Level']=='Arumbu') & (df['Subject']=='Mathematics') & (df['Sub_Q1_Score'] < 9),'Stu_Endline_Level_Sub']='Below Arumbu'\n",
    "    df.loc[(df['Stu_Baseline_Level']=='Arumbu') & (df['Subject']=='English') & (df['Sub_Q1_Score'] < 8),'Stu_Endline_Level_Sub']='Below Arumbu'\n",
    "    df.loc[(df['Stu_Baseline_Level']=='Arumbu') & (df['Subject']=='Tamil') & (df['Sub_Q1_Score'] < 8),'Stu_Endline_Level_Sub']='Below Arumbu'\n",
    "            \n",
    "    # Arumbu\n",
    "    \n",
    "    # For students in class 1 Arumbu\n",
    "    df.loc[(df['Stu_Class']==1) & (df['Stu_Baseline_Level']=='Arumbu') & (df['Subject']=='Mathematics') & (df['Sub_Q1_Score'] >= 9),'Stu_Endline_Level_Sub']='Arumbu'\n",
    "    df.loc[(df['Stu_Class']==1) & (df['Stu_Baseline_Level']=='Arumbu') & (df['Subject']=='English') & (df['Sub_Q1_Score'] >= 8),'Stu_Endline_Level_Sub']='Arumbu'\n",
    "    df.loc[(df['Stu_Class']==1) & (df['Stu_Baseline_Level']=='Arumbu') & (df['Subject']=='Tamil') & (df['Sub_Q1_Score'] >= 8),'Stu_Endline_Level_Sub']='Arumbu'\n",
    "    \n",
    "    # For students in class 2 Arumbu\n",
    "    df.loc[(df['Stu_Class']==2) & (df['Stu_Baseline_Level']=='Arumbu') & (df['Subject']=='Mathematics') & (df['Sub_Q1_Score'] >= 9) & (df['Sub_Q2_Score'] < 9),'Stu_Endline_Level_Sub']='Arumbu'\n",
    "    df.loc[(df['Stu_Class']==2) & (df['Stu_Baseline_Level']=='Arumbu') & (df['Subject']=='English') & (df['Sub_Q1_Score'] >= 8) & (df['Sub_Q2_Score'] < 8),'Stu_Endline_Level_Sub']='Arumbu'\n",
    "    df.loc[(df['Stu_Class']==2) & (df['Stu_Baseline_Level']=='Arumbu') & (df['Subject']=='Tamil') & (df['Sub_Q1_Score'] >= 8) & (df['Sub_Q2_Score'] < 8),'Stu_Endline_Level_Sub']='Arumbu'\n",
    "    \n",
    "    # For students in class 3 Arumbu\n",
    "    df.loc[(df['Stu_Class']==3) & (df['Stu_Baseline_Level']=='Arumbu') & (df['Subject']=='Mathematics') & (df['Sub_Q1_Score'] >= 9) & (df['Sub_Q2_Score'] < 9),'Stu_Endline_Level_Sub']='Arumbu'\n",
    "    df.loc[(df['Stu_Class']==3) & (df['Stu_Baseline_Level']=='Arumbu') & (df['Subject']=='English') & (df['Sub_Q1_Score'] >= 8) & (df['Sub_Q2_Score'] < 8),'Stu_Endline_Level_Sub']='Arumbu'\n",
    "    df.loc[(df['Stu_Class']==3) & (df['Stu_Baseline_Level']=='Arumbu') & (df['Subject']=='Tamil') & (df['Sub_Q1_Score'] >= 8) & (df['Sub_Q2_Score'] < 8),'Stu_Endline_Level_Sub']='Arumbu'\n",
    "    \n",
    "    # For students in class 2 Mottu\n",
    "    df.loc[(df['Stu_Class']==2) & (df['Stu_Baseline_Level']=='Mottu') & (df['Subject']=='Mathematics') & (df['Sub_Q1_Score'] < 9),'Stu_Endline_Level_Sub']='Arumbu'\n",
    "    df.loc[(df['Stu_Class']==2) & (df['Stu_Baseline_Level']=='Mottu') & (df['Subject']=='English') & (df['Sub_Q1_Score'] < 8),'Stu_Endline_Level_Sub']='Arumbu'\n",
    "    df.loc[(df['Stu_Class']==2) & (df['Stu_Baseline_Level']=='Mottu') & (df['Subject']=='Tamil') & (df['Sub_Q1_Score'] < 8),'Stu_Endline_Level_Sub']='Arumbu'\n",
    "    \n",
    "    # For students in class 3 Mottu\n",
    "    df.loc[(df['Stu_Class']==3) & (df['Stu_Baseline_Level']=='Mottu') & (df['Subject']=='Mathematics') & (df['Sub_Q1_Score'] < 9),'Stu_Endline_Level_Sub']='Arumbu'\n",
    "    df.loc[(df['Stu_Class']==3) & (df['Stu_Baseline_Level']=='Mottu') & (df['Subject']=='English') & (df['Sub_Q1_Score'] < 8),'Stu_Endline_Level_Sub']='Arumbu'\n",
    "    df.loc[(df['Stu_Class']==3) & (df['Stu_Baseline_Level']=='Mottu') & (df['Subject']=='Tamil') & (df['Sub_Q1_Score'] < 8),'Stu_Endline_Level_Sub']='Arumbu'\n",
    "    \n",
    "    # Mottu\n",
    "    \n",
    "    # For students in Class 2 Arumbu\n",
    "    df.loc[(df['Stu_Class']==2) & (df['Stu_Baseline_Level']=='Arumbu') & (df['Subject']=='Mathematics') & (df['Sub_Q1_Score'] >= 9) & (df['Sub_Q2_Score'] >= 9),'Stu_Endline_Level_Sub']='Mottu'\n",
    "    df.loc[(df['Stu_Class']==2) & (df['Stu_Baseline_Level']=='Arumbu') & (df['Subject']=='English') & (df['Sub_Q1_Score']>= 8) & (df['Sub_Q2_Score'] >= 8),'Stu_Endline_Level_Sub']='Mottu'\n",
    "    df.loc[(df['Stu_Class']==2) & (df['Stu_Baseline_Level']=='Arumbu') & (df['Subject']=='Tamil') & (df['Sub_Q1_Score'] >= 8) & (df['Sub_Q2_Score'] >= 8),'Stu_Endline_Level_Sub']='Mottu'\n",
    "    \n",
    "    # For students in Class 3 Arumbu\n",
    "    df.loc[(df['Stu_Class']==3) & (df['Stu_Baseline_Level']=='Arumbu') & (df['Subject']=='Mathematics') & (df['Sub_Q1_Score'] >= 9) & (df['Sub_Q2_Score'] >= 9) & (df['Sub_Q3_Score'] < 9),'Stu_Endline_Level_Sub']='Mottu'\n",
    "    df.loc[(df['Stu_Class']==3) & (df['Stu_Baseline_Level']=='Arumbu') & (df['Subject']=='English') & (df['Sub_Q1_Score'] >= 8) & (df['Sub_Q2_Score'] >= 8) & (df['Sub_Q3_Score'] < 8),'Stu_Endline_Level_Sub']='Mottu'\n",
    "    df.loc[(df['Stu_Class']==3) & (df['Stu_Baseline_Level']=='Arumbu') & (df['Subject']=='Tamil') & (df['Sub_Q1_Score'] >= 8) & (df['Sub_Q2_Score'] >= 8) & (df['Sub_Q3_Score'] < 8),'Stu_Endline_Level_Sub']='Mottu'\n",
    "\n",
    "    # For students in class 2 Mottu\n",
    "    df.loc[(df['Stu_Class']==2) & (df['Stu_Baseline_Level']=='Mottu') & (df['Subject']=='Mathematics') & (df['Sub_Q1_Score'] >= 9),'Stu_Endline_Level_Sub']='Mottu'\n",
    "    df.loc[(df['Stu_Class']==2) & (df['Stu_Baseline_Level']=='Mottu') & (df['Subject']=='English') & (df['Sub_Q1_Score'] >= 8),'Stu_Endline_Level_Sub']='Mottu'\n",
    "    df.loc[(df['Stu_Class']==2) & (df['Stu_Baseline_Level']=='Mottu') & (df['Subject']=='Tamil') & (df['Sub_Q1_Score'] >= 8),'Stu_Endline_Level_Sub']='Mottu'\n",
    "    \n",
    "    # For students in class 3 Mottu\n",
    "    df.loc[(df['Stu_Class']==3) & (df['Stu_Baseline_Level']=='Mottu') & (df['Subject']=='Mathematics') & (df['Sub_Q1_Score'] >= 9) & (df['Sub_Q2_Score']<9),'Stu_Endline_Level_Sub']='Mottu'\n",
    "    df.loc[(df['Stu_Class']==3) & (df['Stu_Baseline_Level']=='Mottu') & (df['Subject']=='English') & (df['Sub_Q1_Score'] >= 8) & (df['Sub_Q2_Score']<8),'Stu_Endline_Level_Sub']='Mottu'\n",
    "    df.loc[(df['Stu_Class']==3) & (df['Stu_Baseline_Level']=='Mottu') & (df['Subject']=='Tamil') & (df['Sub_Q1_Score'] >= 8) & (df['Sub_Q2_Score']<8),'Stu_Endline_Level_Sub']='Mottu'\n",
    "    \n",
    "    # For students in class 3 Malar\n",
    "    df.loc[(df['Stu_Class']==3) & (df['Stu_Baseline_Level']=='Malar') & (df['Subject']=='Mathematics') & (df['Sub_Q1_Score'] < 9),'Stu_Endline_Level_Sub']='Mottu'\n",
    "    df.loc[(df['Stu_Class']==3) & (df['Stu_Baseline_Level']=='Malar') & (df['Subject']=='English') & (df['Sub_Q1_Score'] < 8),'Stu_Endline_Level_Sub']='Mottu'\n",
    "    df.loc[(df['Stu_Class']==3) & (df['Stu_Baseline_Level']=='Malar') & (df['Subject']=='Tamil') & (df['Sub_Q1_Score'] < 8),'Stu_Endline_Level_Sub']='Mottu'\n",
    "    \n",
    "    # Malar\n",
    "    \n",
    "    # For students in Class 3 Arumbu\n",
    "    df.loc[(df['Stu_Class']==3) & (df['Stu_Baseline_Level']=='Arumbu') & (df['Subject']=='Mathematics') & (df['Sub_Q1_Score'] >= 9) & (df['Sub_Q2_Score'] >= 9) & (df['Sub_Q3_Score'] >= 9),'Stu_Endline_Level_Sub']='Malar'\n",
    "    df.loc[(df['Stu_Class']==3) & (df['Stu_Baseline_Level']=='Arumbu') & (df['Subject']=='English') & (df['Sub_Q1_Score'] >= 8) & (df['Sub_Q2_Score'] >= 8) & (df['Sub_Q3_Score'] >= 8),'Stu_Endline_Level_Sub']='Malar'\n",
    "    df.loc[(df['Stu_Class']==3) & (df['Stu_Baseline_Level']=='Arumbu') & (df['Subject']=='Tamil') & (df['Sub_Q1_Score'] >= 8) & (df['Sub_Q2_Score'] >= 8) & (df['Sub_Q3_Score'] >= 8),'Stu_Endline_Level_Sub']='Malar'\n",
    "    \n",
    "    # For students in Class 3 Mottu\n",
    "    df.loc[(df['Stu_Class']==3) & (df['Stu_Baseline_Level']=='Mottu') & (df['Subject']=='Mathematics') & (df['Sub_Q1_Score'] >= 9) & (df['Sub_Q2_Score'] >= 9),'Stu_Endline_Level_Sub']='Malar'\n",
    "    df.loc[(df['Stu_Class']==3) & (df['Stu_Baseline_Level']=='Mottu') & (df['Subject']=='English') & (df['Sub_Q1_Score'] >= 8) & (df['Sub_Q2_Score'] >= 8),'Stu_Endline_Level_Sub']='Malar'\n",
    "    df.loc[(df['Stu_Class']==3) & (df['Stu_Baseline_Level']=='Mottu') & (df['Subject']=='Tamil') & (df['Sub_Q1_Score'] >= 8) & (df['Sub_Q2_Score'] >= 8),'Stu_Endline_Level_Sub']='Malar'\n",
    "    \n",
    "    # For students in Class 3 Malar\n",
    "    df.loc[(df['Stu_Class']==3) & (df['Stu_Baseline_Level']=='Malar') & (df['Subject']=='Mathematics') & (df['Sub_Q1_Score'] >= 9),'Stu_Endline_Level_Sub']='Malar'\n",
    "    df.loc[(df['Stu_Class']==3) & (df['Stu_Baseline_Level']=='Malar') & (df['Subject']=='English') & (df['Sub_Q1_Score'] >= 8),'Stu_Endline_Level_Sub']='Malar'\n",
    "    df.loc[(df['Stu_Class']==3) & (df['Stu_Baseline_Level']=='Malar') & (df['Subject']=='Tamil') & (df['Sub_Q1_Score'] >= 8),'Stu_Endline_Level_Sub']='Malar'\n",
    "    \n",
    "    return df"
   ]
  },
  {
   "cell_type": "markdown",
   "id": "e2beba93",
   "metadata": {},
   "source": [
    "# Function to determine endline level assigned by the supervisor (L1)"
   ]
  },
  {
   "cell_type": "code",
   "execution_count": 60,
   "id": "42f3c178",
   "metadata": {},
   "outputs": [],
   "source": [
    "def endline_level_sup(df):\n",
    "    df['Stu_Endline_Level_Sup'] = ''\n",
    "    \n",
    "    # Below Arumbu\n",
    "    # For students in class 1 Arumbu, class 2 Arumbu, and class 3 Arumbu\n",
    "    df.loc[(df['Stu_Baseline_Level']=='Arumbu') & (df['Subject']=='Mathematics') & (df['Sup_Q1_Score'] < 9),'Stu_Endline_Level_Sup']='Below Arumbu'\n",
    "    df.loc[(df['Stu_Baseline_Level']=='Arumbu') & (df['Subject']=='English') & (df['Sup_Q1_Score'] < 8),'Stu_Endline_Level_Sup']='Below Arumbu'\n",
    "    df.loc[(df['Stu_Baseline_Level']=='Arumbu') & (df['Subject']=='Tamil') & (df['Sup_Q1_Score'] < 8),'Stu_Endline_Level_Sup']='Below Arumbu'\n",
    "            \n",
    "    # Arumbu\n",
    "    \n",
    "    # For students in class 1 Arumbu\n",
    "    df.loc[(df['Stu_Class']==1) & (df['Stu_Baseline_Level']=='Arumbu') & (df['Subject']=='Mathematics') & (df['Sup_Q1_Score'] >= 9),'Stu_Endline_Level_Sup']='Arumbu'\n",
    "    df.loc[(df['Stu_Class']==1) & (df['Stu_Baseline_Level']=='Arumbu') & (df['Subject']=='English') & (df['Sup_Q1_Score'] >= 8),'Stu_Endline_Level_Sup']='Arumbu'\n",
    "    df.loc[(df['Stu_Class']==1) & (df['Stu_Baseline_Level']=='Arumbu') & (df['Subject']=='Tamil') & (df['Sup_Q1_Score'] >= 8),'Stu_Endline_Level_Sup']='Arumbu'\n",
    "    \n",
    "    # For students in class 2 Arumbu\n",
    "    df.loc[(df['Stu_Class']==2) & (df['Stu_Baseline_Level']=='Arumbu') & (df['Subject']=='Mathematics') & (df['Sup_Q1_Score'] >= 9) & (df['Sup_Q2_Score'] < 9),'Stu_Endline_Level_Sup']='Arumbu'\n",
    "    df.loc[(df['Stu_Class']==2) & (df['Stu_Baseline_Level']=='Arumbu') & (df['Subject']=='English') & (df['Sup_Q1_Score'] >= 8) & (df['Sup_Q2_Score'] < 8),'Stu_Endline_Level_Sup']='Arumbu'\n",
    "    df.loc[(df['Stu_Class']==2) & (df['Stu_Baseline_Level']=='Arumbu') & (df['Subject']=='Tamil') & (df['Sup_Q1_Score'] >= 8) & (df['Sup_Q2_Score'] < 8),'Stu_Endline_Level_Sup']='Arumbu'\n",
    "    \n",
    "    # For students in class 3 Arumbu\n",
    "    df.loc[(df['Stu_Class']==3) & (df['Stu_Baseline_Level']=='Arumbu') & (df['Subject']=='Mathematics') & (df['Sup_Q1_Score'] >= 9) & (df['Sup_Q2_Score'] < 9),'Stu_Endline_Level_Sup']='Arumbu'\n",
    "    df.loc[(df['Stu_Class']==3) & (df['Stu_Baseline_Level']=='Arumbu') & (df['Subject']=='English') & (df['Sup_Q1_Score'] >= 8) & (df['Sup_Q2_Score'] < 8),'Stu_Endline_Level_Sup']='Arumbu'\n",
    "    df.loc[(df['Stu_Class']==3) & (df['Stu_Baseline_Level']=='Arumbu') & (df['Subject']=='Tamil') & (df['Sup_Q1_Score'] >= 8) & (df['Sup_Q2_Score'] < 8),'Stu_Endline_Level_Sup']='Arumbu'\n",
    "    \n",
    "    # For students in class 2 Mottu\n",
    "    df.loc[(df['Stu_Class']==2) & (df['Stu_Baseline_Level']=='Mottu') & (df['Subject']=='Mathematics') & (df['Sup_Q1_Score'] < 9),'Stu_Endline_Level_Sup']='Arumbu'\n",
    "    df.loc[(df['Stu_Class']==2) & (df['Stu_Baseline_Level']=='Mottu') & (df['Subject']=='English') & (df['Sup_Q1_Score'] < 8),'Stu_Endline_Level_Sup']='Arumbu'\n",
    "    df.loc[(df['Stu_Class']==2) & (df['Stu_Baseline_Level']=='Mottu') & (df['Subject']=='Tamil') & (df['Sup_Q1_Score'] < 8),'Stu_Endline_Level_Sup']='Arumbu'\n",
    "    \n",
    "    # For students in class 3 Mottu\n",
    "    df.loc[(df['Stu_Class']==3) & (df['Stu_Baseline_Level']=='Mottu') & (df['Subject']=='Mathematics') & (df['Sup_Q1_Score'] < 9),'Stu_Endline_Level_Sup']='Arumbu'\n",
    "    df.loc[(df['Stu_Class']==3) & (df['Stu_Baseline_Level']=='Mottu') & (df['Subject']=='English') & (df['Sup_Q1_Score'] < 8),'Stu_Endline_Level_Sup']='Arumbu'\n",
    "    df.loc[(df['Stu_Class']==3) & (df['Stu_Baseline_Level']=='Mottu') & (df['Subject']=='Tamil') & (df['Sup_Q1_Score'] < 8),'Stu_Endline_Level_Sup']='Arumbu'\n",
    "    \n",
    "    # Mottu\n",
    "    \n",
    "    # For students in Class 2 Arumbu\n",
    "    df.loc[(df['Stu_Class']==2) & (df['Stu_Baseline_Level']=='Arumbu') & (df['Subject']=='Mathematics') & (df['Sup_Q1_Score'] >= 9) & (df['Sup_Q2_Score'] >= 9),'Stu_Endline_Level_Sup']='Mottu'\n",
    "    df.loc[(df['Stu_Class']==2) & (df['Stu_Baseline_Level']=='Arumbu') & (df['Subject']=='English') & (df['Sup_Q1_Score'] >= 8) & (df['Sup_Q2_Score'] >= 8),'Stu_Endline_Level_Sup']='Mottu'\n",
    "    df.loc[(df['Stu_Class']==2) & (df['Stu_Baseline_Level']=='Arumbu') & (df['Subject']=='Tamil') & (df['Sup_Q1_Score'] >= 8) & (df['Sup_Q2_Score'] >= 8),'Stu_Endline_Level_Sup']='Mottu'\n",
    "    \n",
    "    # For students in Class 3 Arumbu\n",
    "    df.loc[(df['Stu_Class']==3) & (df['Stu_Baseline_Level']=='Arumbu') & (df['Subject']=='Mathematics') & (df['Sup_Q1_Score'] >= 9) & (df['Sup_Q2_Score'] >= 9) & (df['Sup_Q3_Score'] < 9),'Stu_Endline_Level_Sup']='Mottu'\n",
    "    df.loc[(df['Stu_Class']==3) & (df['Stu_Baseline_Level']=='Arumbu') & (df['Subject']=='English') & (df['Sup_Q1_Score'] >= 8) & (df['Sup_Q2_Score'] >= 8) & (df['Sup_Q3_Score'] < 8),'Stu_Endline_Level_Sup']='Mottu'\n",
    "    df.loc[(df['Stu_Class']==3) & (df['Stu_Baseline_Level']=='Arumbu') & (df['Subject']=='Tamil') & (df['Sup_Q1_Score'] >= 8) & (df['Sup_Q2_Score'] >= 8) & (df['Sup_Q3_Score'] < 8),'Stu_Endline_Level_Sup']='Mottu'\n",
    "\n",
    "    # For students in class 2 Mottu\n",
    "    df.loc[(df['Stu_Class']==2) & (df['Stu_Baseline_Level']=='Mottu') & (df['Subject']=='Mathematics') & (df['Sup_Q1_Score'] >= 9),'Stu_Endline_Level_Sup']='Mottu'\n",
    "    df.loc[(df['Stu_Class']==2) & (df['Stu_Baseline_Level']=='Mottu') & (df['Subject']=='English') & (df['Sup_Q1_Score'] >= 8),'Stu_Endline_Level_Sup']='Mottu'\n",
    "    df.loc[(df['Stu_Class']==2) & (df['Stu_Baseline_Level']=='Mottu') & (df['Subject']=='Tamil') & (df['Sup_Q1_Score'] >= 8),'Stu_Endline_Level_Sup']='Mottu'\n",
    "    \n",
    "    # For students in class 3 Mottu\n",
    "    df.loc[(df['Stu_Class']==3) & (df['Stu_Baseline_Level']=='Mottu') & (df['Subject']=='Mathematics') & (df['Sup_Q1_Score'] >= 9) & (df['Sup_Q2_Score']<9),'Stu_Endline_Level_Sup']='Mottu'\n",
    "    df.loc[(df['Stu_Class']==3) & (df['Stu_Baseline_Level']=='Mottu') & (df['Subject']=='English') & (df['Sup_Q1_Score'] >= 8) & (df['Sup_Q2_Score']<8),'Stu_Endline_Level_Sup']='Mottu'\n",
    "    df.loc[(df['Stu_Class']==3) & (df['Stu_Baseline_Level']=='Mottu') & (df['Subject']=='Tamil') & (df['Sup_Q1_Score'] >= 8) & (df['Sup_Q2_Score']<8),'Stu_Endline_Level_Sup']='Mottu'\n",
    "    \n",
    "    # For students in class 3 Malar\n",
    "    df.loc[(df['Stu_Class']==3) & (df['Stu_Baseline_Level']=='Malar') & (df['Subject']=='Mathematics') & (df['Sup_Q1_Score'] < 9),'Stu_Endline_Level_Sup']='Mottu'\n",
    "    df.loc[(df['Stu_Class']==3) & (df['Stu_Baseline_Level']=='Malar') & (df['Subject']=='English') & (df['Sup_Q1_Score'] < 8),'Stu_Endline_Level_Sup']='Mottu'\n",
    "    df.loc[(df['Stu_Class']==3) & (df['Stu_Baseline_Level']=='Malar') & (df['Subject']=='Tamil') & (df['Sup_Q1_Score'] < 8),'Stu_Endline_Level_Sup']='Mottu'\n",
    "    \n",
    "    # Malar\n",
    "    \n",
    "    # For students in Class 3 Arumbu\n",
    "    df.loc[(df['Stu_Class']==3) & (df['Stu_Baseline_Level']=='Arumbu') & (df['Subject']=='Mathematics') & (df['Sup_Q1_Score'] >= 9) & (df['Sup_Q2_Score'] >= 9) & (df['Sup_Q3_Score'] >= 9),'Stu_Endline_Level_Sup']='Malar'\n",
    "    df.loc[(df['Stu_Class']==3) & (df['Stu_Baseline_Level']=='Arumbu') & (df['Subject']=='English') & (df['Sup_Q1_Score'] >= 8) & (df['Sup_Q2_Score'] >= 8) & (df['Sup_Q3_Score'] >= 8),'Stu_Endline_Level_Sup']='Malar'\n",
    "    df.loc[(df['Stu_Class']==3) & (df['Stu_Baseline_Level']=='Arumbu') & (df['Subject']=='Tamil') & (df['Sup_Q1_Score'] >= 8) & (df['Sup_Q2_Score'] >= 8) & (df['Sup_Q3_Score'] >= 8),'Stu_Endline_Level_Sup']='Malar'\n",
    "    \n",
    "    # For students in Class 3 Mottu\n",
    "    df.loc[(df['Stu_Class']==3) & (df['Stu_Baseline_Level']=='Mottu') & (df['Subject']=='Mathematics') & (df['Sup_Q1_Score'] >= 9) & (df['Sup_Q2_Score'] >= 9),'Stu_Endline_Level_Sup']='Malar'\n",
    "    df.loc[(df['Stu_Class']==3) & (df['Stu_Baseline_Level']=='Mottu') & (df['Subject']=='English') & (df['Sup_Q1_Score'] >= 8) & (df['Sup_Q2_Score'] >= 8),'Stu_Endline_Level_Sup']='Malar'\n",
    "    df.loc[(df['Stu_Class']==3) & (df['Stu_Baseline_Level']=='Mottu') & (df['Subject']=='Tamil') & (df['Sup_Q1_Score'] >= 8) & (df['Sup_Q2_Score'] >= 8),'Stu_Endline_Level_Sup']='Malar'\n",
    "    \n",
    "    # For students in Class 3 Malar\n",
    "    df.loc[(df['Stu_Class']==3) & (df['Stu_Baseline_Level']=='Malar') & (df['Subject']=='Mathematics') & (df['Sup_Q1_Score'] >= 9),'Stu_Endline_Level_Sup']='Malar'\n",
    "    df.loc[(df['Stu_Class']==3) & (df['Stu_Baseline_Level']=='Malar') & (df['Subject']=='English') & (df['Sup_Q1_Score'] >= 8),'Stu_Endline_Level_Sup']='Malar'\n",
    "    df.loc[(df['Stu_Class']==3) & (df['Stu_Baseline_Level']=='Malar') & (df['Subject']=='Tamil') & (df['Sup_Q1_Score'] >= 8),'Stu_Endline_Level_Sup']='Malar'\n",
    "    \n",
    "    return df"
   ]
  },
  {
   "cell_type": "code",
   "execution_count": 62,
   "id": "7743812d",
   "metadata": {},
   "outputs": [
    {
     "name": "stdout",
     "output_type": "stream",
     "text": [
      "The data types of each column of data are as follows: \n",
      "\n",
      "ID                        object\n",
      "District                  object\n",
      "Block_ID                   int64\n",
      "Cluster_ID                 int64\n",
      "Stu_Identifier             int64\n",
      "School_ID                  int64\n",
      "Subject                   object\n",
      "Stu_Class                  int64\n",
      "Stu_Baseline_Level        object\n",
      "Sup_Q1_Level              object\n",
      "Sup_Q1_Score               int64\n",
      "Sup_Q2_Level              object\n",
      "Sup_Q2_Score             float64\n",
      "Sup_Q3_Level              object\n",
      "Sup_Q3_Score             float64\n",
      "Sup_ID                     int64\n",
      "Student_ID                 int64\n",
      "Sub_Q1_Level              object\n",
      "Sub_Q1_Score               int64\n",
      "Sub_Q2_Level              object\n",
      "Sub_Q2_Score             float64\n",
      "Sub_Q3_Level              object\n",
      "Sub_Q3_Score             float64\n",
      "Sub_ID                     int64\n",
      "Stu_Endline_Level_Sub     object\n",
      "Stu_Endline_Level_Sup     object\n",
      "dtype: object\n"
     ]
    }
   ],
   "source": [
    "# Checking the data type of each column in the data\n",
    "print(\"The data types of each column of data are as follows: \\n\")\n",
    "print(data.dtypes)"
   ]
  },
  {
   "cell_type": "code",
   "execution_count": 63,
   "id": "7b9f7d4a",
   "metadata": {},
   "outputs": [],
   "source": [
    "# Calling the function to determine the student endline level assigned by the subordinate (L0)\n",
    "data = endline_level_sub(data)\n",
    "# Calling the function to determine the student endline level assigned by the supervisor (L1)\n",
    "data = endline_level_sup(data)"
   ]
  },
  {
   "cell_type": "code",
   "execution_count": 64,
   "id": "2e9a17f3",
   "metadata": {},
   "outputs": [
    {
     "name": "stdout",
     "output_type": "stream",
     "text": [
      "This is how the dataset looks after determining the student endline assigned by the subordinate (L0) and the supervisor (L1) \n",
      "\n",
      "            ID      District  Block_ID   Cluster_ID  Stu_Identifier  \\\n",
      "0  022724217_1  CHENGALPATTU         5  33030600402        22724217   \n",
      "1  022724217_3  CHENGALPATTU         5  33030600402        22724217   \n",
      "2  022860415_1  CHENGALPATTU         7  33030804503        22860415   \n",
      "3  023043741_2  CHENGALPATTU         9  33031203303        23043741   \n",
      "4  023076795_1  CHENGALPATTU         9  33031204206        23076795   \n",
      "5  023149328_3  CHENGALPATTU         7  33030808705        23149328   \n",
      "6  023240387_1  CHENGALPATTU        10  33031300702        23240387   \n",
      "7  023240387_3  CHENGALPATTU        10  33031300702        23240387   \n",
      "8  023278930_3  CHENGALPATTU         7  33030803101        23278930   \n",
      "9  023280759_1  CHENGALPATTU         8  33031004102        23280759   \n",
      "\n",
      "     School_ID      Subject  Stu_Class Stu_Baseline_Level Sup_Q1_Level  ...  \\\n",
      "0  33030600201      English          3              Malar        Malar  ...   \n",
      "1  33030600201        Tamil          3              Malar        Malar  ...   \n",
      "2  33030806401      English          3              Malar        Malar  ...   \n",
      "3  33031203501  Mathematics          3              Malar        Malar  ...   \n",
      "4  33031204207      English          3              Malar        Malar  ...   \n",
      "5  33030806002        Tamil          3              Malar        Malar  ...   \n",
      "6  33031300601      English          3              Malar        Malar  ...   \n",
      "7  33031300601        Tamil          3              Malar        Malar  ...   \n",
      "8  33030806101        Tamil          3             Arumbu       Arumbu  ...   \n",
      "9  33031004402      English          3              Mottu        Mottu  ...   \n",
      "\n",
      "   Student_ID Sub_Q1_Level  Sub_Q1_Score Sub_Q2_Level  Sub_Q2_Score  \\\n",
      "0  2022724217        Malar            10          NaN           NaN   \n",
      "1  2022724217        Malar            10          NaN           NaN   \n",
      "2  2022860415        Malar            10          NaN           NaN   \n",
      "3  2023043741        Malar            10          NaN           NaN   \n",
      "4  2023076795        Malar            10          NaN           NaN   \n",
      "5  2023149328        Malar            10          NaN           NaN   \n",
      "6  2023240387        Malar             9          NaN           NaN   \n",
      "7  2023240387        Malar            10          NaN           NaN   \n",
      "8  2023278930       Arumbu             6        Mottu          10.0   \n",
      "9  2023280759        Mottu             8        Malar           9.0   \n",
      "\n",
      "   Sub_Q3_Level  Sub_Q3_Score    Sub_ID  Stu_Endline_Level_Sub  \\\n",
      "0           NaN           NaN  20023719                  Malar   \n",
      "1           NaN           NaN  20023719                  Malar   \n",
      "2           NaN           NaN  20026176                  Malar   \n",
      "3           NaN           NaN  20305621                  Malar   \n",
      "4           NaN           NaN  20029463                  Malar   \n",
      "5           NaN           NaN  20019458                  Malar   \n",
      "6           NaN           NaN  20029588                  Malar   \n",
      "7           NaN           NaN  20029588                  Malar   \n",
      "8         Malar           8.0  20026156           Below Arumbu   \n",
      "9           NaN           NaN  20028128                  Malar   \n",
      "\n",
      "  Stu_Endline_Level_Sup  \n",
      "0                 Malar  \n",
      "1                 Malar  \n",
      "2                 Malar  \n",
      "3                 Mottu  \n",
      "4                 Malar  \n",
      "5                 Malar  \n",
      "6                 Mottu  \n",
      "7                 Malar  \n",
      "8          Below Arumbu  \n",
      "9                 Mottu  \n",
      "\n",
      "[10 rows x 26 columns]\n"
     ]
    }
   ],
   "source": [
    "print(\"This is how the dataset looks after determining the student endline assigned by the subordinate (L0) and the supervisor (L1) \\n\")\n",
    "print(data.head(10))"
   ]
  },
  {
   "cell_type": "markdown",
   "id": "c6c85a44",
   "metadata": {},
   "source": [
    "# Percentage of observations with mismatch of endline assessment between the subordinate (L0) and supervisor (L1)"
   ]
  },
  {
   "cell_type": "code",
   "execution_count": 67,
   "id": "e14f972a",
   "metadata": {},
   "outputs": [],
   "source": [
    "# Function to create a dummy which takes a value of 1 for all observations where there is a mismatch between the endline level assigned by the subordinate (L0) and the supervisor (L1)\n",
    "def endline_mismatch(df):\n",
    "    df['endline_mismatch']= 1\n",
    "    df.loc[(df['Stu_Endline_Level_Sub']==df['Stu_Endline_Level_Sup']),'endline_mismatch']=0\n",
    "    return df"
   ]
  },
  {
   "cell_type": "code",
   "execution_count": 92,
   "id": "38cb8dd6",
   "metadata": {},
   "outputs": [
    {
     "name": "stdout",
     "output_type": "stream",
     "text": [
      "            ID      District  Block_ID   Cluster_ID  Stu_Identifier  \\\n",
      "0  022724217_1  CHENGALPATTU         5  33030600402        22724217   \n",
      "1  022724217_3  CHENGALPATTU         5  33030600402        22724217   \n",
      "2  022860415_1  CHENGALPATTU         7  33030804503        22860415   \n",
      "3  023043741_2  CHENGALPATTU         9  33031203303        23043741   \n",
      "4  023076795_1  CHENGALPATTU         9  33031204206        23076795   \n",
      "5  023149328_3  CHENGALPATTU         7  33030808705        23149328   \n",
      "6  023240387_1  CHENGALPATTU        10  33031300702        23240387   \n",
      "7  023240387_3  CHENGALPATTU        10  33031300702        23240387   \n",
      "8  023278930_3  CHENGALPATTU         7  33030803101        23278930   \n",
      "9  023280759_1  CHENGALPATTU         8  33031004102        23280759   \n",
      "\n",
      "     School_ID      Subject  Stu_Class Stu_Baseline_Level Sup_Q1_Level  ...  \\\n",
      "0  33030600201      English          3              Malar        Malar  ...   \n",
      "1  33030600201        Tamil          3              Malar        Malar  ...   \n",
      "2  33030806401      English          3              Malar        Malar  ...   \n",
      "3  33031203501  Mathematics          3              Malar        Malar  ...   \n",
      "4  33031204207      English          3              Malar        Malar  ...   \n",
      "5  33030806002        Tamil          3              Malar        Malar  ...   \n",
      "6  33031300601      English          3              Malar        Malar  ...   \n",
      "7  33031300601        Tamil          3              Malar        Malar  ...   \n",
      "8  33030806101        Tamil          3             Arumbu       Arumbu  ...   \n",
      "9  33031004402      English          3              Mottu        Mottu  ...   \n",
      "\n",
      "   Sub_Q1_Score Sub_Q2_Level  Sub_Q2_Score Sub_Q3_Level  Sub_Q3_Score  \\\n",
      "0            10          NaN           NaN          NaN           NaN   \n",
      "1            10          NaN           NaN          NaN           NaN   \n",
      "2            10          NaN           NaN          NaN           NaN   \n",
      "3            10          NaN           NaN          NaN           NaN   \n",
      "4            10          NaN           NaN          NaN           NaN   \n",
      "5            10          NaN           NaN          NaN           NaN   \n",
      "6             9          NaN           NaN          NaN           NaN   \n",
      "7            10          NaN           NaN          NaN           NaN   \n",
      "8             6        Mottu          10.0        Malar           8.0   \n",
      "9             8        Malar           9.0          NaN           NaN   \n",
      "\n",
      "     Sub_ID  Stu_Endline_Level_Sub Stu_Endline_Level_Sup  endline_mismatch  \\\n",
      "0  20023719                  Malar                 Malar                 0   \n",
      "1  20023719                  Malar                 Malar                 0   \n",
      "2  20026176                  Malar                 Malar                 0   \n",
      "3  20305621                  Malar                 Mottu                 1   \n",
      "4  20029463                  Malar                 Malar                 0   \n",
      "5  20019458                  Malar                 Malar                 0   \n",
      "6  20029588                  Malar                 Mottu                 1   \n",
      "7  20029588                  Malar                 Malar                 0   \n",
      "8  20026156           Below Arumbu          Below Arumbu                 0   \n",
      "9  20028128                  Malar                 Mottu                 1   \n",
      "\n",
      "  observation_count  \n",
      "0                 1  \n",
      "1                 1  \n",
      "2                 1  \n",
      "3                 1  \n",
      "4                 1  \n",
      "5                 1  \n",
      "6                 1  \n",
      "7                 1  \n",
      "8                 1  \n",
      "9                 1  \n",
      "\n",
      "[10 rows x 28 columns]\n"
     ]
    }
   ],
   "source": [
    "# Calling the endline mismatch function\n",
    "data = endline_mismatch(data)\n",
    "# Adding a column which has a value of 1 in each row\n",
    "data['observation_count']=1\n",
    "print(data.head(10))"
   ]
  },
  {
   "cell_type": "code",
   "execution_count": 103,
   "id": "b9b407a1",
   "metadata": {},
   "outputs": [],
   "source": [
    "# Defining a function to generate the endline mismatch table\n",
    "def endline_mismatch_table(df):\n",
    "    result = df.groupby('Subject').agg({'endline_mismatch':'sum','observation_count':'sum'}).reset_index()\n",
    "    result['percentage_mismatch']=result['endline_mismatch']/result['observation_count']\n",
    "    result.columns = ['Subject','# Mismatch','Total observations','% Mismatch']\n",
    "    return result"
   ]
  },
  {
   "cell_type": "code",
   "execution_count": 104,
   "id": "25dfc9ca",
   "metadata": {},
   "outputs": [
    {
     "name": "stdout",
     "output_type": "stream",
     "text": [
      "       Subject  # Mismatch  Total observations  % Mismatch\n",
      "0      English        1940                4480    0.433036\n",
      "1  Mathematics        2186                4208    0.519487\n",
      "2        Tamil        1142                4889    0.233586\n"
     ]
    }
   ],
   "source": [
    "# Calling the function to generate endline mismatch table by subject\n",
    "endline_mismatch_by_subject = endline_mismatch_table(data)\n",
    "print(endline_mismatch_by_subject)"
   ]
  }
 ],
 "metadata": {
  "kernelspec": {
   "display_name": "Python 3 (ipykernel)",
   "language": "python",
   "name": "python3"
  },
  "language_info": {
   "codemirror_mode": {
    "name": "ipython",
    "version": 3
   },
   "file_extension": ".py",
   "mimetype": "text/x-python",
   "name": "python",
   "nbconvert_exporter": "python",
   "pygments_lexer": "ipython3",
   "version": "3.11.5"
  }
 },
 "nbformat": 4,
 "nbformat_minor": 5
}
