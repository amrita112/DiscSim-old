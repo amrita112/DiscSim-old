{
 "cells": [
  {
   "cell_type": "markdown",
   "id": "39ba8c69",
   "metadata": {},
   "source": [
    "# Imports"
   ]
  },
  {
   "cell_type": "markdown",
   "id": "1eac8084",
   "metadata": {},
   "source": [
    "We may have to run the following commands on Anaconda Prompt - after activating the DiscSim environment - to import some of the below packages\n",
    "\n",
    "pip install matplotlib\n",
    "pip install pandas\n",
    "pip install tqdm\n",
    "pip install scipy"
   ]
  },
  {
   "cell_type": "code",
   "execution_count": 1,
   "id": "cfb1ec05",
   "metadata": {},
   "outputs": [],
   "source": [
    "# General modules\n",
    "import matplotlib.pyplot as plt\n",
    "import numpy as np\n",
    "import pandas as pd\n",
    "from os.path import sep\n",
    "from tqdm import tqdm\n",
    "\n",
    "# Local modules\n",
    "import disc_score\n",
    "import binomial_confidence\n",
    "\n",
    "# Enable re-load of local modules every time they are called\n",
    "%load_ext autoreload\n",
    "%autoreload 2\n",
    "%aimport numpy \n",
    "%aimport pandas"
   ]
  },
  {
   "cell_type": "markdown",
   "id": "110ac905",
   "metadata": {},
   "source": [
    "# Load data"
   ]
  },
  {
   "cell_type": "markdown",
   "id": "2be166de",
   "metadata": {},
   "source": [
    "ERROR FLAG: I added the ee_data.csv to the DiscSim folder and committed it to my branch. But when I ran the read_csv command and used your home_folder and filename codes to import the csv, it kept giving a \"File not found\" error. Just so that I do not waste time, I imported the data using the local path to the file. TBD."
   ]
  },
  {
   "cell_type": "code",
   "execution_count": 11,
   "id": "ae9946ca",
   "metadata": {},
   "outputs": [
    {
     "name": "stdout",
     "output_type": "stream",
     "text": [
      "The following variables were found in the subordinate dataset:\n",
      "    identifier\n",
      "    student_id\n",
      "    Subject\n",
      "    1st question Level\n",
      "    1st level score\n",
      "    2nd question Level\n",
      "    2nd level score\n",
      "    3rd question Level\n",
      "    3rd level score\n",
      "    Cluster ID\n",
      "    School ID\n",
      "    district\n",
      "    Teacher User ID\n",
      "    class\n",
      "    baseline\n",
      "    Student Identifier\n"
     ]
    }
   ],
   "source": [
    "# Loading the subordinate dataset ee_data.csv\n",
    "#home_folder = 'Documents{0}CEGIS{0}DiscSim'.format(sep)\n",
    "sub_data = pd.read_csv(r\"C:\\Users\\Cegis\\Documents\\GitHub\\DiscSim\\ee_data.csv\")\n",
    "variables = sub_data.columns\n",
    "n_variables = len(variables)\n",
    "\n",
    "print('The following variables were found in the subordinate dataset:')\n",
    "for v in variables:\n",
    "    print('    {0}'.format(v))"
   ]
  },
  {
   "cell_type": "code",
   "execution_count": 12,
   "id": "7babbb17",
   "metadata": {},
   "outputs": [
    {
     "name": "stdout",
     "output_type": "stream",
     "text": [
      "The following variables were found in the supervisor dataset:\n",
      "    UID\n",
      "    district\n",
      "    block id\n",
      "    cluster id\n",
      "    Student Identifier\n",
      "    school id\n",
      "    subject\n",
      "    class\n",
      "    baseline\n",
      "    1st question Level\n",
      "    1st level score\n",
      "    2nd question Level\n",
      "    2nd level score\n",
      "    3rd question Level\n",
      "    3rd level score\n",
      "    Admin User ID\n"
     ]
    }
   ],
   "source": [
    "# Loading the supervisor dataset ee_ees_data.csv\n",
    "sup_data = pd.read_csv(r\"C:\\Users\\Cegis\\Documents\\GitHub\\DiscSim\\ee_ees_data.csv\")\n",
    "variables = sup_data.columns\n",
    "n_variables = len(variables)\n",
    "\n",
    "print('The following variables were found in the supervisor dataset:')\n",
    "for v in variables:\n",
    "    print('    {0}'.format(v))"
   ]
  },
  {
   "cell_type": "markdown",
   "id": "78aa47e3",
   "metadata": {},
   "source": [
    "# Merging the subordinate and supervisor datasets"
   ]
  },
  {
   "cell_type": "code",
   "execution_count": null,
   "id": "cb9ca4b3",
   "metadata": {},
   "outputs": [],
   "source": []
  }
 ],
 "metadata": {
  "kernelspec": {
   "display_name": "Python 3 (ipykernel)",
   "language": "python",
   "name": "python3"
  },
  "language_info": {
   "codemirror_mode": {
    "name": "ipython",
    "version": 3
   },
   "file_extension": ".py",
   "mimetype": "text/x-python",
   "name": "python",
   "nbconvert_exporter": "python",
   "pygments_lexer": "ipython3",
   "version": "3.11.5"
  }
 },
 "nbformat": 4,
 "nbformat_minor": 5
}
