{
 "cells": [
  {
   "cell_type": "markdown",
   "id": "fdecd622-5846-4728-b07a-f67c387a113e",
   "metadata": {
    "heading_collapsed": true,
    "tags": []
   },
   "source": [
    "# Imports"
   ]
  },
  {
   "cell_type": "code",
   "execution_count": 17,
   "id": "eb95e64f",
   "metadata": {
    "ExecuteTime": {
     "end_time": "2023-06-13T12:32:26.654060Z",
     "start_time": "2023-06-13T12:32:20.394731Z"
    },
    "hidden": true,
    "init_cell": true
   },
   "outputs": [
    {
     "name": "stdout",
     "output_type": "stream",
     "text": [
      "The autoreload extension is already loaded. To reload it, use:\n",
      "  %reload_ext autoreload\n"
     ]
    }
   ],
   "source": [
    "# General modules\n",
    "import matplotlib.pyplot as plt\n",
    "import numpy as np\n",
    "import pandas as pd\n",
    "from os.path import sep\n",
    "from tqdm import tqdm\n",
    "from scipy.stats import binom\n",
    "\n",
    "# Local modules\n",
    "import disc_score\n",
    "\n",
    "# Enable re-load of local modules every time they are called\n",
    "%load_ext autoreload\n",
    "%autoreload 2\n",
    "%aimport numpy \n",
    "%aimport pandas"
   ]
  },
  {
   "cell_type": "markdown",
   "id": "d328a660-24ec-46d0-ae58-cdcd04659929",
   "metadata": {
    "jp-MarkdownHeadingCollapsed": true,
    "tags": []
   },
   "source": [
    "# Load data"
   ]
  },
  {
   "cell_type": "code",
   "execution_count": 4,
   "id": "a3fece81-80f8-4aef-b39d-1651f96407a3",
   "metadata": {},
   "outputs": [
    {
     "name": "stdout",
     "output_type": "stream",
     "text": [
      "/Users/amrita/Documents/CEGIS/DiscSim\n"
     ]
    }
   ],
   "source": [
    "cd Documents/CEGIS/DiscSim/"
   ]
  },
  {
   "cell_type": "code",
   "execution_count": 5,
   "id": "8a6c79e8",
   "metadata": {
    "ExecuteTime": {
     "end_time": "2023-06-13T12:34:16.218391Z",
     "start_time": "2023-06-13T12:34:15.004826Z"
    },
    "init_cell": true
   },
   "outputs": [
    {
     "name": "stdout",
     "output_type": "stream",
     "text": [
      "The following variables were found in this dataset:\n",
      "    child_id\n",
      "    stunting_aww\n",
      "    wasting_aww\n",
      "    underweight_aww\n",
      "    gender_cat_ss\n",
      "    weight_ss\n",
      "    height_ss\n",
      "    age_in_months_ss\n",
      "    haz06_ss\n",
      "    waz06_ss\n",
      "    whz06_ss\n",
      "    bmiz06_ss\n",
      "    stunting_ss\n",
      "    wasting_ss\n",
      "    underweight_ss\n",
      "    height_aww\n",
      "    weight_aww\n",
      "    measurement_date_aww\n"
     ]
    }
   ],
   "source": [
    "home_folder = 'Documents{0}CEGIS{0}DiscSim'.format(sep)\n",
    "#filename = '{0}{1}sample ecd child data ADQ.xlsx'.format(home_folder, sep)\n",
    "filename = 'sample ecd child data ADQ.xlsx'\n",
    "\n",
    "data = pd.read_excel(filename) # Read data from the excel sheet\n",
    "variables = data.columns       # Each column is a single variable measured, this gives the names of columns\n",
    "n_variables = len(variables)\n",
    "\n",
    "print('The following variables were found in this dataset:')\n",
    "for v in variables:\n",
    "    print('    {0}'.format(v))"
   ]
  },
  {
   "cell_type": "code",
   "execution_count": 6,
   "id": "fb054674",
   "metadata": {
    "ExecuteTime": {
     "end_time": "2023-06-13T12:34:25.553543Z",
     "start_time": "2023-06-13T12:34:25.466176Z"
    },
    "init_cell": true
   },
   "outputs": [
    {
     "data": {
      "text/plain": [
       "0      2998424\n",
       "1      3250679\n",
       "2      3297596\n",
       "3      3300262\n",
       "4      3300591\n",
       "        ...   \n",
       "480    6469093\n",
       "481    6469166\n",
       "482    6470304\n",
       "483    6472322\n",
       "484    6474014\n",
       "Name: child_id, Length: 485, dtype: int64"
      ]
     },
     "execution_count": 6,
     "metadata": {},
     "output_type": "execute_result"
    }
   ],
   "source": [
    "# To access any of the variables, use data.<variable name> -- for example:\n",
    "data.child_id"
   ]
  },
  {
   "cell_type": "code",
   "execution_count": 7,
   "id": "cd2fb40d",
   "metadata": {
    "ExecuteTime": {
     "end_time": "2023-06-13T12:34:26.218041Z",
     "start_time": "2023-06-13T12:34:26.174360Z"
    },
    "init_cell": true
   },
   "outputs": [
    {
     "data": {
      "text/plain": [
       "4124209"
      ]
     },
     "execution_count": 7,
     "metadata": {},
     "output_type": "execute_result"
    }
   ],
   "source": [
    "# To access a particular sample, use data.<variable name>[sample number] -- for example:\n",
    "data.child_id[53]"
   ]
  },
  {
   "cell_type": "markdown",
   "id": "d7a93cc6-d42e-4131-98aa-ecc07859d72b",
   "metadata": {
    "jp-MarkdownHeadingCollapsed": true,
    "tags": []
   },
   "source": [
    "# Identify measured variables"
   ]
  },
  {
   "cell_type": "code",
   "execution_count": 8,
   "id": "841b8531",
   "metadata": {
    "ExecuteTime": {
     "end_time": "2023-06-13T12:34:27.712588Z",
     "start_time": "2023-06-13T12:34:27.638335Z"
    },
    "init_cell": true
   },
   "outputs": [
    {
     "name": "stdout",
     "output_type": "stream",
     "text": [
      "Subordinate variables: ['stunting_aww', 'wasting_aww', 'underweight_aww', 'height_aww', 'weight_aww', 'measurement_date_aww']\n",
      "Supervisor_variables: ['gender_cat_ss', 'weight_ss', 'height_ss', 'age_in_months_ss', 'haz06_ss', 'waz06_ss', 'whz06_ss', 'bmiz06_ss', 'stunting_ss', 'wasting_ss', 'underweight_ss']\n"
     ]
    }
   ],
   "source": [
    "supervisor_variables = []\n",
    "subordinate_variables = []\n",
    "\n",
    "for v in variables: # Loop over variables (in each loop iteration, 'v' will take on the value of the next variable)\n",
    "    \n",
    "    variable_type = v[v.rindex('_') + 1:] # Returns the characters in v after the last occurence of '_'\n",
    "    \n",
    "    if variable_type == 'aww':\n",
    "        subordinate_variables.append(v)\n",
    "    else:\n",
    "        if variable_type == 'ss':\n",
    "            supervisor_variables.append(v)\n",
    "            \n",
    "print('Subordinate variables: {0}'.format(subordinate_variables))\n",
    "print('Supervisor_variables: {0}'.format(supervisor_variables))"
   ]
  },
  {
   "cell_type": "markdown",
   "id": "7afaef58-8abd-4609-a75f-ab190fa2160a",
   "metadata": {
    "heading_collapsed": true,
    "jp-MarkdownHeadingCollapsed": true,
    "tags": []
   },
   "source": [
    "## Find variables measured by both subordinate and supervisor"
   ]
  },
  {
   "cell_type": "code",
   "execution_count": 9,
   "id": "ab6c54f2",
   "metadata": {
    "ExecuteTime": {
     "end_time": "2023-06-13T12:34:28.777605Z",
     "start_time": "2023-06-13T12:34:28.721987Z"
    },
    "hidden": true,
    "init_cell": true
   },
   "outputs": [
    {
     "name": "stdout",
     "output_type": "stream",
     "text": [
      "The following variables are measured by both subordinate and supervisor:\n",
      "    stunting\n",
      "    wasting\n",
      "    underweight\n",
      "    height\n",
      "    weight\n",
      "\n",
      "The following variables are measured only by subordinate:\n",
      "    measurement_date\n",
      "\n",
      "The following variables are measured only by supervisor:\n",
      "    gender_cat\n",
      "    age_in_months\n",
      "    haz06\n",
      "    waz06\n",
      "    whz06\n",
      "    bmiz06\n"
     ]
    }
   ],
   "source": [
    "subordinate_only = []\n",
    "supervisor_only = []\n",
    "subordinate_and_supervisor = []\n",
    "\n",
    "supervisor_variable_names = [v[:v.rindex('_')] for v in supervisor_variables] # Characters in v before the last occurence of '_'\n",
    "\n",
    "for v in subordinate_variables:\n",
    "    \n",
    "    variable_name = v[:v.rindex('_')] # Characters in v before the last occurence of '_'\n",
    "    \n",
    "    if variable_name in supervisor_variable_names:\n",
    "        subordinate_and_supervisor.append(variable_name)\n",
    "        \n",
    "    else:\n",
    "        subordinate_only.append(variable_name)\n",
    "        \n",
    "supervisor_only = [v for v in supervisor_variable_names if np.logical_and(np.logical_not(v in subordinate_only),\n",
    "                                                                         np.logical_not(v in subordinate_and_supervisor))]\n",
    "\n",
    "print('The following variables are measured by both subordinate and supervisor:')\n",
    "for v in subordinate_and_supervisor:\n",
    "    print('    {0}'.format(v))\n",
    "print('')\n",
    "\n",
    "print('The following variables are measured only by subordinate:')\n",
    "for v in subordinate_only:\n",
    "    print('    {0}'.format(v))\n",
    "print('')\n",
    "    \n",
    "print('The following variables are measured only by supervisor:')\n",
    "for v in supervisor_only:\n",
    "    print('    {0}'.format(v))"
   ]
  },
  {
   "cell_type": "markdown",
   "id": "e35226f6-eaa5-4724-bd3b-248f20dd27ac",
   "metadata": {
    "heading_collapsed": true,
    "jp-MarkdownHeadingCollapsed": true,
    "tags": []
   },
   "source": [
    "# Discrepancy score calculation"
   ]
  },
  {
   "cell_type": "markdown",
   "id": "f4bd13c8-c717-456b-af33-c8653a2c0de3",
   "metadata": {
    "heading_collapsed": true,
    "hidden": true,
    "jp-MarkdownHeadingCollapsed": true,
    "tags": []
   },
   "source": [
    "## Discrete variables"
   ]
  },
  {
   "cell_type": "code",
   "execution_count": 10,
   "id": "a7843856",
   "metadata": {
    "ExecuteTime": {
     "end_time": "2023-06-13T12:34:30.717537Z",
     "start_time": "2023-06-13T12:34:30.594077Z"
    },
    "hidden": true,
    "init_cell": true
   },
   "outputs": [
    {
     "name": "stdout",
     "output_type": "stream",
     "text": [
      "Stunting may be one of the following: ['Normal' 'moderate stunting' 'severe stunting']\n",
      "27.42% of entries are not matching between stunting reported by subordinate and supervisor.\n",
      "\n",
      "Wasting may be one of the following: ['Normal' 'Obese' 'Overweight' 'moderate wasting' 'severe wasting']\n",
      "23.92% of entries are not matching between wasting reported by subordinate and supervisor.\n",
      "\n",
      "Underweight may be one of the following: ['Normal' 'moderately underweight' 'severely underweight']\n",
      "21.44% of entries are not matching between underweight reported by subordinate and supervisor.\n",
      "\n"
     ]
    }
   ],
   "source": [
    "# Stunting is a ternary variable, with three possible values. \n",
    "print('Stunting may be one of the following: {0}'.format(np.unique(data.stunting_aww)))\n",
    "      \n",
    "# We want to know how often the subordinate and supervisor reported different stunting values, so a good method for discrepancy score calculation would be percentage of non-matching entries.\n",
    "score = disc_score.discrepancy_score(data.stunting_aww, data.stunting_ss, \"percent_non_match\")\n",
    "print('{0}% of entries are not matching between stunting reported by subordinate and supervisor.'.format(np.round(score, 2)))    \n",
    "print('')\n",
    "\n",
    "# Similarly, wasting is a variable, with five possible values:\n",
    "print('Wasting may be one of the following: {0}'.format(np.unique(data.wasting_aww)))\n",
    "\n",
    "# Again we want to know how often it was not matching:\n",
    "score = disc_score.discrepancy_score(data.wasting_aww, data.wasting_ss, \"percent_non_match\")\n",
    "print('{0}% of entries are not matching between wasting reported by subordinate and supervisor.'.format(np.round(score, 2)))    \n",
    "print('')\n",
    "\n",
    "# Similarly for underweight:\n",
    "print('Underweight may be one of the following: {0}'.format(np.unique(data.underweight_aww)))\n",
    "\n",
    "# Again we want to know how often it was not matching:\n",
    "score = disc_score.discrepancy_score(data.underweight_aww, data.underweight_ss, \"percent_non_match\")\n",
    "print('{0}% of entries are not matching between underweight reported by subordinate and supervisor.'.format(np.round(score, 2)))    \n",
    "print('')\n"
   ]
  },
  {
   "cell_type": "markdown",
   "id": "3b1c6432-bbe5-4cc1-9e76-fde640a79593",
   "metadata": {
    "heading_collapsed": true,
    "hidden": true,
    "jp-MarkdownHeadingCollapsed": true,
    "tags": []
   },
   "source": [
    "## Continous variables"
   ]
  },
  {
   "cell_type": "code",
   "execution_count": 11,
   "id": "0fcb4254-7430-45d2-a1a1-02a48099f0e2",
   "metadata": {
    "ExecuteTime": {
     "end_time": "2023-06-13T12:34:31.694323Z",
     "start_time": "2023-06-13T12:34:31.624121Z"
    },
    "hidden": true,
    "init_cell": true
   },
   "outputs": [
    {
     "name": "stdout",
     "output_type": "stream",
     "text": [
      "Absolute difference\n",
      "Height reported by subordinate and supervisor differ by 3.84 units on average.\n",
      "Weight reported by subordinate and supervisor differ by 0.9 units on average.\n",
      "\n",
      "Simple difference\n",
      "Height reported by subordinate and supervisor differ by -0.52 units on average.\n",
      "Weight reported by subordinate and supervisor are differ by 0.06 units on average.\n",
      "\n",
      "Absolute percent difference\n",
      "Height reported by subordinate and supervisor differ by 4.66% of supervisor weight on average.\n",
      "Weight reported by subordinate and supervisor differ by 9.02% of supervisor weight on average.\n",
      "\n",
      "Simple percent difference\n",
      "Height reported by subordinate and supervisor differ by -0.35% of supervisor weight on average.\n",
      "Weight reported by subordinate and supervisor are differ by 1.45% of supervisor height on average.\n",
      "\n"
     ]
    }
   ],
   "source": [
    "# For continuous variables like height and weight, we can use a absolute difference, as we do not expect exact matches. \n",
    "print('Absolute difference')\n",
    "score = disc_score.discrepancy_score(data.height_aww, data.height_ss, \"absolute_difference\")\n",
    "print('Height reported by subordinate and supervisor differ by {0} units on average.'.format(np.round(score, 2)))\n",
    "score = disc_score.discrepancy_score(data.weight_aww, data.weight_ss, \"absolute_difference\")\n",
    "print('Weight reported by subordinate and supervisor differ by {0} units on average.'.format(np.round(score, 2)))\n",
    "print('')\n",
    "\n",
    "# We can also use a simple difference, in which the sign of the difference matters. These values will be smaller on average, because some of them will be negative and some positive, and they'll cancel each other out.\n",
    "print('Simple difference')\n",
    "score = disc_score.discrepancy_score(data.height_aww, data.height_ss, \"simple_difference\")\n",
    "print('Height reported by subordinate and supervisor differ by {0} units on average.'.format(np.round(score, 2)))\n",
    "score = disc_score.discrepancy_score(data.weight_aww, data.weight_ss, \"simple_difference\")\n",
    "print('Weight reported by subordinate and supervisor are differ by {0} units on average.'.format(np.round(score, 2)))\n",
    "print('')\n",
    "\n",
    "# It may make more sense to calculate difference as a percentage of the supervisor variable:\n",
    "print('Absolute percent difference')\n",
    "score = disc_score.discrepancy_score(data.height_aww, data.height_ss, \"absolute_percent_difference\")\n",
    "print('Height reported by subordinate and supervisor differ by {0}% of supervisor weight on average.'.format(np.round(score, 2)))\n",
    "score = disc_score.discrepancy_score(data.weight_aww, data.weight_ss, \"absolute_percent_difference\")\n",
    "print('Weight reported by subordinate and supervisor differ by {0}% of supervisor weight on average.'.format(np.round(score, 2)))\n",
    "print('')\n",
    "\n",
    "print('Simple percent difference')\n",
    "score = disc_score.discrepancy_score(data.height_aww, data.height_ss, \"percent_difference\")\n",
    "print('Height reported by subordinate and supervisor differ by {0}% of supervisor weight on average.'.format(np.round(score, 2)))\n",
    "score = disc_score.discrepancy_score(data.weight_aww, data.weight_ss, \"percent_difference\")\n",
    "print('Weight reported by subordinate and supervisor are differ by {0}% of supervisor height on average.'.format(np.round(score, 2)))\n",
    "print('')"
   ]
  },
  {
   "cell_type": "markdown",
   "id": "690bfb10-1f0b-4d21-99ca-987e20f6b390",
   "metadata": {
    "heading_collapsed": true,
    "hidden": true,
    "jp-MarkdownHeadingCollapsed": true,
    "tags": []
   },
   "source": [
    "## Sanity checks"
   ]
  },
  {
   "cell_type": "markdown",
   "id": "6266884f",
   "metadata": {
    "hidden": true
   },
   "source": [
    "The method discrepancy_score will throw errors if there are issues with the variables entered for comparison. "
   ]
  },
  {
   "cell_type": "markdown",
   "id": "eb529220-fcdb-4cde-902a-c130458fd805",
   "metadata": {
    "heading_collapsed": true,
    "hidden": true,
    "jp-MarkdownHeadingCollapsed": true,
    "tags": []
   },
   "source": [
    "### Variable length"
   ]
  },
  {
   "cell_type": "code",
   "execution_count": 12,
   "id": "a10d6cf6-db25-4d5f-83db-76bbbef0eec8",
   "metadata": {
    "ExecuteTime": {
     "end_time": "2023-06-13T12:34:34.958030Z",
     "start_time": "2023-06-13T12:34:34.854280Z"
    },
    "hidden": true
   },
   "outputs": [
    {
     "ename": "ValueError",
     "evalue": "The two variables must be the same length.",
     "output_type": "error",
     "traceback": [
      "\u001b[0;31m---------------------------------------------------------------------------\u001b[0m",
      "\u001b[0;31mValueError\u001b[0m                                Traceback (most recent call last)",
      "Cell \u001b[0;32mIn[12], line 4\u001b[0m\n\u001b[1;32m      2\u001b[0m x \u001b[38;5;241m=\u001b[39m [\u001b[38;5;241m1\u001b[39m, \u001b[38;5;241m2\u001b[39m, \u001b[38;5;241m3\u001b[39m, \u001b[38;5;241m4\u001b[39m, \u001b[38;5;241m5\u001b[39m]\n\u001b[1;32m      3\u001b[0m y \u001b[38;5;241m=\u001b[39m [\u001b[38;5;241m1\u001b[39m, \u001b[38;5;241m2\u001b[39m, \u001b[38;5;241m3\u001b[39m, \u001b[38;5;241m4\u001b[39m, \u001b[38;5;241m5\u001b[39m, \u001b[38;5;241m6\u001b[39m]\n\u001b[0;32m----> 4\u001b[0m disc_score\u001b[38;5;241m.\u001b[39mdiscrepancy_score(x, y, \u001b[38;5;124m'\u001b[39m\u001b[38;5;124msimple_difference\u001b[39m\u001b[38;5;124m'\u001b[39m)\n",
      "File \u001b[0;32m~/Documents/CEGIS/DiscSim/DiscSim/disc_score.py:11\u001b[0m, in \u001b[0;36mdiscrepancy_score\u001b[0;34m(subordinate_variable, supervisor_variable, method)\u001b[0m\n\u001b[1;32m      9\u001b[0m \u001b[38;5;66;03m# Step 1: check that the two variables are the same length\u001b[39;00m\n\u001b[1;32m     10\u001b[0m \u001b[38;5;28;01mif\u001b[39;00m \u001b[38;5;28mlen\u001b[39m(subordinate_variable) \u001b[38;5;241m!=\u001b[39m \u001b[38;5;28mlen\u001b[39m(supervisor_variable):\n\u001b[0;32m---> 11\u001b[0m     \u001b[38;5;28;01mraise\u001b[39;00m \u001b[38;5;167;01mValueError\u001b[39;00m(\u001b[38;5;124m\"\u001b[39m\u001b[38;5;124mThe two variables must be the same length.\u001b[39m\u001b[38;5;124m\"\u001b[39m)\n\u001b[1;32m     13\u001b[0m \u001b[38;5;66;03m# Step 2: check that the two variables are the same type\u001b[39;00m\n\u001b[1;32m     14\u001b[0m \u001b[38;5;28;01mif\u001b[39;00m \u001b[38;5;28mtype\u001b[39m(subordinate_variable[\u001b[38;5;241m0\u001b[39m]) \u001b[38;5;241m!=\u001b[39m \u001b[38;5;28mtype\u001b[39m(supervisor_variable[\u001b[38;5;241m0\u001b[39m]):\n",
      "\u001b[0;31mValueError\u001b[0m: The two variables must be the same length."
     ]
    }
   ],
   "source": [
    "# If the two variables have different length:\n",
    "x = [1, 2, 3, 4, 5]\n",
    "y = [1, 2, 3, 4, 5, 6]\n",
    "disc_score.discrepancy_score(x, y, 'simple_difference')\n",
    "\n",
    "# Data cleaning step: these rows need to be ignored -- or autocalculate stunting, wasting from height weight"
   ]
  },
  {
   "cell_type": "markdown",
   "id": "80aa0afd-4f00-4acd-9973-546662939a98",
   "metadata": {
    "heading_collapsed": true,
    "hidden": true,
    "jp-MarkdownHeadingCollapsed": true,
    "tags": []
   },
   "source": [
    "### Data type"
   ]
  },
  {
   "cell_type": "code",
   "execution_count": 13,
   "id": "231a1766-7523-4b25-8b73-ea3f8719c845",
   "metadata": {
    "hidden": true
   },
   "outputs": [
    {
     "ename": "TypeError",
     "evalue": "The two variables must be the same type.",
     "output_type": "error",
     "traceback": [
      "\u001b[0;31m---------------------------------------------------------------------------\u001b[0m",
      "\u001b[0;31mTypeError\u001b[0m                                 Traceback (most recent call last)",
      "Cell \u001b[0;32mIn[13], line 2\u001b[0m\n\u001b[1;32m      1\u001b[0m \u001b[38;5;66;03m# If the two variables are of different types:\u001b[39;00m\n\u001b[0;32m----> 2\u001b[0m disc_score\u001b[38;5;241m.\u001b[39mdiscrepancy_score(data\u001b[38;5;241m.\u001b[39mstunting_aww, data\u001b[38;5;241m.\u001b[39mheight_ss, \u001b[38;5;124m'\u001b[39m\u001b[38;5;124msimple_difference\u001b[39m\u001b[38;5;124m'\u001b[39m)\n",
      "File \u001b[0;32m~/Documents/CEGIS/DiscSim/DiscSim/disc_score.py:15\u001b[0m, in \u001b[0;36mdiscrepancy_score\u001b[0;34m(subordinate_variable, supervisor_variable, method)\u001b[0m\n\u001b[1;32m     13\u001b[0m \u001b[38;5;66;03m# Step 2: check that the two variables are the same type\u001b[39;00m\n\u001b[1;32m     14\u001b[0m \u001b[38;5;28;01mif\u001b[39;00m \u001b[38;5;28mtype\u001b[39m(subordinate_variable[\u001b[38;5;241m0\u001b[39m]) \u001b[38;5;241m!=\u001b[39m \u001b[38;5;28mtype\u001b[39m(supervisor_variable[\u001b[38;5;241m0\u001b[39m]):\n\u001b[0;32m---> 15\u001b[0m     \u001b[38;5;28;01mraise\u001b[39;00m \u001b[38;5;167;01mTypeError\u001b[39;00m(\u001b[38;5;124m\"\u001b[39m\u001b[38;5;124mThe two variables must be the same type.\u001b[39m\u001b[38;5;124m\"\u001b[39m)\n\u001b[1;32m     17\u001b[0m \u001b[38;5;66;03m# Step 3: calculate the discrepancy score\u001b[39;00m\n\u001b[1;32m     18\u001b[0m \u001b[38;5;28;01mif\u001b[39;00m method \u001b[38;5;241m==\u001b[39m \u001b[38;5;124m\"\u001b[39m\u001b[38;5;124mpercent_difference\u001b[39m\u001b[38;5;124m\"\u001b[39m:\n",
      "\u001b[0;31mTypeError\u001b[0m: The two variables must be the same type."
     ]
    }
   ],
   "source": [
    "# If the two variables are of different types:\n",
    "disc_score.discrepancy_score(data.stunting_aww, data.height_ss, 'simple_difference')"
   ]
  },
  {
   "cell_type": "markdown",
   "id": "aaf01305-614b-4d8b-b9a4-07d49b4108ef",
   "metadata": {
    "heading_collapsed": true,
    "jp-MarkdownHeadingCollapsed": true,
    "tags": []
   },
   "source": [
    "# Measure confidence in the discrepancy score"
   ]
  },
  {
   "cell_type": "markdown",
   "id": "97c3baa6-5084-4423-9255-2c75f3a7f189",
   "metadata": {
    "hidden": true
   },
   "source": [
    "For the rest of this analysis, we'll focus on wasting and use the percentage of non-matching entries as our discrepancy score calculation method."
   ]
  },
  {
   "cell_type": "markdown",
   "id": "e0a00220-1178-4e94-ae75-9648df0e8123",
   "metadata": {
    "heading_collapsed": true,
    "hidden": true,
    "jp-MarkdownHeadingCollapsed": true,
    "tags": []
   },
   "source": [
    "## Generate a distribution of discrepancy scores using bootstrapping"
   ]
  },
  {
   "cell_type": "code",
   "execution_count": 14,
   "id": "a5d60cc9-3c47-45a6-a986-7426ef8a120e",
   "metadata": {
    "ExecuteTime": {
     "end_time": "2023-06-13T12:35:16.482731Z",
     "start_time": "2023-06-13T12:34:43.629382Z"
    },
    "hidden": true
   },
   "outputs": [
    {
     "name": "stderr",
     "output_type": "stream",
     "text": [
      "100%|██████████████████████████████████████| 10000/10000 [00:29<00:00, 339.71it/s]\n"
     ]
    },
    {
     "data": {
      "image/png": "[encoded data removed]",
      "text/plain": [
       "<Figure size 432x288 with 1 Axes>"
      ]
     },
     "metadata": {
      "needs_background": "light"
     },
     "output_type": "display_data"
    }
   ],
   "source": [
    "discrepancy_scores = disc_score.bootstrap_distribution(data.wasting_aww, data.wasting_ss, \"percent_non_match\", n_iterations = 10000)"
   ]
  },
  {
   "cell_type": "markdown",
   "id": "43559049-006e-4bd2-a80a-3f55cfa995c2",
   "metadata": {
    "heading_collapsed": true,
    "hidden": true,
    "jp-MarkdownHeadingCollapsed": true,
    "tags": []
   },
   "source": [
    "## Smaller sample size leads to wider bootstrap distribution"
   ]
  },
  {
   "cell_type": "markdown",
   "id": "94003321-69a5-4d78-8221-ec3a67dcf0f3",
   "metadata": {
    "hidden": true
   },
   "source": [
    "This indicates that the wider the bootstrap distribution, the less confident we can be in the discrepancy score measured."
   ]
  },
  {
   "cell_type": "code",
   "execution_count": 134,
   "id": "f6ede0fa-d4bc-4c42-847b-d431f1e08ab6",
   "metadata": {
    "hidden": true
   },
   "outputs": [
    {
     "name": "stderr",
     "output_type": "stream",
     "text": [
      "100%|██████████████████████████████████████| 10000/10000 [00:34<00:00, 294.03it/s]\n",
      "100%|██████████████████████████████████████| 10000/10000 [00:11<00:00, 908.15it/s]\n",
      "100%|█████████████████████████████████████| 10000/10000 [00:01<00:00, 5872.48it/s]\n"
     ]
    },
    {
     "data": {
      "image/png": "[encoded data removed]",
      "text/plain": [
       "<Figure size 360x576 with 3 Axes>"
      ]
     },
     "metadata": {
      "needs_background": "light"
     },
     "output_type": "display_data"
    }
   ],
   "source": [
    "n_samples = [1000, 100, 10]\n",
    "fig, ax = plt.subplots(nrows = 3, ncols = 1, sharex = True, constrained_layout = True, figsize = [5, 8])\n",
    "\n",
    "for i in range(3):\n",
    "    n = n_samples[i]\n",
    "    if n > len(data.wasting_aww):\n",
    "        n = len(data.wasting_aww)\n",
    "    discrepancy_scores = disc_score.bootstrap_distribution(data.wasting_aww[:n], data.wasting_ss[:n], \n",
    "                                                           \"percent_non_match\", n_iterations = 10000,\n",
    "                                                          ax = ax[i])\n",
    "    ax[i].set_title('{0} samples'.format(n))"
   ]
  },
  {
   "cell_type": "markdown",
   "id": "31efd26b-cf53-491c-853a-e7352c5051f6",
   "metadata": {
    "heading_collapsed": true,
    "hidden": true,
    "jp-MarkdownHeadingCollapsed": true,
    "tags": []
   },
   "source": [
    "## Generate a null distribution of discrepancy scores by shuffling indices of supervisor variable"
   ]
  },
  {
   "cell_type": "code",
   "execution_count": 138,
   "id": "82599dbb-ee72-4a5b-9f2d-ce97c3d9f415",
   "metadata": {
    "hidden": true
   },
   "outputs": [
    {
     "name": "stderr",
     "output_type": "stream",
     "text": [
      "100%|██████████████████████████████████████| 10000/10000 [00:14<00:00, 679.26it/s]\n"
     ]
    },
    {
     "data": {
      "image/png": "[encoded data removed]",
      "text/plain": [
       "<Figure size 432x288 with 1 Axes>"
      ]
     },
     "metadata": {
      "needs_background": "light"
     },
     "output_type": "display_data"
    }
   ],
   "source": [
    "discrepancy_scores = disc_score.shuffle_distribution(data.wasting_aww, data.wasting_ss, \"percent_non_match\", n_iterations = 10000)"
   ]
  },
  {
   "cell_type": "markdown",
   "id": "2cf8af07-6c67-432f-b669-51385c426976",
   "metadata": {
    "heading_collapsed": true,
    "hidden": true,
    "jp-MarkdownHeadingCollapsed": true,
    "tags": []
   },
   "source": [
    "## P-value is the proportion of shuffled samples that have a lower discrepancy score than the real samples."
   ]
  },
  {
   "cell_type": "code",
   "execution_count": 140,
   "id": "f7801df9-b397-4a7c-bbfd-4c0628f298a6",
   "metadata": {
    "hidden": true
   },
   "outputs": [
    {
     "name": "stdout",
     "output_type": "stream",
     "text": [
      "0.0\n"
     ]
    }
   ],
   "source": [
    "real_discrepancy_score = disc_score.discrepancy_score(data.wasting_aww, data.wasting_ss, \"percent_non_match\")\n",
    "\n",
    "p_val = disc_score.p_value(discrepancy_scores, real_discrepancy_score)\n",
    "print(p_val)"
   ]
  },
  {
   "cell_type": "markdown",
   "id": "bd4d50c7-be1b-4768-9524-5ca25fadd787",
   "metadata": {
    "heading_collapsed": true,
    "hidden": true,
    "jp-MarkdownHeadingCollapsed": true,
    "tags": []
   },
   "source": [
    "## Smaller sample size leads to larger p-value"
   ]
  },
  {
   "cell_type": "code",
   "execution_count": 143,
   "id": "546cbdf6-1654-41d4-a7cf-8a66a692903a",
   "metadata": {
    "hidden": true
   },
   "outputs": [
    {
     "name": "stderr",
     "output_type": "stream",
     "text": [
      "100%|████████████████████████████████| 10000000/10000000 [4:17:32<00:00, 647.14it/s]\n",
      "100%|█████████████████████████| 10000000/10000000 [1:08:53<00:00, 2419.29it/s]\n",
      "100%|███████████████████████████| 10000000/10000000 [17:44<00:00, 9395.77it/s]\n"
     ]
    },
    {
     "data": {
      "image/png": "[encoded data removed]",
      "text/plain": [
       "<Figure size 360x576 with 3 Axes>"
      ]
     },
     "metadata": {
      "needs_background": "light"
     },
     "output_type": "display_data"
    }
   ],
   "source": [
    "n_samples = [1000, 100, 10]\n",
    "fig, ax = plt.subplots(nrows = 3, ncols = 1, sharex = True, constrained_layout = True, figsize = [5, 8])\n",
    "\n",
    "for i in range(3):\n",
    "    n = n_samples[i]\n",
    "    if n > len(data.wasting_aww):\n",
    "        n = len(data.wasting_aww)\n",
    "    discrepancy_scores = disc_score.shuffle_distribution(data.wasting_aww[:n], data.wasting_ss[:n], \n",
    "                                                           \"percent_non_match\", n_iterations = 1000,\n",
    "                                                          ax = ax[i])\n",
    "    real_discrepancy_score = disc_score.discrepancy_score(data.wasting_aww[:n], data.wasting_ss[:n], \"percent_non_match\")\n",
    "    \n",
    "    p_value = disc_score.p_value(discrepancy_scores, real_discrepancy_score)\n",
    "    \n",
    "    ax[i].set_title('{0} samples: p-value = {1}'.format(n, p_value))"
   ]
  },
  {
   "cell_type": "markdown",
   "id": "1c3c304f-58b6-4bb7-9e2a-c245957b5e81",
   "metadata": {},
   "source": [
    "# Find number of samples required to detect certain discrepancy"
   ]
  },
  {
   "cell_type": "markdown",
   "id": "9ccaae55-d1b3-49e4-956e-ba1c92965446",
   "metadata": {},
   "source": [
    "Note: this only applies to discrete variables where there are two possible outcomes for each entry: matching or not matching, between subordinate and supervisor. "
   ]
  },
  {
   "cell_type": "markdown",
   "id": "03013254-781c-4db4-969b-0d4ed0de0a4a",
   "metadata": {},
   "source": [
    "We will model discrepancy of a discrete variable as a binomial random variable with n samples and probability of success = d (here, success means non-matching values between subordinate and supervisor). That is, the \"true discrepancy score\" is d. "
   ]
  },
  {
   "cell_type": "markdown",
   "id": "1a1a33ac-a99b-48f8-9ff9-6769d0d06563",
   "metadata": {},
   "source": [
    "Then the observed discrepancy score is a random variable drawn from the distribution binomial(n, d). Let us see what this distribution looks like:"
   ]
  },
  {
   "cell_type": "code",
   "execution_count": 28,
   "id": "800b5de2-5677-47d9-9b83-acb0ddd20a2e",
   "metadata": {},
   "outputs": [
    {
     "data": {
      "text/plain": [
       "<matplotlib.legend.Legend at 0x12a8a4310>"
      ]
     },
     "execution_count": 28,
     "metadata": {},
     "output_type": "execute_result"
    },
    {
     "data": {
      "image/png": "[encoded data removed]",
      "text/plain": [
       "<Figure size 432x288 with 1 Axes>"
      ]
     },
     "metadata": {
      "needs_background": "light"
     },
     "output_type": "display_data"
    }
   ],
   "source": [
    "n = 100 # Number of samples\n",
    "d = 0.2 # 'True' discrepancy score of this worker: 20% of samples are mismatching with supervisor.\n",
    "x = np.linspace(1, n, 100) \n",
    "\n",
    "plt.figure()\n",
    "plt.plot(x/n, binom.pmf(x, n, d))\n",
    "plt.xlabel('Observed discrepancy score')\n",
    "plt.ylabel('Probability')\n",
    "plt.plot([d, d], plt.ylim(), label = 'True discrepancy score')\n",
    "plt.legend()"
   ]
  },
  {
   "cell_type": "markdown",
   "id": "25309b80-bd36-463c-92b0-2f410b3b8c52",
   "metadata": {},
   "source": [
    "If we increase the number of samples, the distribution of observed discrepancy scores will be 'tighter' around the true discrepancy score. "
   ]
  },
  {
   "cell_type": "code",
   "execution_count": 34,
   "id": "4e6cd68d-9690-4334-9533-54e0beaab8a5",
   "metadata": {},
   "outputs": [
    {
     "data": {
      "text/plain": [
       "<matplotlib.legend.Legend at 0x12a872b50>"
      ]
     },
     "execution_count": 34,
     "metadata": {},
     "output_type": "execute_result"
    },
    {
     "data": {
      "image/png": "[encoded data removed]",
      "text/plain": [
       "<Figure size 432x288 with 1 Axes>"
      ]
     },
     "metadata": {
      "needs_background": "light"
     },
     "output_type": "display_data"
    }
   ],
   "source": [
    "d = 0.2 # 'True' discrepancy score of this worker: 20% of samples are mismatching with supervisor.\n",
    "\n",
    "plt.figure()\n",
    "\n",
    "for n in (100, 500, 10000):\n",
    "    \n",
    "    x = np.linspace(1, n, 100).astype(int)\n",
    "    prob = binom.pmf(x, n, d)\n",
    "    plt.plot(x/n, prob, label = '{0} samples'.format(n))\n",
    "    \n",
    "plt.xlabel('Observed discrepancy score')\n",
    "plt.ylabel('Probability')\n",
    "plt.plot([d, d], plt.ylim(), label = 'True discrepancy score')\n",
    "plt.legend()"
   ]
  },
  {
   "cell_type": "markdown",
   "id": "6ef72bca-c910-4a74-9f52-a22dcbce7842",
   "metadata": {},
   "source": [
    "We will now define a threshold of discrepancy score, below which workers will be classified as 'green band'. "
   ]
  },
  {
   "cell_type": "code",
   "execution_count": 35,
   "id": "9ad77ff7-9a68-404b-9da4-a92482d0c3f3",
   "metadata": {},
   "outputs": [],
   "source": [
    "t1 = 0.3 # Threshold for green band (workers with discrepancy score < 0.3 are in green band)"
   ]
  },
  {
   "cell_type": "markdown",
   "id": "05ceae5e-029d-46cd-9e0a-66dd3e4a3590",
   "metadata": {},
   "source": [
    "The cdf of the binomial distribution gives the probability of classifying our worker above, with true discrepancy d = 0.2, as a green band worker. "
   ]
  },
  {
   "cell_type": "code",
   "execution_count": 59,
   "id": "3de8b01f-3606-4d20-9a58-e0c137f2acef",
   "metadata": {},
   "outputs": [
    {
     "data": {
      "text/plain": [
       "<matplotlib.legend.Legend at 0x12b32cc90>"
      ]
     },
     "execution_count": 59,
     "metadata": {},
     "output_type": "execute_result"
    },
    {
     "data": {
      "image/png": "[encoded data removed]",
      "text/plain": [
       "<Figure size 432x288 with 1 Axes>"
      ]
     },
     "metadata": {
      "needs_background": "light"
     },
     "output_type": "display_data"
    }
   ],
   "source": [
    "d = 0.28\n",
    "t = np.linspace(0, 1, 100)\n",
    "plt.figure()\n",
    "\n",
    "for n in (50, 100, 500, 10000):\n",
    "\n",
    "    prob = binom.cdf(t*n, n, d)\n",
    "    plt.plot(t, prob, label = '{0} samples'.format(n))\n",
    "    \n",
    "plt.xlabel('Green band threshold', fontsize = 15)\n",
    "plt.ylabel('Probability of classifying\\nworker with true score = {0}\\nin green band'.format(d), fontsize = 15)\n",
    "plt.legend()\n"
   ]
  },
  {
   "cell_type": "markdown",
   "id": "75133354-3d00-4fda-b73a-bc79f5580195",
   "metadata": {},
   "source": [
    "Let us zoom in around the threshold t1 = 0.3"
   ]
  },
  {
   "cell_type": "code",
   "execution_count": 62,
   "id": "63899a95-ce6a-4779-98b4-01d3a0ae2c18",
   "metadata": {},
   "outputs": [
    {
     "data": {
      "text/plain": [
       "<matplotlib.legend.Legend at 0x12b434310>"
      ]
     },
     "execution_count": 62,
     "metadata": {},
     "output_type": "execute_result"
    },
    {
     "data": {
      "image/png": "[encoded data removed]",
      "text/plain": [
       "<Figure size 432x288 with 1 Axes>"
      ]
     },
     "metadata": {
      "needs_background": "light"
     },
     "output_type": "display_data"
    }
   ],
   "source": [
    "t = np.linspace(0, 1, 100)\n",
    "plt.figure()\n",
    "\n",
    "for n in (50, 100, 500, 10000):\n",
    "\n",
    "    prob = binom.cdf(t*n, n, d)\n",
    "    plt.plot(t, prob, label = '{0} samples'.format(n))\n",
    "    \n",
    "plt.xlim((0.2, 0.35))\n",
    "plt.plot((t1, t1), plt.ylim(), color = 'k', linestyle = '--')\n",
    "plt.xlabel('Green band threshold', fontsize = 15)\n",
    "plt.ylabel('Probability of classifying\\nworker with true score = {0}\\nin green band'.format(d), fontsize = 15)\n",
    "plt.legend()\n"
   ]
  },
  {
   "cell_type": "markdown",
   "id": "0a44db14-3229-4cce-a058-cb71a634675a",
   "metadata": {},
   "source": [
    "We can see that the probability of classifying this worker as green increases with the sample size, which makes sense, because more samples means our estimate of the discrepancy score will be closer to the true discrepancy score. In particular, the probabilities are:"
   ]
  },
  {
   "cell_type": "code",
   "execution_count": 63,
   "id": "d257284f-3998-441f-bda4-7f34d2d97593",
   "metadata": {},
   "outputs": [
    {
     "name": "stdout",
     "output_type": "stream",
     "text": [
      "50 samples: probability = 0.6878985972817714\n",
      "100 samples: probability = 0.7149122007480799\n",
      "500 samples: probability = 0.8520470694882497\n",
      "10000 samples: probability = 0.9999954133880968\n"
     ]
    }
   ],
   "source": [
    "for n in (50, 100, 500, 10000):\n",
    "\n",
    "    print('{0} samples: probability = {1}'.format(n, binom.cdf(int(t1*n), n, d)))"
   ]
  },
  {
   "cell_type": "markdown",
   "id": "72488fd3-699a-433b-b838-10ef8c496b80",
   "metadata": {},
   "source": [
    "Let's say we want to figure out the appropriate number of samples to get good classification. Let us define an 'accuracy' a = 0.02, and say that if the true discrepancy score is less than t1 - a, we would like to classify this worker as green band with high probability. Let that probability be 90%, or 0.9. \n",
    "\n",
    "Then, we can find the minimum number of samples for which true discrepancy score of 0.28 (or lower) will be classified as green band with probability 0.9.\n",
    "\n",
    "To do this, we will set some initial values of n (two guesses) and calculate the probability. Then we will do a binary search: if the probability is < 0.9, we will double n and if the probability is > 0.9, we will make n half until we get close enough to the desired probability 0.9."
   ]
  },
  {
   "cell_type": "code",
   "execution_count": 81,
   "id": "1980c470-9838-4bed-8423-63cf00c3ccf9",
   "metadata": {},
   "outputs": [
    {
     "name": "stdout",
     "output_type": "stream",
     "text": [
      "To correctly classify workers with discrepancy score < 0.27999999999999997 90% of the time, 856 samples are required.\n"
     ]
    }
   ],
   "source": [
    "a = 0.02 # Desired accuracy\n",
    "tolerance = 0.001 # Looking for probability between 0.899 and 0.901 \n",
    "n_high = 5000 # Initial high guess for n\n",
    "n_low = 50 # Initial low guess for n \n",
    "p_high = binom.cdf(int(t1*n_high), n_high, t1 - a)\n",
    "p_low = binom.cdf(int(t1*n_low), n_low, t1 - a)\n",
    "p = 0.9 # Desired probability of correct classification\n",
    "\n",
    "# assert(p_low < p < p_high)\n",
    "\n",
    "while np.abs(p_high - p) > tolerance and n_low < n_high + 1:\n",
    "\n",
    "    if p_high > p:\n",
    "        if p_low > p:\n",
    "            n_high = n_low\n",
    "            n_low = n_low/2\n",
    "        else:\n",
    "            # n_high = int((n_high + n_low)/2)\n",
    "            n_mid = int((n_high + n_low)/2)\n",
    "            p_mid = binom.cdf(int(t1*n_mid), n_mid, t1 - a)\n",
    "            if(p_mid > p):\n",
    "                n_high = n_mid\n",
    "            else:\n",
    "                n_low = n_mid\n",
    "\n",
    "    else:\n",
    "        n_low = n_high\n",
    "        n_high = int(n_high*2)\n",
    "        \n",
    "    p_high = binom.cdf(int(t1*n_high), n_high, t1 - a)\n",
    "    p_low = binom.cdf(int(t1*n_low), n_low, t1 - a)\n",
    "    \n",
    "    \n",
    "print('To correctly classify workers with discrepancy score < {0} {1}% of the time, {2} samples are required.'.format(t1 - a, int(p*100), n_high))\n"
   ]
  },
  {
   "cell_type": "markdown",
   "id": "1e227963-1f31-480b-a045-a5a647d86ec4",
   "metadata": {},
   "source": [
    "Separately, we will have a threshold above which workers will be classified as 'red band'."
   ]
  },
  {
   "cell_type": "code",
   "execution_count": 75,
   "id": "224d5edc-2510-458e-b676-45329a4e778d",
   "metadata": {},
   "outputs": [
    {
     "data": {
      "text/plain": [
       "<matplotlib.legend.Legend at 0x12b47c310>"
      ]
     },
     "execution_count": 75,
     "metadata": {},
     "output_type": "execute_result"
    },
    {
     "data": {
      "image/png": "[encoded data removed]",
      "text/plain": [
       "<Figure size 432x288 with 1 Axes>"
      ]
     },
     "metadata": {
      "needs_background": "light"
     },
     "output_type": "display_data"
    }
   ],
   "source": [
    "t2 = 0.7 # Threshold for red band (workers with discrepancy score > 0.7 are in red band)\n",
    "d = 0.72\n",
    "t = np.linspace(0, 1, 100)\n",
    "plt.figure()\n",
    "\n",
    "for n in (50, 100, 500, 10000):\n",
    "\n",
    "    prob = 1 - binom.cdf(t*n, n, d)\n",
    "    plt.plot(t, prob, label = '{0} samples'.format(n))\n",
    "    \n",
    "plt.xlim((0.6, 0.8))\n",
    "plt.plot((t2, t2), plt.ylim(), color = 'k', linestyle = '--')\n",
    "plt.xlabel('Red band threshold', fontsize = 15)\n",
    "plt.ylabel('Probability of classifying\\nworker with true score = {0}\\nin red band'.format(d), fontsize = 15)\n",
    "plt.legend()"
   ]
  },
  {
   "cell_type": "code",
   "execution_count": 76,
   "id": "7bdffb61-aba9-473e-93c2-89e273d0b625",
   "metadata": {},
   "outputs": [
    {
     "name": "stdout",
     "output_type": "stream",
     "text": [
      "50 samples: probability = 0.571392016126593\n",
      "100 samples: probability = 0.6362159151362563\n",
      "500 samples: probability = 0.8281898755916329\n",
      "10000 samples: probability = 0.9999949221278859\n"
     ]
    }
   ],
   "source": [
    "for n in (50, 100, 500, 10000):\n",
    "\n",
    "    print('{0} samples: probability = {1}'.format(n, 1 - binom.cdf(int(t2*n), n, d)))"
   ]
  },
  {
   "cell_type": "code",
   "execution_count": 82,
   "id": "d9ca5002-3980-49f1-aa1a-db19b8ca0be1",
   "metadata": {},
   "outputs": [
    {
     "name": "stdout",
     "output_type": "stream",
     "text": [
      "To correctly classify workers with discrepancy score > 0.72 90% of the time, 866 samples are required.\n"
     ]
    }
   ],
   "source": [
    "a = 0.02 # Desired accuracy\n",
    "tolerance = 0.001 # Looking for probability between 0.899 and 0.901 \n",
    "n_high = 100 # Initial high guess for n\n",
    "n_low = 50 # Initial low guess for n \n",
    "p_high = 1 - binom.cdf(int(t2*n_high), n_high, t2 + a)\n",
    "p_low = 1 - binom.cdf(int(t2*n_low), n_low, t2 + a)\n",
    "p = 0.9 # Desired probability of correct classification\n",
    "\n",
    "while np.abs(p_high - p) > tolerance:\n",
    "\n",
    "    if p_high > p:\n",
    "        if p_low > p:\n",
    "            n_high = n_low\n",
    "            n_low = n_low/2\n",
    "        else:\n",
    "            n_high = int((n_high + n_low)/2)\n",
    "    else:\n",
    "        n_low = n_high\n",
    "        n_high = int(n_high*2)\n",
    "        \n",
    "    p_high = 1 - binom.cdf(int(t2*n_high), n_high, t2 + a)\n",
    "    p_low = 1 - binom.cdf(int(t2*n_low), n_low, t2 + a)\n",
    "    \n",
    "    \n",
    "print('To correctly classify workers with discrepancy score > {0} {1}% of the time, {2} samples are required.'.format(t2 + a, int(p*100), n_high))\n"
   ]
  },
  {
   "cell_type": "markdown",
   "id": "500b15a4-e9de-47c9-9758-840da17b369e",
   "metadata": {},
   "source": [
    "Now if we want both these conditions to be satisfied simultaneously, we cannot enforce the tolerance on the upper side (i.e. we cannot get minimum number of samples for both conditions). "
   ]
  },
  {
   "cell_type": "code",
   "execution_count": 104,
   "id": "ee75d5f5-e253-4fd8-92a6-62acc66e36ea",
   "metadata": {},
   "outputs": [
    {
     "name": "stdout",
     "output_type": "stream",
     "text": [
      "To correctly classify workers with discrepancy score < 0.27999999999999997 and workers with discrepancy score > 0.72 90% of the time, 830 samples are required.\n"
     ]
    }
   ],
   "source": [
    "a = 0.02 # Desired accuracy\n",
    "tolerance = 0.001 # Looking for probability greater than 0.899 for both conditions \n",
    "\n",
    "n_high = 100000 # Initial high guess for n\n",
    "n_low = 1 # Initial low guess for n \n",
    "\n",
    "t1 = 0.3 # Green band threshold\n",
    "t2 = 0.7 # Red band threshold\n",
    "\n",
    "p_high1 = binom.cdf(int(t1*n_high), n_high, t1 - a)\n",
    "p_low1 = binom.cdf(int(t1*n_low), n_low, t1 - a)\n",
    "\n",
    "p_high2 = 1 - binom.cdf(int(t2*n_high), n_high, t2 + a)\n",
    "p_low2 = 1 - binom.cdf(int(t2*n_low), n_low, t2 + a)\n",
    "\n",
    "p = 0.9 # Desired probability of correct classification\n",
    "\n",
    "while np.logical_or(p_high1 > p, p_high2 > p):\n",
    "    \n",
    "    if p_low1 > p:\n",
    "        if p_low2 > p:\n",
    "            n_high = n_low\n",
    "            n_low = int(n_low/2)\n",
    "        else:\n",
    "            n_high = int((n_high + n_low)/2)\n",
    "    else:\n",
    "        n_high = int((n_high + n_low)/2)\n",
    "        \n",
    "    p_high1 = binom.cdf(int(t1*n_high), n_high, t1 - a)\n",
    "    p_low1 = binom.cdf(int(t1*n_low), n_low, t1 - a)\n",
    "\n",
    "    p_high2 = 1 - binom.cdf(int(t2*n_high), n_high, t2 + a)\n",
    "    p_low2 = 1 - binom.cdf(int(t2*n_low), n_low, t2 + a)\n",
    "    \n",
    "    if np.logical_and(p_high1 < p, p_high2 < p):\n",
    "        n_low = n_high\n",
    "        n_high = int(2*n_high)\n",
    "    \n",
    "        p_high1 = binom.cdf(int(t1*n_high), n_high, t1 - a)\n",
    "        p_low1 = binom.cdf(int(t1*n_low), n_low, t1 - a)\n",
    "\n",
    "        p_high2 = 1 - binom.cdf(int(t2*n_high), n_high, t2 + a)\n",
    "        p_low2 = 1 - binom.cdf(int(t2*n_low), n_low, t2 + a)\n",
    "    \n",
    "    if np.logical_or(p_high1 <= p - tolerance, p_high2 <= p - tolerance):\n",
    "        break\n",
    "        \n",
    "print('To correctly classify workers with discrepancy score < {0} and workers with discrepancy score > {1} {2}% of the time, {3} samples are required.'.format(t1 - a, t2 + a, int(p*100), n_high))\n"
   ]
  },
  {
   "cell_type": "code",
   "execution_count": null,
   "id": "6dca5296-0217-40da-9f66-39ddfe9ea968",
   "metadata": {},
   "outputs": [],
   "source": []
  }
 ],
 "metadata": {
  "celltoolbar": "Initialization Cell",
  "kernelspec": {
   "display_name": "discscsim",
   "language": "python",
   "name": "discscsim"
  },
  "language_info": {
   "codemirror_mode": {
    "name": "ipython",
    "version": 3
   },
   "file_extension": ".py",
   "mimetype": "text/x-python",
   "name": "python",
   "nbconvert_exporter": "python",
   "pygments_lexer": "ipython3",
   "version": "3.11.3"
  },
  "toc": {
   "nav_menu": {},
   "number_sections": true,
   "sideBar": true,
   "skip_h1_title": false,
   "toc_cell": false,
   "toc_position": {},
   "toc_section_display": "block",
   "toc_window_display": true
  }
 },
 "nbformat": 4,
 "nbformat_minor": 5
}
